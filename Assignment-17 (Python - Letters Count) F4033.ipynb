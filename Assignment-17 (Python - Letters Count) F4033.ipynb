{
 "cells": [
  {
   "cell_type": "markdown",
   "id": "b9f65f55-67ee-473d-84fd-7813bbbcd150",
   "metadata": {},
   "source": [
    "Task:\n",
    "\n",
    "Count the number of each letter in a sentence.\n",
    "The department you work for undertook a project construction that makes word / text analysis. You are asked to calculate the number of letters or any chars in the sentences entered under this project.\n",
    "\n",
    "Write a Python program that;\n",
    "\n",
    "- takes a sentence from the user,\n",
    "- counts the number of each letter/chars of the sentence,\n",
    "- collects the letters/chars as a key and the counted numbers as a value in a dictionary."
   ]
  },
  {
   "cell_type": "code",
   "execution_count": 28,
   "id": "8fd90fdb-587d-4e9c-a54d-ae73ad657c0b",
   "metadata": {},
   "outputs": [
    {
     "name": "stdin",
     "output_type": "stream",
     "text": [
      "Enter a sentence:  Bunun harflerini sayabilirsin\n"
     ]
    },
    {
     "name": "stdout",
     "output_type": "stream",
     "text": [
      "[1, 2, 4, 2, 4, 2, 1, 3, 3, 1, 2, 1, 3, 5, 4, 5, 2, 2, 3, 1, 3, 1, 5, 2, 5, 3, 2, 5, 4]\n",
      "{'e': 1, 'B': 1, 'i': 5, 's': 2, 'b': 1, 'n': 4, 'u': 2, 'h': 1, 'l': 2, 'a': 3, ' ': 2, 'y': 1, 'r': 3, 'f': 1}\n"
     ]
    }
   ],
   "source": [
    "user_sent = input(\"Enter a sentence: \")  # kullanıcıdan bir cümle alırım\n",
    "user_sent_list = list(user_sent)  # lst() ile bu cümleyi tüm elemanlarına ayırır ve list'te gosteririm\n",
    "liste = []  \n",
    "\n",
    "for i in user_sent_list:  # bu for loopda tüm elemanların sırasıyla kacar defa gectigini gostermek icin her\n",
    "    # indeksi count eder, her birinin kac tane oldugunu liste isimli liste alırım.\n",
    "    liste.append(user_sent_list.count(i))\n",
    "print(liste)  # her harfin kac tane oldugunu gostermek icin bu print \n",
    "zipped = zip(user_sent_list, liste)  # daha sonra harflerden ve kacar tane olduklarına dair numaralardan oluşan bu iki listeyi ziplerim.\n",
    "\n",
    "# aynı olan karakterleri collectiondan cikarmak icin zipped'i önce set's sonra task'da istenen dict'e ceviririm.\n",
    "dict_result = dict(set(zipped))\n",
    "print(dict_result)"
   ]
  },
  {
   "cell_type": "code",
   "execution_count": 3,
   "id": "632e5dce-a652-4a66-9884-fbc5b2b4f185",
   "metadata": {},
   "outputs": [
    {
     "name": "stdout",
     "output_type": "stream",
     "text": [
      "{'I': 1, ' ': 16, 'a': 5, 'm': 3, 'v': 1, 'e': 8, 'r': 4, 'y': 2, 's': 3, 'd': 2, 't': 10, 'o': 4, '.': 3, 'i': 4, \"'\": 1, 'p': 1, 'w': 2, 'l': 3, 'b': 1, 'g': 1, 'h': 2, 'f': 1}\n"
     ]
    }
   ],
   "source": [
    "# another solution\n",
    "\n",
    "string = \"I am very sad today. it's time to part. we will be together for the last time.\"\n",
    "\n",
    "word_dict = {}\n",
    "\n",
    "for n in string:\n",
    "    \n",
    "    if n in word_dict:\n",
    "        word_dict[n] += 1\n",
    "        \n",
    "    else:\n",
    "        word_dict[n] = 1\n",
    "        \n",
    "print(word_dict)"
   ]
  },
  {
   "cell_type": "code",
   "execution_count": null,
   "id": "7d6ed984-1284-4a77-b723-c7cd3311d0c9",
   "metadata": {},
   "outputs": [],
   "source": []
  }
 ],
 "metadata": {
  "kernelspec": {
   "display_name": "Python 3 (ipykernel)",
   "language": "python",
   "name": "python3"
  },
  "language_info": {
   "codemirror_mode": {
    "name": "ipython",
    "version": 3
   },
   "file_extension": ".py",
   "mimetype": "text/x-python",
   "name": "python",
   "nbconvert_exporter": "python",
   "pygments_lexer": "ipython3",
   "version": "3.9.12"
  }
 },
 "nbformat": 4,
 "nbformat_minor": 5
}

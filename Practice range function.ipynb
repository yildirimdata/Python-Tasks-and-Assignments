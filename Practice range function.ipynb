{
 "cells": [
  {
   "cell_type": "markdown",
   "id": "64e22a1e-c5f4-479f-817a-a8111c39a349",
   "metadata": {},
   "source": [
    "# Practice range()\n",
    "\n",
    "source : https://holypython.com/beginner-python-exercises/exercise-14-range-function/"
   ]
  },
  {
   "cell_type": "markdown",
   "id": "33ee0080-96e5-45ba-94cc-b58f7f2c351e",
   "metadata": {},
   "source": [
    "TASK 1: Create a range from 0 to 50, excluding 50."
   ]
  },
  {
   "cell_type": "code",
   "execution_count": 4,
   "id": "71570230-8215-45ab-8974-a499806a271c",
   "metadata": {},
   "outputs": [
    {
     "name": "stdout",
     "output_type": "stream",
     "text": [
      "[0, 1, 2, 3, 4, 5, 6, 7, 8, 9, 10, 11, 12, 13, 14, 15, 16, 17, 18, 19, 20, 21, 22, 23, 24, 25, 26, 27, 28, 29, 30, 31, 32, 33, 34, 35, 36, 37, 38, 39, 40, 41, 42, 43, 44, 45, 46, 47, 48, 49]\n"
     ]
    }
   ],
   "source": [
    "numbers = list(range(50))\n",
    "print(numbers)"
   ]
  },
  {
   "cell_type": "markdown",
   "id": "fb9b9905-d135-474b-941d-365822f00d81",
   "metadata": {},
   "source": [
    "TASK 2: Create a range from 0 to 10 with steps of 2."
   ]
  },
  {
   "cell_type": "code",
   "execution_count": 5,
   "id": "56fcf523-48d0-41f3-84a4-8b1a9442ae13",
   "metadata": {},
   "outputs": [
    {
     "name": "stdout",
     "output_type": "stream",
     "text": [
      "[0, 2, 4, 6, 8]\n"
     ]
    }
   ],
   "source": [
    "print(list(range(0,10,2)))"
   ]
  },
  {
   "cell_type": "markdown",
   "id": "7d7863fd-0d12-442e-a24b-9fce25e07dfe",
   "metadata": {},
   "source": [
    "TASK 3: Create a range from 100 to 160 with steps of 10. Then print it as a list."
   ]
  },
  {
   "cell_type": "code",
   "execution_count": 7,
   "id": "7eeeda7c-1784-447a-81e6-53f4c9f0baf5",
   "metadata": {},
   "outputs": [
    {
     "name": "stdout",
     "output_type": "stream",
     "text": [
      "[100, 110, 120, 130, 140, 150, 160]\n"
     ]
    }
   ],
   "source": [
    "print(list(range(100,161,10)))"
   ]
  },
  {
   "cell_type": "markdown",
   "id": "c1bca81f-7ca0-478d-bd87-340d41d7d6c3",
   "metadata": {},
   "source": [
    "TASK 3: Can you you create a list from 1300 to 700 with descending steps of 100? Is your stop value included in the list?"
   ]
  },
  {
   "cell_type": "code",
   "execution_count": 10,
   "id": "8889d3f1-bad7-430d-9ac6-046150d3e4b9",
   "metadata": {},
   "outputs": [
    {
     "name": "stdout",
     "output_type": "stream",
     "text": [
      "[1300, 1200, 1100, 1000, 900, 800]\n"
     ]
    }
   ],
   "source": [
    "print(list(range(1300,700,-100)))\n",
    "# range function can take negative steps too"
   ]
  },
  {
   "cell_type": "markdown",
   "id": "fe28f3c7-b2ff-48ab-ad17-c3ccfaf12508",
   "metadata": {},
   "source": [
    "TASK 4: Can you you create a list from 1300 to 700 with descending steps of 100, this time including 700?"
   ]
  },
  {
   "cell_type": "code",
   "execution_count": 11,
   "id": "ea932cd0-8522-4d2a-a4ea-81ed92a21283",
   "metadata": {},
   "outputs": [
    {
     "name": "stdout",
     "output_type": "stream",
     "text": [
      "[1300, 1200, 1100, 1000, 900, 800, 700]\n"
     ]
    }
   ],
   "source": [
    "print(list(range(1300,699,-100)))"
   ]
  },
  {
   "cell_type": "code",
   "execution_count": null,
   "id": "e6d16b5e-265b-4979-81ec-ef457f2d3f1d",
   "metadata": {},
   "outputs": [],
   "source": []
  }
 ],
 "metadata": {
  "kernelspec": {
   "display_name": "Python 3 (ipykernel)",
   "language": "python",
   "name": "python3"
  },
  "language_info": {
   "codemirror_mode": {
    "name": "ipython",
    "version": 3
   },
   "file_extension": ".py",
   "mimetype": "text/x-python",
   "name": "python",
   "nbconvert_exporter": "python",
   "pygments_lexer": "ipython3",
   "version": "3.9.12"
  }
 },
 "nbformat": 4,
 "nbformat_minor": 5
}

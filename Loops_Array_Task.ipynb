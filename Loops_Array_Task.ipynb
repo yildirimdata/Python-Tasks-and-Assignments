{
 "cells": [
  {
   "cell_type": "markdown",
   "id": "a74e08f8-7096-489e-a781-7872d6d83ebf",
   "metadata": {},
   "source": [
    "# Task for Loops and Array Creating&appending"
   ]
  },
  {
   "cell_type": "code",
   "execution_count": 1,
   "id": "08a03a37-7cd8-475f-a08d-0fcaffea004e",
   "metadata": {},
   "outputs": [
    {
     "name": "stdin",
     "output_type": "stream",
     "text": [
      "Enter a number for the length of the array:  5\n",
      "Enter the next number 23\n",
      "Enter the next number 45\n",
      "Enter the next number 65\n",
      "Enter the next number 43\n",
      "Enter the next number 56\n"
     ]
    },
    {
     "name": "stdout",
     "output_type": "stream",
     "text": [
      "[23. 45. 65. 43. 56.]\n"
     ]
    },
    {
     "name": "stdin",
     "output_type": "stream",
     "text": [
      "check it 65\n"
     ]
    },
    {
     "name": "stdout",
     "output_type": "stream",
     "text": [
      "2\n"
     ]
    }
   ],
   "source": [
    "# Task: \n",
    "# Create an array with the following info given by the user:\n",
    "\n",
    "# 1. user will say how many elements the array will contain\n",
    "# 2. afterthat user will give the numbers one by one which we'll take into array\n",
    "# 3. after creating array, take a number from the user to show the index number of this number \n",
    "# 4. bring the index number with a loop.\n",
    "\n",
    "import numpy as np\n",
    "\n",
    "user = int(input(\"Enter a number for the length of the array: \"))\n",
    "\n",
    "arr = np.array([])\n",
    "\n",
    "for i in range(user):\n",
    "    \n",
    "    arr = np.append(arr, int(input(\"Enter the next number\")))\n",
    "    \n",
    "print(arr)\n",
    "\n",
    "k = int(input(\"check it\"))\n",
    "c = 0\n",
    "for e in arr:\n",
    "    if e == k:\n",
    "        print(c)\n",
    "        break\n",
    "    c += 1"
   ]
  },
  {
   "cell_type": "code",
   "execution_count": null,
   "id": "47dd2011-a740-4ce4-9319-d3dd82b90b82",
   "metadata": {},
   "outputs": [],
   "source": []
  }
 ],
 "metadata": {
  "kernelspec": {
   "display_name": "Python 3 (ipykernel)",
   "language": "python",
   "name": "python3"
  },
  "language_info": {
   "codemirror_mode": {
    "name": "ipython",
    "version": 3
   },
   "file_extension": ".py",
   "mimetype": "text/x-python",
   "name": "python",
   "nbconvert_exporter": "python",
   "pygments_lexer": "ipython3",
   "version": "3.9.12"
  }
 },
 "nbformat": 4,
 "nbformat_minor": 5
}

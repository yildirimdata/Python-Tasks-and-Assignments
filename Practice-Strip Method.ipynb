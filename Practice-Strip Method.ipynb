{
 "cells": [
  {
   "cell_type": "markdown",
   "id": "5d96926e-d965-4679-bb57-ef8c1a996b64",
   "metadata": {},
   "source": [
    "# STRIP method"
   ]
  },
  {
   "cell_type": "code",
   "execution_count": null,
   "id": "bebb897a-178d-41e3-b46f-3ac1adca9804",
   "metadata": {},
   "outputs": [],
   "source": []
  },
  {
   "cell_type": "code",
   "execution_count": 7,
   "id": "66eabd67-5331-480d-a088-34e462764c60",
   "metadata": {},
   "outputs": [
    {
     "name": "stdout",
     "output_type": "stream",
     "text": [
      "Hello World!\n",
      "Hello World!\n"
     ]
    }
   ],
   "source": [
    "# TASK 1: Use strip method to strip the whitespaces on both sides of the string.\n",
    "\n",
    "text = \"     Hello World!   \"\n",
    "\n",
    "text = text.strip()\n",
    "print(text)\n",
    "#or \n",
    "print(\"     Hello World!   \".strip())\n",
    "\n"
   ]
  },
  {
   "cell_type": "markdown",
   "id": "17cbbd08-462f-4b16-b0b6-d56f6b530ad0",
   "metadata": {},
   "source": [
    "**strip() Parameters**\n",
    "\n",
    "chars (optional) - a string specifying the set of characters to be removed from the left and right part of the string.\n",
    "The strip() method removes characters from both left and right based on the argument (a string specifying the set of characters to be removed).\n",
    "\n",
    "Note: If the chars argument is not provided, all leading and trailing whitespaces are removed from the string.\n",
    "\n",
    "Source: https://www.programiz.com/python-programming/methods/string/strip"
   ]
  },
  {
   "cell_type": "code",
   "execution_count": 8,
   "id": "21d47ffc-8a7e-4ef7-bf93-afb47276a9b3",
   "metadata": {},
   "outputs": [
    {
     "name": "stdout",
     "output_type": "stream",
     "text": [
      "xoxo love xoxo\n"
     ]
    }
   ],
   "source": [
    "string = '  xoxo love xoxo   '\n",
    "\n",
    "print(string.strip())"
   ]
  },
  {
   "cell_type": "code",
   "execution_count": 12,
   "id": "5a3a1654-2b4f-47f0-8160-f5932d25cc48",
   "metadata": {},
   "outputs": [
    {
     "name": "stdout",
     "output_type": "stream",
     "text": [
      "lov\n",
      "  xoxo love xoxo   \n"
     ]
    }
   ],
   "source": [
    "# We can also change the default value \" \" of strip method. For example:\n",
    "\n",
    "# All <whitespace>,x,o,e characters in the left and right of string are removed\n",
    "\n",
    "string = \"xoxo love xoxo\"\n",
    "\n",
    "print(string.strip(\" xoe\"))\n",
    "\n"
   ]
  },
  {
   "cell_type": "code",
   "execution_count": 13,
   "id": "fbebfaa6-2bc3-4fff-9f13-391093343626",
   "metadata": {},
   "outputs": [
    {
     "name": "stdout",
     "output_type": "stream",
     "text": [
      "  xoxo love xoxo   \n"
     ]
    }
   ],
   "source": [
    "# if argument doesn't contain whitespace;\n",
    "string = '  xoxo love xoxo   '\n",
    "print(string.strip('stx'))"
   ]
  },
  {
   "cell_type": "code",
   "execution_count": 16,
   "id": "2c3089db-a6ee-4720-b0de-122abd9aedee",
   "metadata": {},
   "outputs": [
    {
     "name": "stdout",
     "output_type": "stream",
     "text": [
      "today is day \n",
      "day is day to\n"
     ]
    }
   ],
   "source": [
    "# to remove whitespaces or specific characters from right or left, we use rstrip or lstrip\n",
    "\n",
    "string = \"today is day to\"\n",
    "\n",
    "print(string.rstrip(\"to\"))\n",
    "\n",
    "string = \"today is day to\"\n",
    "\n",
    "print(string.lstrip(\"to\"))"
   ]
  },
  {
   "cell_type": "code",
   "execution_count": null,
   "id": "0eeb4fab-b401-4361-ae17-ebf14811ca8e",
   "metadata": {},
   "outputs": [],
   "source": []
  }
 ],
 "metadata": {
  "kernelspec": {
   "display_name": "Python 3 (ipykernel)",
   "language": "python",
   "name": "python3"
  },
  "language_info": {
   "codemirror_mode": {
    "name": "ipython",
    "version": 3
   },
   "file_extension": ".py",
   "mimetype": "text/x-python",
   "name": "python",
   "nbconvert_exporter": "python",
   "pygments_lexer": "ipython3",
   "version": "3.9.12"
  }
 },
 "nbformat": 4,
 "nbformat_minor": 5
}

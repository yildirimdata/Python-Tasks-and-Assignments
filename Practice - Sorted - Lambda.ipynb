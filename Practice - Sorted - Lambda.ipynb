{
 "cells": [
  {
   "cell_type": "markdown",
   "id": "133a3122-89f8-4634-a595-415f54cfcbbf",
   "metadata": {},
   "source": [
    "Note: to see the source of the questions : https://holypython.com/intermediate-python-exercises/exercise-15-python-sorted-function/"
   ]
  },
  {
   "cell_type": "code",
   "execution_count": 1,
   "id": "fec5cccf-73f9-403f-96b4-f78b9459ffe5",
   "metadata": {},
   "outputs": [
    {
     "data": {
      "text/plain": [
       "[0.5, 2, 17, 400, 500, 999, 1000, 40000]"
      ]
     },
     "execution_count": 1,
     "metadata": {},
     "output_type": "execute_result"
    }
   ],
   "source": [
    "# TASK 1: Using sorted() function, sort the list in ascending order.\n",
    "\n",
    "lst1=[500, 1000, 400, 40000, 999, 2, 0.5, 17]\n",
    "\n",
    "#Type your answer below.\n",
    "\n",
    "lst2= sorted(lst1)\n",
    "lst2"
   ]
  },
  {
   "cell_type": "code",
   "execution_count": 2,
   "id": "54e48f3e-4225-4d39-a912-b150c1a4e0c0",
   "metadata": {},
   "outputs": [
    {
     "data": {
      "text/plain": [
       "['ant', 'bird', 'giraffe', 'porcupine', 'zebra']"
      ]
     },
     "execution_count": 2,
     "metadata": {},
     "output_type": "execute_result"
    }
   ],
   "source": [
    "# TASK 2: Using sorted() function, sort the list from a to z.\n",
    "\n",
    "\n",
    "lst1=[\"zebra\", \"bird\", \"ant\", \"porcupine\", \"giraffe\"]\n",
    "\n",
    "#Type your answer below.\n",
    "\n",
    "lst2 = sorted(lst1)\n",
    "\n",
    "lst2"
   ]
  },
  {
   "cell_type": "code",
   "execution_count": 3,
   "id": "7066005c-727c-4dd8-87c2-99bd27cc7859",
   "metadata": {},
   "outputs": [
    {
     "data": {
      "text/plain": [
       "['zebra', 'porcupine', 'giraffe', 'bird', 'ant']"
      ]
     },
     "execution_count": 3,
     "metadata": {},
     "output_type": "execute_result"
    }
   ],
   "source": [
    "# TASK 3: Using sorted() function sort the list from z to a.\n",
    "\n",
    "lst1=[\"zebra\", \"bird\", \"ant\", \"porcupine\", \"giraffe\"]\n",
    "#Type your answer below.\n",
    "\n",
    "lst2 = sorted(lst1, reverse = True)\n",
    "lst2"
   ]
  },
  {
   "cell_type": "code",
   "execution_count": 4,
   "id": "68831460-8af3-4fd7-b014-e1b66a48a6ef",
   "metadata": {},
   "outputs": [
    {
     "data": {
      "text/plain": [
       "['zebra', 'porcupine', 'giraffe', 'bird', 'ant']"
      ]
     },
     "execution_count": 4,
     "metadata": {},
     "output_type": "execute_result"
    }
   ],
   "source": [
    "# Or we can solve it by simply list slicing.\n",
    "lst1=[\"zebra\", \"bird\", \"ant\", \"porcupine\", \"giraffe\"]\n",
    "lst2 = sorted(lst1)[::-1]\n",
    "lst2"
   ]
  },
  {
   "cell_type": "code",
   "execution_count": 5,
   "id": "afd968f4-903c-471d-8558-74b4661c75e2",
   "metadata": {},
   "outputs": [
    {
     "data": {
      "text/plain": [
       "[40000, 1000, 999, 500, 400, 17, 2, 0.5]"
      ]
     },
     "execution_count": 5,
     "metadata": {},
     "output_type": "execute_result"
    }
   ],
   "source": [
    "# TASK 4: Using sorted() function sort the list in descending order.\n",
    "\n",
    "lst1=[500, 1000, 400, 40000, 999, 2, 0.5, 17]\n",
    "#Type your answer below.\n",
    "\n",
    "lst2 = sorted(lst1, reverse = True)\n",
    "lst2"
   ]
  },
  {
   "cell_type": "code",
   "execution_count": 6,
   "id": "251ae991-b01c-423d-8310-1c43040f9143",
   "metadata": {},
   "outputs": [
    {
     "data": {
      "text/plain": [
       "[40000, 1000, 999, 500, 400, 17, 2, 0.5]"
      ]
     },
     "execution_count": 6,
     "metadata": {},
     "output_type": "execute_result"
    }
   ],
   "source": [
    "# Or we can solve it by simply list slicing.\n",
    "lst1=[500, 1000, 400, 40000, 999, 2, 0.5, 17]\n",
    "lst2 = sorted(lst1)[::-1]\n",
    "lst2"
   ]
  },
  {
   "cell_type": "code",
   "execution_count": 7,
   "id": "e9855bac-cbb7-44da-930b-8ee2a14b33f3",
   "metadata": {},
   "outputs": [
    {
     "data": {
      "text/plain": [
       "['Tahoe',\n",
       " 'Edith',\n",
       " 'Malawi',\n",
       " 'Moraine',\n",
       " 'Emerald',\n",
       " 'Medicine',\n",
       " 'Plitvice',\n",
       " 'Upper Arrow']"
      ]
     },
     "execution_count": 7,
     "metadata": {},
     "output_type": "execute_result"
    }
   ],
   "source": [
    "# TASK 5: Using len function and sorted() function, sort the list based on the length of the strings (In ascending order).\n",
    "\n",
    "lakes1=[\"Malawi\", \"Medicine\", \"Tahoe\", \"Moraine\", \"Upper Arrow\", \"Plitvice\", \"Edith\", \"Emerald\"]\n",
    "#Type your answer below.\n",
    "\n",
    "sorted_lakes = sorted(lakes1, key = len)\n",
    "sorted_lakes"
   ]
  },
  {
   "cell_type": "code",
   "execution_count": 17,
   "id": "c3cd40c9-c58f-4978-80b3-533262a8365f",
   "metadata": {},
   "outputs": [
    {
     "data": {
      "text/plain": [
       "['Upper Arrow',\n",
       " 'Medicine',\n",
       " 'Plitvice',\n",
       " 'Moraine',\n",
       " 'Emerald',\n",
       " 'Malawi',\n",
       " 'Tahoe',\n",
       " 'Edith']"
      ]
     },
     "execution_count": 17,
     "metadata": {},
     "output_type": "execute_result"
    }
   ],
   "source": [
    "# TASK 6:Using len function and sorted() function, sort the list based on the length of the strings \n",
    "# this time in descending order..\n",
    "\n",
    "lakes1=[\"Malawi\", \"Medicine\", \"Tahoe\", \"Moraine\", \"Upper Arrow\", \"Plitvice\", \"Edith\", \"Emerald\"]\n",
    "#Type your answer below.\n",
    "\n",
    "sorted_lakes = sorted(lakes1, reverse = True, key = len)\n",
    "sorted_lakes\n"
   ]
  },
  {
   "cell_type": "code",
   "execution_count": 22,
   "id": "b0b8ddb5-f982-4580-bac2-fe053612b904",
   "metadata": {},
   "outputs": [
    {
     "data": {
      "text/plain": [
       "['Upper Arrow',\n",
       " 'Malawi',\n",
       " 'Edith',\n",
       " 'Medicine',\n",
       " 'Tahoe',\n",
       " 'Moraine',\n",
       " 'Plitvice',\n",
       " 'Emerald']"
      ]
     },
     "execution_count": 22,
     "metadata": {},
     "output_type": "execute_result"
    }
   ],
   "source": [
    "# TASK 7: Using lambda and sorted() function, sort the list based on last characters of the items from z to a.\n",
    "\n",
    "lakes1=[\"Malawi\", \"Medicine\", \"Tahoe\", \"Moraine\", \"Upper Arrow\", \"Plitvice\", \"Edith\", \"Emerald\"]\n",
    "#Type your answer below.\n",
    "\n",
    "lakes2 = sorted(lakes1, key = lambda x: x[-1], reverse = True)\n",
    "lakes2"
   ]
  },
  {
   "cell_type": "code",
   "execution_count": 40,
   "id": "9fa88401-a5d2-4f33-89a6-f6b059e02bee",
   "metadata": {},
   "outputs": [
    {
     "name": "stdout",
     "output_type": "stream",
     "text": [
      "[9999, 19, 333, 66, 101, 1000, 50, 300, 200, 250]\n"
     ]
    }
   ],
   "source": [
    "# TASK 8: Using lambda and sorted() function, sort the list based on the remainder \n",
    "# from dividing each element to 5 (From greater to smaller).\n",
    "\n",
    "lst1=[1000, 50, 66, 101, 333, 9999, 19, 300, 200, 250]\n",
    "#Type your answer below.\n",
    "\n",
    "newlist = sorted(lst1, key= lambda x: x%5, reverse = True)\n",
    "print(newlist)\n"
   ]
  },
  {
   "cell_type": "code",
   "execution_count": null,
   "id": "8c17eb98-2119-4383-a96a-1f1f1c81b079",
   "metadata": {},
   "outputs": [],
   "source": []
  }
 ],
 "metadata": {
  "kernelspec": {
   "display_name": "Python 3 (ipykernel)",
   "language": "python",
   "name": "python3"
  },
  "language_info": {
   "codemirror_mode": {
    "name": "ipython",
    "version": 3
   },
   "file_extension": ".py",
   "mimetype": "text/x-python",
   "name": "python",
   "nbconvert_exporter": "python",
   "pygments_lexer": "ipython3",
   "version": "3.9.12"
  }
 },
 "nbformat": 4,
 "nbformat_minor": 5
}

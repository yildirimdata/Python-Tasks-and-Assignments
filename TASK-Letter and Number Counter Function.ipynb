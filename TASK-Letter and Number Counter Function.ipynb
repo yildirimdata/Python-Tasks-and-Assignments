{
 "cells": [
  {
   "cell_type": "markdown",
   "id": "a69f91ba-42f1-4028-9619-2e07d3bc1299",
   "metadata": {},
   "source": [
    "Task: Write a function to return the numbers of letters and digits in a given sentence.\n",
    "\n",
    "Sample output: Number of letters is 45 and number of digits are 15.\n",
    "\n",
    "Note: the sentence can be taken from the user or that one can be used: \"10'a kadar saysam ve sonrasında hayat bayram olsa.\""
   ]
  },
  {
   "cell_type": "code",
   "execution_count": 2,
   "id": "7978ce54-0b37-46ca-9b48-8e8c51b113e6",
   "metadata": {},
   "outputs": [
    {
     "name": "stdout",
     "output_type": "stream",
     "text": [
      "Number of letters is :  39 and number of digits are :  2\n"
     ]
    }
   ],
   "source": [
    "\n",
    "sentence = \"10'a kadar saysam ve sonrasında hayat bayram olsa.\"\n",
    "\n",
    "list_sent = list(sentence)\n",
    "\n",
    "def letter_number_counter(n):\n",
    "    num_counter=0\n",
    "    let_counter=0\n",
    "    for i in list_sent:\n",
    "        if i.isdigit():\n",
    "            num_counter = num_counter + 1\n",
    "        \n",
    "        elif i.isalpha():\n",
    "            let_counter = let_counter + 1\n",
    "        \n",
    "        else:\n",
    "            pass\n",
    "    print(\"Number of letters is : \", let_counter, \"and number of digits are : \", num_counter)\n",
    "    \n",
    "letter_number_counter(list_sent)"
   ]
  },
  {
   "cell_type": "code",
   "execution_count": null,
   "id": "1d503165-5a51-48c5-9bd1-4c8a94c6d8ca",
   "metadata": {},
   "outputs": [],
   "source": []
  }
 ],
 "metadata": {
  "kernelspec": {
   "display_name": "Python 3 (ipykernel)",
   "language": "python",
   "name": "python3"
  },
  "language_info": {
   "codemirror_mode": {
    "name": "ipython",
    "version": 3
   },
   "file_extension": ".py",
   "mimetype": "text/x-python",
   "name": "python",
   "nbconvert_exporter": "python",
   "pygments_lexer": "ipython3",
   "version": "3.9.12"
  }
 },
 "nbformat": 4,
 "nbformat_minor": 5
}

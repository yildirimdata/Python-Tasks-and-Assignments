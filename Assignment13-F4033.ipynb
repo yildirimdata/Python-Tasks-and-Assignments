<<<<<<< HEAD:Assignment14-F4033.ipynb
{
 "cells": [
  {
   "cell_type": "code",
   "execution_count": null,
   "id": "d7b9c2b0-b302-49c4-a070-11380463c1c4",
   "metadata": {},
   "outputs": [],
   "source": [
    "# After defining a function called fib(n), I create a list titled result to add the numbers into it.\n",
    "# Afterthat, in order to get the fib numbers I create two variables (a,b) and assign them the values 1 and 2 respectively.\n",
    "# Then I write a while loop which add the sum of a and b into the result list and returns the result. fib(56) gives us\n",
    "# the fibonacci numbers from 1 to 55."
   ]
  },
  {
   "cell_type": "code",
   "execution_count": 3,
   "id": "2b37c9db-b42f-4870-9bbf-208e53ec2843",
   "metadata": {},
   "outputs": [
    {
     "data": {
      "text/plain": [
       "[0, 1, 1, 2, 3, 5, 8, 13, 21, 34, 55]"
      ]
     },
     "execution_count": 3,
     "metadata": {},
     "output_type": "execute_result"
    }
   ],
   "source": [
    "def fib(n):  \n",
    "     result = []\n",
    "     a, b = 0, 1\n",
    "     while a < n:\n",
    "         result.append(a)  \n",
    "         a, b = b, a+b\n",
    "     return result \n",
    "\n",
    "fib(56)"
   ]
  },
  {
   "cell_type": "code",
   "execution_count": null,
   "id": "1f77dbbe-08b9-4d1e-88a7-12595439685f",
   "metadata": {},
   "outputs": [],
   "source": []
  }
 ],
 "metadata": {
  "kernelspec": {
   "display_name": "Python 3 (ipykernel)",
   "language": "python",
   "name": "python3"
  },
  "language_info": {
   "codemirror_mode": {
    "name": "ipython",
    "version": 3
   },
   "file_extension": ".py",
   "mimetype": "text/x-python",
   "name": "python",
   "nbconvert_exporter": "python",
   "pygments_lexer": "ipython3",
   "version": "3.9.12"
  }
 },
 "nbformat": 4,
 "nbformat_minor": 5
}
=======
{"nbformat":4,"nbformat_minor":0,"metadata":{"colab":{"provenance":[],"collapsed_sections":[],"authorship_tag":"ABX9TyOx9qBj7xSaMSDh2CyuCsa2"},"kernelspec":{"name":"python3","display_name":"Python 3"},"language_info":{"name":"python"}},"cells":[{"cell_type":"code","source":["# In order to check whether the number given by the user is a prime number or not\n","# I use and nested for-else loop. if the number is divisible by any number from 2 to the number, \n","# then it's not a prime number. If this is true, I put a break at this point\n","# for avoiding the code from redundant executions. Otherwise, ,if the number\n","# is not divisible except 1 and itself, the code prints a positive response."],"metadata":{"id":"tWMDY2NN79Is"},"execution_count":null,"outputs":[]},{"cell_type":"code","execution_count":5,"metadata":{"colab":{"base_uri":"https://localhost:8080/"},"id":"3ozcBlgy77sV","executionInfo":{"status":"ok","timestamp":1667251703927,"user_tz":-60,"elapsed":24474,"user":{"displayName":"F4033-Kadir","userId":"00693449641329635795"}},"outputId":"aecee6b0-e008-4258-ca95-aa207dc7d617"},"outputs":[{"output_type":"stream","name":"stdout","text":["Enter a number to see if it's a prime number: 137\n","137 is a prime number\n"]}],"source":["num = int(input(\"Enter a number to see if it's a prime number: \"))\n","\n","for i in range(2, num) :\n","\n","  if num % i == 0:\n","    print(num, \"is not a prime number\")\n","    break\n","else:\n","  print(num, \"is a prime number\")"]}]}
>>>>>>> 943e18ace0943568904bf6b33970a773d88e80fd:Assignment13-F4033.ipynb

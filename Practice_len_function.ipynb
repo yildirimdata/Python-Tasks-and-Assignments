{
 "cells": [
  {
   "cell_type": "markdown",
   "id": "49e33320-60d5-4890-9856-ba5b998cf3b9",
   "metadata": {},
   "source": [
    "# LEN FUNCTION - Practice\n",
    "\n",
    "Source: https://holypython.com/beginner-python-exercises/exercise-10-len-function/"
   ]
  },
  {
   "cell_type": "markdown",
   "id": "6f9a332f-a7d3-4e19-9ba8-f5500c24cecb",
   "metadata": {},
   "source": [
    "TASK 1: Using len() function find out how many items are in the list."
   ]
  },
  {
   "cell_type": "code",
   "execution_count": 3,
   "id": "db22bdf5-fb08-4b8a-be06-1d900d1c0e3d",
   "metadata": {},
   "outputs": [
    {
     "name": "stdout",
     "output_type": "stream",
     "text": [
      "7\n"
     ]
    }
   ],
   "source": [
    "lst=[11, 10, 12, 101, 99, 1000, 999]\n",
    "\n",
    "print(len(lst))"
   ]
  },
  {
   "cell_type": "markdown",
   "id": "f160faf5-0c91-4d53-a25c-9eb990b8496a",
   "metadata": {},
   "source": [
    "TASK 2: len() function can also tell the length of a string.\n",
    "\n",
    "Fİnd out the length of the string below:"
   ]
  },
  {
   "cell_type": "code",
   "execution_count": 4,
   "id": "2522bc65-46c4-4632-a07c-b3e212994680",
   "metadata": {},
   "outputs": [
    {
     "name": "stdout",
     "output_type": "stream",
     "text": [
      "36\n"
     ]
    }
   ],
   "source": [
    "msg=\"Be yourself, everyone else is taken.\"\n",
    "\n",
    "print(len(msg))"
   ]
  },
  {
   "cell_type": "markdown",
   "id": "d97c6d09-4a87-413e-bad6-4a526203342b",
   "metadata": {},
   "source": [
    "TASK 3: How many keys are there in the dictionary?"
   ]
  },
  {
   "cell_type": "code",
   "execution_count": 5,
   "id": "ea21401e-1e67-4bb3-85d8-b3b69648b15f",
   "metadata": {},
   "outputs": [
    {
     "name": "stdout",
     "output_type": "stream",
     "text": [
      "5\n"
     ]
    }
   ],
   "source": [
    "dict={\"Real Madrid\": 13,\"AC Milan\": 7,\"Bayern Munich\":5 ,\"Barcelona\": 5, \"Liverpool\": 5}\n",
    "\n",
    "\n",
    "print(len(dict))"
   ]
  },
  {
   "cell_type": "markdown",
   "id": "946cb95f-d8b2-4288-bdfc-e14becef303e",
   "metadata": {},
   "source": [
    "TASK 4: Call the last element of the list by using the len() function."
   ]
  },
  {
   "cell_type": "code",
   "execution_count": 8,
   "id": "8c4cdf10-d7b3-40bc-8cfa-250eb1dd0db1",
   "metadata": {},
   "outputs": [
    {
     "name": "stdout",
     "output_type": "stream",
     "text": [
      "jam\n"
     ]
    }
   ],
   "source": [
    "gift_list=['socks', '4K drone', 'wine', 'jam']\n",
    "# len() function will give you the length of a list. \n",
    "# Since index starts from 0, you can subtract 1 from the length to find the index of the last item. \n",
    "\n",
    "last_ele = len(gift_list)-1\n",
    "print(gift_list[last_ele])"
   ]
  },
  {
   "cell_type": "markdown",
   "id": "caa6be9b-c581-4890-be55-dc8ae9064c71",
   "metadata": {},
   "source": [
    "TASK 4: # Using keys() & len() get length of the keys"
   ]
  },
  {
   "cell_type": "code",
   "execution_count": 6,
   "id": "0e64b196-0e3a-4622-a65d-c4ffc1d853e4",
   "metadata": {},
   "outputs": [
    {
     "name": "stdout",
     "output_type": "stream",
     "text": [
      "Length of the keys: 4\n",
      "Length of the values: 4\n"
     ]
    }
   ],
   "source": [
    "Technology={'course': 'python', 'fee': 4000, 'duration': '60 days', 'tutor': 'Richard'}\n",
    "\n",
    "print(\"Length of the keys:\", len(Technology.keys()))\n",
    "print(\"Length of the values:\", len(Technology.values()))"
   ]
  },
  {
   "cell_type": "markdown",
   "id": "e2010416-5742-4d36-a596-21db48c80805",
   "metadata": {},
   "source": [
    "TASK 5: Below is a nested data. Find out the length of the item: 'raincoat'. You can use reverse indexing."
   ]
  },
  {
   "cell_type": "code",
   "execution_count": 9,
   "id": "fcd6fb9f-be5b-4348-b0d5-6f1539325913",
   "metadata": {},
   "outputs": [
    {
     "name": "stdout",
     "output_type": "stream",
     "text": [
      "8\n"
     ]
    }
   ],
   "source": [
    "gift_list=['4K drone', 'wine', 'jam', ['socks', 'pajamas', 'raincoat']]\n",
    "\n",
    "print(len(gift_list[-1][-1]))"
   ]
  },
  {
   "cell_type": "code",
   "execution_count": null,
   "id": "22e37672-15d7-4043-82d9-4977db1c291d",
   "metadata": {},
   "outputs": [],
   "source": []
  }
 ],
 "metadata": {
  "kernelspec": {
   "display_name": "Python 3 (ipykernel)",
   "language": "python",
   "name": "python3"
  },
  "language_info": {
   "codemirror_mode": {
    "name": "ipython",
    "version": 3
   },
   "file_extension": ".py",
   "mimetype": "text/x-python",
   "name": "python",
   "nbconvert_exporter": "python",
   "pygments_lexer": "ipython3",
   "version": "3.9.12"
  }
 },
 "nbformat": 4,
 "nbformat_minor": 5
}

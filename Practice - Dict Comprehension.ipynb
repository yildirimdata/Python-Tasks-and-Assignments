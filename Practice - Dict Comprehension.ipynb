{
 "cells": [
  {
   "cell_type": "markdown",
   "id": "3746273f-ed22-4a93-bec8-d600416d2a42",
   "metadata": {},
   "source": [
    "# DICT COMPREHENSION\n",
    "\n",
    "Source: https://holypython.com/intermediate-python-exercises/exercise-17-python-dict-comprehensions/"
   ]
  },
  {
   "cell_type": "code",
   "execution_count": 4,
   "id": "9a652b10-7e3b-4d6d-a41c-f3ebbafacc2f",
   "metadata": {},
   "outputs": [
    {
     "data": {
      "text/plain": [
       "{'NY': 'NY', 'FL': 'FL', 'CA': 'CA', 'VT': 'VT'}"
      ]
     },
     "execution_count": 4,
     "metadata": {},
     "output_type": "execute_result"
    }
   ],
   "source": [
    "# TASK 1: Create a dictionary from the list with same key:value pairs, such as: {\"key\": \"key\"}.\n",
    "\n",
    "lst=[\"NY\", \"FL\", \"CA\", \"VT\"]\n",
    "\n",
    "#Type your answer below.\n",
    "\n",
    "dict_lst = {i:i for i in lst} \n",
    "dict_lst\n"
   ]
  },
  {
   "cell_type": "markdown",
   "id": "4c0eb40b-e4a1-494f-86fd-96f425fd274c",
   "metadata": {},
   "source": [
    "**TASK2:** \n",
    "\n",
    "First, create a range from 100 to 160 with steps of 10.\n",
    "\n",
    "Second, using dict comprehension, create a dictionary where each number in the range is the key and each item divided by 100 is the value."
   ]
  },
  {
   "cell_type": "code",
   "execution_count": 11,
   "id": "9ca69f3f-31a1-460b-9e3f-7d7d1e46ec3f",
   "metadata": {},
   "outputs": [
    {
     "data": {
      "text/plain": [
       "{100: 1.0, 110: 1.1, 120: 1.2, 130: 1.3, 140: 1.4, 150: 1.5, 160: 1.6}"
      ]
     },
     "execution_count": 11,
     "metadata": {},
     "output_type": "execute_result"
    }
   ],
   "source": [
    "numbers = range(100,161,10)\n",
    "dict_numbers = {i:i/100 for i in numbers}\n",
    "dict_numbers"
   ]
  },
  {
   "cell_type": "code",
   "execution_count": 13,
   "id": "df96cd09-339d-4df8-814e-220e0696a7d3",
   "metadata": {},
   "outputs": [
    {
     "data": {
      "text/plain": [
       "{100: 1.0, 110: 1.1, 120: 1.2, 130: 1.3, 140: 1.4, 150: 1.5, 160: 1.6}"
      ]
     },
     "execution_count": 13,
     "metadata": {},
     "output_type": "execute_result"
    }
   ],
   "source": [
    "# or instead of assigning a value for the numbers in range of 100-160, we can directly use range function in dict comp:\n",
    "\n",
    "dict_numbers = {i:i/100 for i in range(100,161,10)}\n",
    "dict_numbers"
   ]
  },
  {
   "cell_type": "markdown",
   "id": "1ed27087-2e90-43fc-a16a-0e3e26f48560",
   "metadata": {},
   "source": [
    "**TASK 3:**\n",
    "\n",
    "Using dict comprehension and a conditional argument create a dictionary from the current dictionary where only the key:value pairs with value above 2000 are taken to the new dictionary.\n",
    "\n"
   ]
  },
  {
   "cell_type": "code",
   "execution_count": 22,
   "id": "86e77dfc-cb8c-4094-9cf1-e73fc00c3048",
   "metadata": {},
   "outputs": [
    {
     "data": {
      "text/plain": [
       "{'NFLX': 4950, 'TREX': 2400}"
      ]
     },
     "execution_count": 22,
     "metadata": {},
     "output_type": "execute_result"
    }
   ],
   "source": [
    "dict1={\"NFLX\":4950,\"TREX\":2400,\"FIZZ\":1800, \"XPO\":1700}\n",
    "\n",
    "dict2 = {i:dict1[i] for i in dict1 if dict1[i]>2000}\n",
    "dict2"
   ]
  },
  {
   "cell_type": "code",
   "execution_count": null,
   "id": "9b17607d-777f-4574-8a0c-0e97b0cdcda9",
   "metadata": {},
   "outputs": [],
   "source": []
  }
 ],
 "metadata": {
  "kernelspec": {
   "display_name": "Python 3 (ipykernel)",
   "language": "python",
   "name": "python3"
  },
  "language_info": {
   "codemirror_mode": {
    "name": "ipython",
    "version": 3
   },
   "file_extension": ".py",
   "mimetype": "text/x-python",
   "name": "python",
   "nbconvert_exporter": "python",
   "pygments_lexer": "ipython3",
   "version": "3.9.12"
  }
 },
 "nbformat": 4,
 "nbformat_minor": 5
}

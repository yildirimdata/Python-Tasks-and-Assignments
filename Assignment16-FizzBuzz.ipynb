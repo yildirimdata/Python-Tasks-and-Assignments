{
 "cells": [
  {
   "cell_type": "markdown",
   "id": "62c53cd8-2360-4602-a13a-7e71fb4a93d3",
   "metadata": {},
   "source": [
    "# TASK: Print numbers from 1 to 100 and:\n",
    "\n",
    "- if a number is multiple of 3 print \"Fizz\",\n",
    "\n",
    "- if a number is multiple of 5 print \"Buzz\",\n",
    "\n",
    "- if a number is multiple of both 3 and 5 print \"FizzBuzz\",\n",
    "\n",
    "- print the rest of the numbers unchanged."
   ]
  },
  {
   "cell_type": "code",
   "execution_count": 2,
   "id": "ecd2a904-f23e-4827-a29f-435720496198",
   "metadata": {},
   "outputs": [],
   "source": [
    "# I'll solve first by using for loops and then ternary iterations"
   ]
  },
  {
   "cell_type": "code",
   "execution_count": 1,
   "id": "d4a2b620-7298-4054-b541-f392f92f4b41",
   "metadata": {},
   "outputs": [
    {
     "name": "stdout",
     "output_type": "stream",
     "text": [
      "1\n",
      "2\n",
      "Fizz\n",
      "4\n",
      "Buzz\n",
      "Fizz\n",
      "7\n",
      "8\n",
      "Fizz\n",
      "Buzz\n",
      "11\n",
      "Fizz\n",
      "13\n",
      "14\n",
      "FizzBuzz\n",
      "16\n",
      "17\n",
      "Fizz\n",
      "19\n",
      "Buzz\n",
      "Fizz\n",
      "22\n",
      "23\n",
      "Fizz\n",
      "Buzz\n",
      "26\n",
      "Fizz\n",
      "28\n",
      "29\n",
      "FizzBuzz\n",
      "31\n",
      "32\n",
      "Fizz\n",
      "34\n",
      "Buzz\n",
      "Fizz\n",
      "37\n",
      "38\n",
      "Fizz\n",
      "Buzz\n",
      "41\n",
      "Fizz\n",
      "43\n",
      "44\n",
      "FizzBuzz\n",
      "46\n",
      "47\n",
      "Fizz\n",
      "49\n",
      "Buzz\n",
      "Fizz\n",
      "52\n",
      "53\n",
      "Fizz\n",
      "Buzz\n",
      "56\n",
      "Fizz\n",
      "58\n",
      "59\n",
      "FizzBuzz\n",
      "61\n",
      "62\n",
      "Fizz\n",
      "64\n",
      "Buzz\n",
      "Fizz\n",
      "67\n",
      "68\n",
      "Fizz\n",
      "Buzz\n",
      "71\n",
      "Fizz\n",
      "73\n",
      "74\n",
      "FizzBuzz\n",
      "76\n",
      "77\n",
      "Fizz\n",
      "79\n",
      "Buzz\n",
      "Fizz\n",
      "82\n",
      "83\n",
      "Fizz\n",
      "Buzz\n",
      "86\n",
      "Fizz\n",
      "88\n",
      "89\n",
      "FizzBuzz\n",
      "91\n",
      "92\n",
      "Fizz\n",
      "94\n",
      "Buzz\n",
      "Fizz\n",
      "97\n",
      "98\n",
      "Fizz\n",
      "Buzz\n"
     ]
    }
   ],
   "source": [
    "for i in range(1,101):  # I create a range of numbers from 1 to 100 and set an if-else code\n",
    "    if not i%3 and not i%5:  # if they are divisible both by 3 and 5, I print them as FizzBuzz\n",
    "        print(\"FizzBuzz\")\n",
    "    elif not i % 3:  # if the number is divisible by 3 I print Fizz \n",
    "        print(\"Fizz\")\n",
    "    elif not i % 5:  # if the number is divisible by 5 I print Buzz \n",
    "        print(\"Buzz\")\n",
    "    else:  # all the other that are not divisible by 3 or 5 comes under here.\n",
    "        print(i) "
   ]
  },
  {
   "cell_type": "code",
   "execution_count": 4,
   "id": "7d703fa5-1972-4a57-aae7-fa9ff6a8ed3c",
   "metadata": {},
   "outputs": [
    {
     "name": "stdout",
     "output_type": "stream",
     "text": [
      "1 2 Fizz 4 Buzz Fizz 7 8 Fizz Buzz 11 Fizz 13 14 FizzBuzz 16 17 Fizz 19 Buzz Fizz 22 23 Fizz Buzz 26 Fizz 28 29 FizzBuzz 31 32 Fizz 34 Buzz Fizz 37 38 Fizz Buzz 41 Fizz 43 44 FizzBuzz 46 47 Fizz 49 Buzz Fizz 52 53 Fizz Buzz 56 Fizz 58 59 FizzBuzz 61 62 Fizz 64 Buzz Fizz 67 68 Fizz Buzz 71 Fizz 73 74 FizzBuzz 76 77 Fizz 79 Buzz Fizz 82 83 Fizz Buzz 86 Fizz 88 89 FizzBuzz 91 92 Fizz 94 Buzz Fizz 97 98 Fizz Buzz "
     ]
    }
   ],
   "source": [
    "# let's use also ternary iterations to solve this task\n",
    "\n",
    "for number in range(1, 101):\n",
    "    print(\"FizzBuzz\" if not number % 3 and not number % 5 else \"Fizz\" if not number % 3\n",
    "          else \"Buzz\" if not number % 5 else number, end= \" \")"
   ]
  },
  {
   "cell_type": "code",
   "execution_count": null,
   "id": "cf6dab75-9710-4cfc-a8b1-eb1e07358224",
   "metadata": {},
   "outputs": [],
   "source": []
  }
 ],
 "metadata": {
  "kernelspec": {
   "display_name": "Python 3 (ipykernel)",
   "language": "python",
   "name": "python3"
  },
  "language_info": {
   "codemirror_mode": {
    "name": "ipython",
    "version": 3
   },
   "file_extension": ".py",
   "mimetype": "text/x-python",
   "name": "python",
   "nbconvert_exporter": "python",
   "pygments_lexer": "ipython3",
   "version": "3.9.12"
  }
 },
 "nbformat": 4,
 "nbformat_minor": 5
}

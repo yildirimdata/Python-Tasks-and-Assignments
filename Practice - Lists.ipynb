{
 "cells": [
  {
   "cell_type": "markdown",
   "id": "6b6c8bf1-0f65-49bc-a5db-8f094c38f0f7",
   "metadata": {},
   "source": [
    "# List exercises\n",
    "\n",
    "Source: https://holypython.com/beginner-python-exercises/exercise-6-python-lists/"
   ]
  },
  {
   "cell_type": "markdown",
   "id": "99f26ab0-835e-4c8a-b252-c2c3c92b86d3",
   "metadata": {},
   "source": [
    "TASK 1: Assign the first element of the list to answer_1 on line 2"
   ]
  },
  {
   "cell_type": "code",
   "execution_count": 1,
   "id": "f636955f-eb31-444d-add8-3b82b0730680",
   "metadata": {},
   "outputs": [
    {
     "name": "stdout",
     "output_type": "stream",
     "text": [
      "11\n"
     ]
    }
   ],
   "source": [
    "lst=[11, 100, 99, 1000, 999]\n",
    "\n",
    "\n",
    "answer_1= lst[0]\n",
    "print(answer_1)"
   ]
  },
  {
   "cell_type": "markdown",
   "id": "2085b374-a679-43b4-b37b-7d5ffae05488",
   "metadata": {},
   "source": [
    "TASK 2: And let's print the second element directly inside print function.\n",
    "\n",
    "This time print the second element of the list directly on line 3. You should get 100."
   ]
  },
  {
   "cell_type": "code",
   "execution_count": 2,
   "id": "b8921151-fbf4-41cc-954b-bbedbd591461",
   "metadata": {},
   "outputs": [
    {
     "name": "stdout",
     "output_type": "stream",
     "text": [
      "100\n"
     ]
    }
   ],
   "source": [
    "print(lst[1])"
   ]
  },
  {
   "cell_type": "markdown",
   "id": "f33391b6-9bb6-4423-9b05-bfbc5e1c0d78",
   "metadata": {},
   "source": [
    "TASK 3: Print the last element of the list through variable answer_1."
   ]
  },
  {
   "cell_type": "code",
   "execution_count": 3,
   "id": "b4d6466d-edc2-4eaf-b462-68ba579b1584",
   "metadata": {},
   "outputs": [
    {
     "data": {
      "text/plain": [
       "999"
      ]
     },
     "execution_count": 3,
     "metadata": {},
     "output_type": "execute_result"
    }
   ],
   "source": [
    "answer_1 = lst[-1]\n",
    "answer_1"
   ]
  },
  {
   "cell_type": "markdown",
   "id": "0ac5e31e-db34-4bd9-b9f1-ce13e9d8a562",
   "metadata": {},
   "source": [
    "TASK 4: On line 3, add the string \"pajamas\" to the list with .append() method."
   ]
  },
  {
   "cell_type": "code",
   "execution_count": 5,
   "id": "5cc80c5c-2baf-4fe8-bb7c-f887213ebb50",
   "metadata": {},
   "outputs": [
    {
     "data": {
      "text/plain": [
       "['socks', '4K drone', 'wine', 'jam', 'pajamas']"
      ]
     },
     "execution_count": 5,
     "metadata": {},
     "output_type": "execute_result"
    }
   ],
   "source": [
    "gift_list=['socks', '4K drone', 'wine', 'jam']\n",
    "\n",
    "\n",
    "gift_list.append(\"pajamas\")\n",
    "gift_list"
   ]
  },
  {
   "cell_type": "markdown",
   "id": "4bbbfb2d-164b-44e3-a623-347e7ade6872",
   "metadata": {},
   "source": [
    "TASK 5:\n",
    "    \n",
    "Lists can hold many type of data inside them. You can even add another list to a list as its element. This is called nested data in Python.\n",
    "\n",
    "This time add the sub-list: [\"socks\", \"tshirt\", \"pajamas\"] to the end of the gift_list.\n"
   ]
  },
  {
   "cell_type": "code",
   "execution_count": 6,
   "id": "4ec39039-2d39-416a-9fea-42f58ff4dbfc",
   "metadata": {},
   "outputs": [
    {
     "data": {
      "text/plain": [
       "['socks', '4K drone', 'wine', 'jam', ['socks', 'tshirt', 'pajamas']]"
      ]
     },
     "execution_count": 6,
     "metadata": {},
     "output_type": "execute_result"
    }
   ],
   "source": [
    "gift_list=['socks', '4K drone', 'wine', 'jam']\n",
    "\n",
    "gift_list.append([\"socks\", \"tshirt\", \"pajamas\"])\n",
    "\n",
    "gift_list\n",
    "                  "
   ]
  },
  {
   "cell_type": "markdown",
   "id": "1fd94dec-1694-4ba2-8d33-703da0c80c29",
   "metadata": {},
   "source": [
    "TASK 6: \n",
    "    \n",
    ".insert() lets you specify the index you want to add your item.\n",
    "\n",
    "This time insert \"slippers\" to index 3 of gift_list."
   ]
  },
  {
   "cell_type": "code",
   "execution_count": 8,
   "id": "546931b1-11df-469d-a156-8e3840ccf4f3",
   "metadata": {},
   "outputs": [
    {
     "data": {
      "text/plain": [
       "['socks', '4K drone', 'wine', 'slippers', 'jam']"
      ]
     },
     "execution_count": 8,
     "metadata": {},
     "output_type": "execute_result"
    }
   ],
   "source": [
    "gift_list=['socks', '4K drone', 'wine', 'jam']\n",
    "\n",
    "gift_list.insert(3, \"slippers\")\n",
    "gift_list\n"
   ]
  },
  {
   "cell_type": "markdown",
   "id": "bd3a2675-521a-4678-beea-9f5b89e96b68",
   "metadata": {},
   "source": [
    "TASK 7: With .index() method you can learn the index number of an item inside your list. Assign the index no of 8679 to the variable answer_1."
   ]
  },
  {
   "cell_type": "code",
   "execution_count": 9,
   "id": "f88c539c-c4e7-4797-8cff-0511af1e9842",
   "metadata": {},
   "outputs": [
    {
     "data": {
      "text/plain": [
       "8"
      ]
     },
     "execution_count": 9,
     "metadata": {},
     "output_type": "execute_result"
    }
   ],
   "source": [
    "lst=[55, 777, 54, 6, 76, 101, 1, 2, 8679, 123, 99]\n",
    "\n",
    "answer_1 = lst.index(8679)\n",
    "answer_1"
   ]
  },
  {
   "cell_type": "markdown",
   "id": "15112ba7-0a6d-44f2-b718-50b47e5d299d",
   "metadata": {},
   "source": [
    "TASK 8: Using .append() method, add a new list to the end of the list which contains strings: \"Navigator\" and \"Suburban\"."
   ]
  },
  {
   "cell_type": "code",
   "execution_count": 10,
   "id": "4109ee21-5c7f-4a1a-9326-47355c6e034f",
   "metadata": {},
   "outputs": [
    {
     "data": {
      "text/plain": [
       "['CRV',\n",
       " 'Outback',\n",
       " 'XC90',\n",
       " 'GL',\n",
       " 'Cherokee',\n",
       " 'Escalade',\n",
       " ['Navigator', 'Suburban']]"
      ]
     },
     "execution_count": 10,
     "metadata": {},
     "output_type": "execute_result"
    }
   ],
   "source": [
    "lst=[\"CRV\", \"Outback\", \"XC90\", \"GL\", \"Cherokee\", \"Escalade\"]\n",
    "\n",
    "lst.append([\"Navigator\", \"Suburban\"])\n",
    "\n",
    "lst"
   ]
  },
  {
   "cell_type": "markdown",
   "id": "5d40e63b-b47d-49ea-ba0a-762881589b4a",
   "metadata": {},
   "source": [
    "**remove()method: removing the last item**\n",
    "\n",
    "TASK 9: Using .remove() method, clear the last element of the list."
   ]
  },
  {
   "cell_type": "code",
   "execution_count": 14,
   "id": "9b69452d-5e07-40d2-8b18-89d62a10ba80",
   "metadata": {},
   "outputs": [
    {
     "data": {
      "text/plain": [
       "[55, 777, 54, 6, 76, 101, 1, 2, 8679, 123]"
      ]
     },
     "execution_count": 14,
     "metadata": {},
     "output_type": "execute_result"
    }
   ],
   "source": [
    "lst=[55, 777, 54, 6, 76, 101, 1, 2, 8679, 123, 99]\n",
    "\n",
    "lst.remove(99)\n",
    "lst"
   ]
  },
  {
   "cell_type": "markdown",
   "id": "fd116934-8b47-4439-966a-12f17e6fab3b",
   "metadata": {},
   "source": [
    "TASK 10: Using .reverse() method, reverse the list."
   ]
  },
  {
   "cell_type": "code",
   "execution_count": 15,
   "id": "48c59dc3-c2be-4f6a-ba08-bf6414379768",
   "metadata": {},
   "outputs": [
    {
     "data": {
      "text/plain": [
       "[99, 123, 8679, 2, 1, 101, 76, 6, 54, 777, 55]"
      ]
     },
     "execution_count": 15,
     "metadata": {},
     "output_type": "execute_result"
    }
   ],
   "source": [
    "lst=[55, 777, 54, 6, 76, 101, 1, 2, 8679, 123, 99]\n",
    "\n",
    "lst.reverse()\n",
    "lst"
   ]
  },
  {
   "cell_type": "code",
   "execution_count": 18,
   "id": "de55784a-284a-471b-9152-a8e8bc329562",
   "metadata": {},
   "outputs": [
    {
     "name": "stdout",
     "output_type": "stream",
     "text": [
      "3 2 1\n"
     ]
    }
   ],
   "source": [
    "# or we can use reversed function. But it creates an on the air object. So we should use ways such as, list(), 0, for loop to call its elements\n",
    "\n",
    "lst = [1,2,3]\n",
    "print(*reversed(lst))\n"
   ]
  },
  {
   "cell_type": "markdown",
   "id": "f04a7a2d-80db-45ff-83f7-631c879a0559",
   "metadata": {},
   "source": [
    "TASK 11: Using .count() method, count how many times 6 occur in the list."
   ]
  },
  {
   "cell_type": "code",
   "execution_count": 20,
   "id": "f20ca04e-ec54-44fe-9d94-d6a4ccd9f349",
   "metadata": {},
   "outputs": [
    {
     "name": "stdout",
     "output_type": "stream",
     "text": [
      "4\n",
      "4\n"
     ]
    }
   ],
   "source": [
    "lst=[55, 6, 777, 54, 6, 76, 101, 1, 6, 2, 6]\n",
    "\n",
    "print(lst.count(6))\n",
    "# or we can assignt it to a variable\n",
    "\n",
    "count_6 = lst.count(6)\n",
    "print(count_6)\n"
   ]
  },
  {
   "cell_type": "markdown",
   "id": "0cfe7446-808a-41e0-8479-5d604a1a1664",
   "metadata": {},
   "source": [
    "TASK 11: we can add up al the elements in alist with sum()\n",
    "\n",
    "What is the sum of all the numbers in the list?"
   ]
  },
  {
   "cell_type": "code",
   "execution_count": 22,
   "id": "7cf1a590-80aa-4ba0-83ea-0b982be20efe",
   "metadata": {},
   "outputs": [
    {
     "name": "stdout",
     "output_type": "stream",
     "text": [
      "1090\n",
      "1090\n"
     ]
    }
   ],
   "source": [
    "lst=[55, 6, 777, 54, 6, 76, 101, 1, 6, 2, 6]\n",
    "\n",
    "print(sum(lst))\n",
    "\n",
    "# or we can assignt it to a variable\n",
    "\n",
    "sum_lst = sum(lst)\n",
    "print(sum_lst)\n"
   ]
  },
  {
   "cell_type": "markdown",
   "id": "94768198-b479-4a08-a682-c844bfc0aedc",
   "metadata": {},
   "source": [
    "TASK 12: Max Function to Get the Highest Value in a List and Min function for the lowest one\n",
    "\n",
    "What is the minimum value in the list?"
   ]
  },
  {
   "cell_type": "code",
   "execution_count": 25,
   "id": "a5f8b687-8c0a-4a7e-906a-f1ffdf536d8b",
   "metadata": {},
   "outputs": [
    {
     "name": "stdout",
     "output_type": "stream",
     "text": [
      "777\n",
      "777\n"
     ]
    }
   ],
   "source": [
    "lst=[55, 6, 777, 54, 6, 76, 101, 1, 6, 2, 6]\n",
    "\n",
    "print(max(lst))\n",
    "\n",
    "# or we can assignt it to a variable\n",
    "\n",
    "max_lst = max(lst)\n",
    "print(max_lst)"
   ]
  },
  {
   "cell_type": "code",
   "execution_count": 26,
   "id": "87af9343-f7ce-4d5a-a602-8c59353142a9",
   "metadata": {},
   "outputs": [
    {
     "name": "stdout",
     "output_type": "stream",
     "text": [
      "1\n",
      "1\n"
     ]
    }
   ],
   "source": [
    "print(min(lst))\n",
    "# or\n",
    "min_lst = min(lst)\n",
    "print(min_lst)"
   ]
  },
  {
   "cell_type": "code",
   "execution_count": null,
   "id": "0197f7b0-5b45-4a7d-bee3-8c01725284ad",
   "metadata": {},
   "outputs": [],
   "source": []
  }
 ],
 "metadata": {
  "kernelspec": {
   "display_name": "Python 3 (ipykernel)",
   "language": "python",
   "name": "python3"
  },
  "language_info": {
   "codemirror_mode": {
    "name": "ipython",
    "version": 3
   },
   "file_extension": ".py",
   "mimetype": "text/x-python",
   "name": "python",
   "nbconvert_exporter": "python",
   "pygments_lexer": "ipython3",
   "version": "3.9.12"
  }
 },
 "nbformat": 4,
 "nbformat_minor": 5
}

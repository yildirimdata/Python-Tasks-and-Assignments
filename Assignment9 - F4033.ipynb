{
 "cells": [
  {
   "cell_type": "markdown",
   "id": "d8634d46-a7b6-4ba8-a6de-4b4d3eb0cc1c",
   "metadata": {},
   "source": [
    "Task : Let's say; you left a message in the past that prints a password you need. To see the password you wrote, you need to enter your name and the program should recognize you.\n",
    "Write a program that \n",
    "\n",
    "Takes the first name from the user and compares it to yours,\n",
    "Then if the name the user entered is the same as yours, print out such as : \"Hello, Joseph! The password is : W@12\",\n",
    "If the name the user entered is not the same as yours, print out such as : \"Hello, Amina! See you later.\""
   ]
  },
  {
   "cell_type": "code",
   "execution_count": 1,
   "id": "006f3e56-63b3-4ec0-a54b-a9a227020f3f",
   "metadata": {},
   "outputs": [
    {
     "name": "stdin",
     "output_type": "stream",
     "text": [
      "Enter your name to see the password :  Abdulkadir\n"
     ]
    },
    {
     "name": "stdout",
     "output_type": "stream",
     "text": [
      "Hello, Abdulkadir! See you later.\n"
     ]
    }
   ],
   "source": [
    "myname = \"Kadir\"\n",
    "user_name = input(\"Enter your name to see the password : \").capitalize().strip()\n",
    "\n",
    "if user_name == myname:\n",
    "    print(\"Hello, Kadir! The password is : W@12\")\n",
    "else:\n",
    "    print(\"Hello, {}! See you later.\".format(user_name)) "
   ]
  },
  {
   "cell_type": "code",
   "execution_count": null,
   "id": "1bb03e48-416d-4a96-900f-47193aaa7fdc",
   "metadata": {},
   "outputs": [],
   "source": []
  }
 ],
 "metadata": {
  "kernelspec": {
   "display_name": "Python 3 (ipykernel)",
   "language": "python",
   "name": "python3"
  },
  "language_info": {
   "codemirror_mode": {
    "name": "ipython",
    "version": 3
   },
   "file_extension": ".py",
   "mimetype": "text/x-python",
   "name": "python",
   "nbconvert_exporter": "python",
   "pygments_lexer": "ipython3",
   "version": "3.9.12"
  }
 },
 "nbformat": 4,
 "nbformat_minor": 5
}

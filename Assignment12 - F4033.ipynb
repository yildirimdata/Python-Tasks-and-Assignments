{
 "cells": [
  {
   "cell_type": "markdown",
   "id": "989360f2-c7d9-4b48-a1b2-377a38305a1d",
   "metadata": {},
   "source": [
    "Find out if a given number is an \"Armstrong Number\".\n",
    "\n",
    "An n-digit number that is the sum of the nth powers of its digits is called an n-Armstrong number. Examples :\n",
    "\n",
    "371 = 33 + 73 + 13;\n",
    "\n",
    "9474 = 94 + 44 + 74 + 44;\n",
    "\n",
    "93084 = 95 + 35 + 05 + 85 + 45.\n",
    "\n",
    "Write a Python program that;\n",
    "takes a positive integer number from the user,\n",
    "checks the entered number if it is Armstrong,\n",
    "consider the negative, float and any entries other than numeric values then display a warning message to the user.\n",
    "\n",
    "\n",
    "Examples\n",
    "Sample inputs\tOutputs\n",
    "\n",
    "407\t407 is an Armstrong number\n",
    "\n",
    "5\t5 is an Armstrong number\n",
    "\n",
    "-153\t It is an invalid entry. Don't use non-numeric, float, or negative values!\n",
    "\n",
    "153.87 or 153,87\t It is an invalid entry. Don't use non-numeric, float, or negative values!\n",
    "\n",
    "one\t It is an invalid entry. Don't use non-numeric, float, or negative values!\n",
    "\n",
    "121\t 121 is not an Armstrong number"
   ]
  },
  {
   "cell_type": "code",
   "execution_count": null,
   "id": "20c8040a-bae7-4f21-b969-06c5f37e3598",
   "metadata": {},
   "outputs": [],
   "source": [
    "# Yuzlerce error sonrası cozebildigim icin nasıl bir yol izlediğimi tam aciklayamayabilirim.\n",
    "# ilk if statement user_numberın gecerli olup olmadığını isdigit() ile ölçüyor. Eğer numericse\n",
    "# elamanlarını görmek için listeye çevirdiğim numaranın her basamağını for döngüsüne soktum. Burada string olan\n",
    "# her basamağı int'e convert edip user_num'ın leni ile powerını aldım ve sırayla bunları total isimli\n",
    "# bir degiskende topladım. daha sonra nested loop ile eğer total user_numa eşit oluyorsa ve olmuyorsa şeklinde\n",
    "# iki print hazırladım. numeric olmayan, armstrong ve armstrong olmayan sayılarla yaptığım tüm denemeler \n",
    "# dogru sonuclar verdi."
   ]
  },
  {
   "cell_type": "code",
   "execution_count": 78,
   "id": "a94ad5da-57bc-4c65-9d8c-a0279adb587a",
   "metadata": {},
   "outputs": [
    {
     "name": "stdin",
     "output_type": "stream",
     "text": [
      "Enter a number to see if it is an armstrong number :  9474\n"
     ]
    },
    {
     "name": "stdout",
     "output_type": "stream",
     "text": [
      "9474  is an armstrong number.\n"
     ]
    }
   ],
   "source": [
    "user_num = input(\"Enter a number to see if it is an armstrong number : \")\n",
    "aaa = list(user_num)\n",
    "total = 0\n",
    "if user_num.isdigit():\n",
    "    for i in aaa:\n",
    "        \n",
    "        total += int(i)**len(aaa)\n",
    "    \n",
    "    if total == int(user_num):\n",
    "        print(user_num, \" is an armstrong number.\")\n",
    "        \n",
    "    else :\n",
    "        print(user_num, \" is not an armstrong number.\")\n",
    "\n",
    "else : \n",
    "    print(user_num, \" is and invalid entry. Don't use non-numeric, float, or negative values!\")\n",
    "    \n",
    "\n",
    "\n",
    "\n",
    "    "
   ]
  },
  {
   "cell_type": "code",
   "execution_count": null,
   "id": "f78a34f8-01a9-4165-bf6b-ef2cfc9eb654",
   "metadata": {},
   "outputs": [],
   "source": []
  }
 ],
 "metadata": {
  "kernelspec": {
   "display_name": "Python 3 (ipykernel)",
   "language": "python",
   "name": "python3"
  },
  "language_info": {
   "codemirror_mode": {
    "name": "ipython",
    "version": 3
   },
   "file_extension": ".py",
   "mimetype": "text/x-python",
   "name": "python",
   "nbconvert_exporter": "python",
   "pygments_lexer": "ipython3",
   "version": "3.9.12"
  }
 },
 "nbformat": 4,
 "nbformat_minor": 5
}

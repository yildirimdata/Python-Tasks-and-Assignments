{
 "cells": [
  {
   "cell_type": "markdown",
   "id": "d4ad7434-aeb7-482a-bb88-b0a3194fca74",
   "metadata": {},
   "source": [
    "# Sort Function Practices\n",
    "\n",
    "source: https://holypython.com/beginner-python-exercises/exercise-11-sort-method/"
   ]
  },
  {
   "cell_type": "markdown",
   "id": "04f23930-6957-4922-8084-e2cc90e42b94",
   "metadata": {},
   "source": [
    "TASK 1: Sort the list in ascending order with .sort() method."
   ]
  },
  {
   "cell_type": "code",
   "execution_count": 14,
   "id": "02c9df5b-9b9d-49cf-9f68-227038ba10b3",
   "metadata": {},
   "outputs": [
    {
     "data": {
      "text/plain": [
       "[11, 99, 100, 999, 1000]"
      ]
     },
     "execution_count": 14,
     "metadata": {},
     "output_type": "execute_result"
    }
   ],
   "source": [
    "lst=[11, 100, 99, 1000, 999]\n",
    "lst.sort()\n",
    "lst"
   ]
  },
  {
   "cell_type": "markdown",
   "id": "50c7c41a-32a0-41cd-867d-32731e514a51",
   "metadata": {},
   "source": [
    "TASK 2: This time sort the countries in alphabetic order."
   ]
  },
  {
   "cell_type": "code",
   "execution_count": 15,
   "id": "00ad21e4-84f5-4539-a0ab-0aa5d04aecea",
   "metadata": {},
   "outputs": [
    {
     "data": {
      "text/plain": [
       "['Belize', 'Canada', 'India', 'Japan', 'Kazakhstan', 'Taiwan', 'Ukraine']"
      ]
     },
     "execution_count": 15,
     "metadata": {},
     "output_type": "execute_result"
    }
   ],
   "source": [
    "lst=[\"Ukraine\", \"Japan\", \"Canada\", \"Kazakhstan\", \"Taiwan\", \"India\", \"Belize\"]\n",
    "\n",
    "lst.sort()\n",
    "lst"
   ]
  },
  {
   "cell_type": "markdown",
   "id": "580023a7-bbaa-4cf0-9ccf-5ed2eabf4835",
   "metadata": {},
   "source": [
    "TASK 3: Now sort the list in descending order with .sort() method."
   ]
  },
  {
   "cell_type": "code",
   "execution_count": 16,
   "id": "c118b16f-66e1-4026-81e5-df59b0b26a05",
   "metadata": {},
   "outputs": [
    {
     "data": {
      "text/plain": [
       "[1001, 999, 101, 100, 11]"
      ]
     },
     "execution_count": 16,
     "metadata": {},
     "output_type": "execute_result"
    }
   ],
   "source": [
    "lst=[11, 100, 101, 999, 1001]\n",
    "\n",
    "lst.sort(reverse = True)\n",
    "lst"
   ]
  },
  {
   "cell_type": "markdown",
   "id": "531bf574-eed9-4c49-8dc2-dab5353312a5",
   "metadata": {},
   "source": [
    "TASK 4: Can you sort the gift list in reverse alphabetic order?"
   ]
  },
  {
   "cell_type": "code",
   "execution_count": 17,
   "id": "5fe9ef6f-c25e-4639-928c-921f4429536a",
   "metadata": {},
   "outputs": [
    {
     "data": {
      "text/plain": [
       "['wine', 'socks', 'jam', '4K drone']"
      ]
     },
     "execution_count": 17,
     "metadata": {},
     "output_type": "execute_result"
    }
   ],
   "source": [
    "gift_list=['socks', '4K drone', 'wine', 'jam']\n",
    "\n",
    "gift_list.sort(reverse= True)\n",
    "gift_list"
   ]
  },
  {
   "cell_type": "markdown",
   "id": "12acd782-9bae-4cea-9518-d8e0ee1ab941",
   "metadata": {},
   "source": [
    "TASK 5: Sort the list below in reverse alphabetic order and then assign the last element to the answer_1 variable."
   ]
  },
  {
   "cell_type": "code",
   "execution_count": 18,
   "id": "9202e8dd-67fa-4d00-868b-f17c6f1f5561",
   "metadata": {},
   "outputs": [
    {
     "data": {
      "text/plain": [
       "'Bears'"
      ]
     },
     "execution_count": 18,
     "metadata": {},
     "output_type": "execute_result"
    }
   ],
   "source": [
    "NFL=[\"Panthers\", \"Bears\", \"Dolphins\" \"Patriots\", \"Saints\", \"Giants\"]\n",
    "\n",
    "NFL.sort(reverse=True)\n",
    "answer_1 = NFL[-1]\n",
    "answer_1"
   ]
  },
  {
   "cell_type": "markdown",
   "id": "636fd0a7-29d8-456d-ae14-bbf985be9269",
   "metadata": {},
   "source": [
    "TASK 6: Sort the cities from z to a."
   ]
  },
  {
   "cell_type": "code",
   "execution_count": 19,
   "id": "e30ca5b7-4a23-460a-a358-a857c473683f",
   "metadata": {},
   "outputs": [
    {
     "data": {
      "text/plain": [
       "['Shanghai', 'Moscow', 'Montreal', 'Melbourne', 'Delhi', 'Atlanta']"
      ]
     },
     "execution_count": 19,
     "metadata": {},
     "output_type": "execute_result"
    }
   ],
   "source": [
    "muni=[\"Melbourne\", \"Shanghai\", \"Delhi\", \"Atlanta\", \"Moscow\", \"Montreal\"]\n",
    "\n",
    "muni.sort(reverse=True)\n",
    "muni"
   ]
  },
  {
   "cell_type": "markdown",
   "id": "72fe9a4f-27a2-409d-bff7-a1c8fd9b0c5d",
   "metadata": {},
   "source": [
    "TASK 7: Sort the keys of the dictionary from a to z.\n",
    "\n",
    "Hint: You might want to create a list of the keys first with the help of a dictionary method."
   ]
  },
  {
   "cell_type": "code",
   "execution_count": 26,
   "id": "c3c774b1-6e93-4267-a9ae-7e2d024b4f91",
   "metadata": {},
   "outputs": [
    {
     "data": {
      "text/plain": [
       "['cheesecake', 'chocolate', 'pudding', 'tiramisu']"
      ]
     },
     "execution_count": 26,
     "metadata": {},
     "output_type": "execute_result"
    }
   ],
   "source": [
    "\n",
    "dict={\"tiramisu\":5, \"chocolate\":2, \"pudding\":3, \"cheesecake\":4}\n",
    "#  Type your code below.\n",
    "\n",
    "key_list = list(dict.keys())\n",
    "key_list.sort()\n",
    "key_list"
   ]
  },
  {
   "cell_type": "code",
   "execution_count": null,
   "id": "cfdaf150-8aed-4cb8-80a5-fdcb7b558edf",
   "metadata": {},
   "outputs": [],
   "source": []
  }
 ],
 "metadata": {
  "kernelspec": {
   "display_name": "Python 3 (ipykernel)",
   "language": "python",
   "name": "python3"
  },
  "language_info": {
   "codemirror_mode": {
    "name": "ipython",
    "version": 3
   },
   "file_extension": ".py",
   "mimetype": "text/x-python",
   "name": "python",
   "nbconvert_exporter": "python",
   "pygments_lexer": "ipython3",
   "version": "3.9.12"
  }
 },
 "nbformat": 4,
 "nbformat_minor": 5
}

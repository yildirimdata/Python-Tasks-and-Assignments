{
 "cells": [
  {
   "cell_type": "markdown",
   "id": "2943cdc7-34eb-4c6a-98b7-234036c30c82",
   "metadata": {},
   "source": [
    "# Basic Lambda Practices"
   ]
  },
  {
   "cell_type": "code",
   "execution_count": 1,
   "id": "0069016d-725b-4541-9a99-1a7f2c2aa3ec",
   "metadata": {},
   "outputs": [
    {
     "data": {
      "text/plain": [
       "15"
      ]
     },
     "execution_count": 1,
     "metadata": {},
     "output_type": "execute_result"
    }
   ],
   "source": [
    "# TASK1: Add 10 to argument a, and return the result:\n",
    "\n",
    "# let's say a = 5\n",
    "(lambda a: a+10)(5)\n"
   ]
  },
  {
   "cell_type": "code",
   "execution_count": 2,
   "id": "824c7b25-ac30-46cc-a29b-808ea52bc84b",
   "metadata": {},
   "outputs": [
    {
     "name": "stdout",
     "output_type": "stream",
     "text": [
      "15\n"
     ]
    }
   ],
   "source": [
    "# or we can assign it first to a variable and then print\n",
    "\n",
    "add_10 = lambda a: a+10\n",
    "\n",
    "print(add_10(5))"
   ]
  },
  {
   "cell_type": "code",
   "execution_count": 3,
   "id": "0eaa934b-601b-4830-83b2-b5c1649164fd",
   "metadata": {},
   "outputs": [
    {
     "data": {
      "text/plain": [
       "15"
      ]
     },
     "execution_count": 3,
     "metadata": {},
     "output_type": "execute_result"
    }
   ],
   "source": [
    "# or\n",
    "add_10(5)"
   ]
  },
  {
   "cell_type": "code",
   "execution_count": 4,
   "id": "f3f49dc5-15fa-43d0-be4c-9332d08a0f7a",
   "metadata": {},
   "outputs": [],
   "source": [
    "# TASK 2: lambda functions can take any number of arguments\n",
    "\n",
    "# Multiply argument a with argument b and return the result:"
   ]
  },
  {
   "cell_type": "code",
   "execution_count": 5,
   "id": "d6279349-2688-4f90-91d3-fdf918fd2580",
   "metadata": {},
   "outputs": [
    {
     "data": {
      "text/plain": [
       "20"
      ]
     },
     "execution_count": 5,
     "metadata": {},
     "output_type": "execute_result"
    }
   ],
   "source": [
    "(lambda a,b: a*b)(4,5)"
   ]
  },
  {
   "cell_type": "code",
   "execution_count": 6,
   "id": "06b34e5b-5fb6-43c8-bb52-858693e5ff8b",
   "metadata": {},
   "outputs": [
    {
     "data": {
      "text/plain": [
       "20"
      ]
     },
     "execution_count": 6,
     "metadata": {},
     "output_type": "execute_result"
    }
   ],
   "source": [
    "# or\n",
    "multiply = lambda a,b: a*b\n",
    "multiply(4,5)"
   ]
  },
  {
   "cell_type": "code",
   "execution_count": 7,
   "id": "0a502cd2-e19a-47cd-8db9-d4860c8ac621",
   "metadata": {},
   "outputs": [
    {
     "data": {
      "text/plain": [
       "15"
      ]
     },
     "execution_count": 7,
     "metadata": {},
     "output_type": "execute_result"
    }
   ],
   "source": [
    "# another example about multiple variables: Summarize argument a, b, and c and return the result:\n",
    "\n",
    "(lambda a,b,c: a+b+c)(4,5,6)"
   ]
  },
  {
   "cell_type": "code",
   "execution_count": 8,
   "id": "27ebfe11-0689-4361-bc5f-ddcdf29a04dc",
   "metadata": {},
   "outputs": [
    {
     "name": "stdout",
     "output_type": "stream",
     "text": [
      "15\n"
     ]
    }
   ],
   "source": [
    "#or\n",
    "summarize = lambda a,b,c: a+b+c\n",
    "print(summarize(4,5,6))"
   ]
  },
  {
   "cell_type": "code",
   "execution_count": 30,
   "id": "64a533eb-d098-4b80-b5a3-e1f268b20f82",
   "metadata": {},
   "outputs": [
    {
     "name": "stdout",
     "output_type": "stream",
     "text": [
      "YADEHTSIYADOT\n"
     ]
    }
   ],
   "source": [
    "str1 = 'todayistheday'\n",
    " \n",
    "reversed_upper = lambda x: x.upper()[::-1]\n",
    "\n",
    "print(reversed_upper(str1))"
   ]
  },
  {
   "cell_type": "code",
   "execution_count": 29,
   "id": "973634f2-723d-49e2-a941-7d37b1103296",
   "metadata": {},
   "outputs": [
    {
     "name": "stdout",
     "output_type": "stream",
     "text": [
      "YADEHTSIYADOT\n"
     ]
    }
   ],
   "source": [
    "# or:\n",
    "str1 = 'TodayIsTheDay'\n",
    " \n",
    "reversed_upper = lambda str1: str1.upper()[::-1]\n",
    "print(reversed_upper(str1))"
   ]
  },
  {
   "cell_type": "code",
   "execution_count": 38,
   "id": "ec9bbe97-201b-4a62-87c3-e3f43235e8ce",
   "metadata": {},
   "outputs": [
    {
     "name": "stdout",
     "output_type": "stream",
     "text": [
      "10\n",
      "20\n",
      "30\n",
      "40\n"
     ]
    }
   ],
   "source": [
    "# Using lambda in list comprehension\n",
    "\n",
    "is_even_list = [lambda i=x: i * 10 for x in range(1, 5)]\n",
    "\n",
    "# iterate on each lambda function and invoke the function to get the calculated value\n",
    "for i in is_even_list:\n",
    "\tprint(i())\n"
   ]
  },
  {
   "cell_type": "code",
   "execution_count": 39,
   "id": "6a48d3a5-a32f-4652-8457-09f44727bdec",
   "metadata": {},
   "outputs": [
    {
     "name": "stdout",
     "output_type": "stream",
     "text": [
      "11\n"
     ]
    }
   ],
   "source": [
    "# Example of lambda function using if-else\n",
    "Max = lambda x, y : x if(x > y) else y\n",
    " \n",
    "print(Max(10, 11))"
   ]
  },
  {
   "cell_type": "code",
   "execution_count": 40,
   "id": "54e3b1b7-5a83-469c-81bb-2f7b458e2e06",
   "metadata": {},
   "outputs": [
    {
     "name": "stdout",
     "output_type": "stream",
     "text": [
      "[5, 7, 97, 77, 23, 73, 61]\n"
     ]
    }
   ],
   "source": [
    "# lambda with filter()\n",
    "lst = [5, 7, 22, 97, 54, 62, 77, 23, 73, 61]\n",
    " \n",
    "final_list = list(filter(lambda x: x % 2, lst))\n",
    "print(final_list)"
   ]
  },
  {
   "cell_type": "code",
   "execution_count": 41,
   "id": "1c8b95a3-fa3a-47d2-b34b-bbe444056ce0",
   "metadata": {},
   "outputs": [
    {
     "name": "stdout",
     "output_type": "stream",
     "text": [
      "[10, 14, 44, 194, 108, 124, 154, 46, 146, 122]\n"
     ]
    }
   ],
   "source": [
    "# map() with lambda()\n",
    "# to get double of a list.\n",
    "lst = [5, 7, 22, 97, 54, 62, 77, 23, 73, 61]\n",
    " \n",
    "final_list = list(map(lambda x: x*2, lst))\n",
    "print(final_list)"
   ]
  },
  {
   "cell_type": "markdown",
   "id": "b49cc1c1-da40-4d8f-8c5c-816b36e03f1f",
   "metadata": {},
   "source": [
    "Using lambda in a function:"
   ]
  },
  {
   "cell_type": "markdown",
   "id": "8caffe2c-6156-467d-9a38-7882af8b119f",
   "metadata": {},
   "source": [
    "TASK: Say you have a function definition that takes one argument, and that argument will be multiplied with an unknown number:"
   ]
  },
  {
   "cell_type": "code",
   "execution_count": 19,
   "id": "73536bf3-6902-40b0-9e09-e1d3982c0ff2",
   "metadata": {},
   "outputs": [
    {
     "name": "stdout",
     "output_type": "stream",
     "text": [
      "4\n",
      "6\n",
      "8\n"
     ]
    }
   ],
   "source": [
    "def argu(n):\n",
    "    return lambda x: x*n\n",
    "\n",
    "my_multiply = argu(2)\n",
    "print(my_multiply(2))\n",
    "print(my_multiply(3))\n",
    "print(my_multiply(4))"
   ]
  },
  {
   "cell_type": "markdown",
   "id": "866d6db7-6515-427c-889c-901d2ee85603",
   "metadata": {},
   "source": [
    "Or, use the same function definition to make a function that always triples the number you send in:"
   ]
  },
  {
   "cell_type": "code",
   "execution_count": 18,
   "id": "240e30ee-3531-4d31-acc5-790f0dc4155a",
   "metadata": {},
   "outputs": [
    {
     "name": "stdout",
     "output_type": "stream",
     "text": [
      "6\n"
     ]
    }
   ],
   "source": [
    "def argu(n):\n",
    "    return lambda x: x*n\n",
    "\n",
    "my_triple = argu(3)\n",
    "print(my_triple(2))"
   ]
  },
  {
   "cell_type": "markdown",
   "id": "c00f65ac-2256-421e-bcc7-7ea3cb5d68ea",
   "metadata": {},
   "source": [
    "Or, use the same function definition to make both functions, in the same program:"
   ]
  },
  {
   "cell_type": "code",
   "execution_count": 22,
   "id": "53a81b10-8a00-48bd-ae60-c41a792b470f",
   "metadata": {},
   "outputs": [
    {
     "name": "stdout",
     "output_type": "stream",
     "text": [
      "20\n",
      "30\n"
     ]
    }
   ],
   "source": [
    "def argu(n):\n",
    "    return lambda x: x*n\n",
    "\n",
    "my_multiply = argu(2)\n",
    "print(my_multiply(10))\n",
    "\n",
    "my_triples = argu(3)\n",
    "print(my_triples(10))"
   ]
  },
  {
   "cell_type": "code",
   "execution_count": null,
   "id": "ac634f4c-81f3-4cf2-87ed-ebbf9bcd16c5",
   "metadata": {},
   "outputs": [],
   "source": []
  }
 ],
 "metadata": {
  "kernelspec": {
   "display_name": "Python 3 (ipykernel)",
   "language": "python",
   "name": "python3"
  },
  "language_info": {
   "codemirror_mode": {
    "name": "ipython",
    "version": 3
   },
   "file_extension": ".py",
   "mimetype": "text/x-python",
   "name": "python",
   "nbconvert_exporter": "python",
   "pygments_lexer": "ipython3",
   "version": "3.9.12"
  }
 },
 "nbformat": 4,
 "nbformat_minor": 5
}

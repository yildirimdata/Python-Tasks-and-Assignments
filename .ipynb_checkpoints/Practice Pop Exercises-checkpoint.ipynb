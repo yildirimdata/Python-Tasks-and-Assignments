{
 "cells": [
  {
   "cell_type": "markdown",
   "id": "b0c7d478-49cb-47df-8d52-1db80bd6b8f0",
   "metadata": {},
   "source": [
    "# Practice - POP Exercises\n",
    "\n",
    "Source : https://holypython.com/beginner-python-exercises/exercise-12-pop-method/"
   ]
  },
  {
   "cell_type": "markdown",
   "id": "24f76af4-41d9-4b40-ad8b-6a74193b308f",
   "metadata": {},
   "source": [
    "TASK 1: Pop the last item of the list below."
   ]
  },
  {
   "cell_type": "code",
   "execution_count": 3,
   "id": "74410d9f-8952-438d-9d48-92a571b315e1",
   "metadata": {},
   "outputs": [
    {
     "name": "stdout",
     "output_type": "stream",
     "text": [
      "999\n",
      "[11, 100, 99, 1000]\n"
     ]
    }
   ],
   "source": [
    "lst=[11, 100, 99, 1000, 999]\n",
    "popped_item = lst.pop()\n",
    "\n",
    "print(popped_item)\n",
    "print(lst)"
   ]
  },
  {
   "cell_type": "code",
   "execution_count": null,
   "id": "2f1502df-6baa-4bcb-ab07-0941693143df",
   "metadata": {},
   "outputs": [],
   "source": []
  }
 ],
 "metadata": {
  "kernelspec": {
   "display_name": "Python 3 (ipykernel)",
   "language": "python",
   "name": "python3"
  },
  "language_info": {
   "codemirror_mode": {
    "name": "ipython",
    "version": 3
   },
   "file_extension": ".py",
   "mimetype": "text/x-python",
   "name": "python",
   "nbconvert_exporter": "python",
   "pygments_lexer": "ipython3",
   "version": "3.9.12"
  }
 },
 "nbformat": 4,
 "nbformat_minor": 5
}

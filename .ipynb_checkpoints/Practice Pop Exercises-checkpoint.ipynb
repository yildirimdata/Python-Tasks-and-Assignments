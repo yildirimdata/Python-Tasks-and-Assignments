{
 "cells": [
  {
   "cell_type": "markdown",
   "id": "b0c7d478-49cb-47df-8d52-1db80bd6b8f0",
   "metadata": {},
   "source": [
    "# Practice - POP Exercises\n",
    "\n",
    "Source : https://holypython.com/beginner-python-exercises/exercise-12-pop-method/"
   ]
  },
  {
   "cell_type": "code",
   "execution_count": null,
   "id": "2f7c38ef-c6ec-4115-82fe-e2dc2673258b",
   "metadata": {},
   "outputs": [],
   "source": []
  }
 ],
 "metadata": {
  "kernelspec": {
   "display_name": "Python 3 (ipykernel)",
   "language": "python",
   "name": "python3"
  },
  "language_info": {
   "codemirror_mode": {
    "name": "ipython",
    "version": 3
   },
   "file_extension": ".py",
   "mimetype": "text/x-python",
   "name": "python",
   "nbconvert_exporter": "python",
   "pygments_lexer": "ipython3",
   "version": "3.9.12"
  }
 },
 "nbformat": 4,
 "nbformat_minor": 5
}

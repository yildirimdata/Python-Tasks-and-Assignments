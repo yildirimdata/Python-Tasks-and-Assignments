{
 "cells": [
  {
   "cell_type": "markdown",
   "id": "cb9114b0-135c-4203-b8ca-bf7e27b89496",
   "metadata": {},
   "source": [
    "# Practice : Try-Except Exercises \n",
    "\n",
    "source : https://holypython.com/advanced-python-exercises/exercise-3-try-except/"
   ]
  },
  {
   "cell_type": "markdown",
   "id": "17928aa0-42e8-4f95-9bdc-42c7f5980372",
   "metadata": {},
   "source": [
    "TASK 1: Place result=\"You can't divide with 0\" to the right place so that program avoids ZeroDivisionError."
   ]
  },
  {
   "cell_type": "code",
   "execution_count": 1,
   "id": "fd493cd8-00f2-41cd-bc01-26c9e2b87eb6",
   "metadata": {},
   "outputs": [
    {
     "name": "stdout",
     "output_type": "stream",
     "text": [
      "You can't divide with 0\n"
     ]
    }
   ],
   "source": [
    "a=5\n",
    "b=0\n",
    "try:\n",
    "    result= a/b\n",
    "except ZeroDivisionError:\n",
    "    result = \"You can't divide with 0\"\n",
    "\n",
    "print(result)"
   ]
  },
  {
   "cell_type": "markdown",
   "id": "5ab8898b-7853-4de6-8abb-037b2e354617",
   "metadata": {},
   "source": [
    "TASK 2: .get() is not a list method. Place pass keyword to the right line so that program doesn't throw an error."
   ]
  },
  {
   "cell_type": "code",
   "execution_count": 2,
   "id": "3ceaf65e-b1b8-4452-8d29-79f889b00cc0",
   "metadata": {},
   "outputs": [
    {
     "name": "stdout",
     "output_type": "stream",
     "text": [
      "[1, 3, 5]\n"
     ]
    }
   ],
   "source": [
    "a = [1, 3, 5]\n",
    "try:\n",
    "    a.get()\n",
    "except:\n",
    "    pass\n",
    "\n",
    "print(a)"
   ]
  },
  {
   "cell_type": "markdown",
   "id": "cce6b6a6-4e13-46da-b94b-304e0d3ecc1c",
   "metadata": {},
   "source": [
    "TASK 3: Place msg=\"You can't add int to string\" to the right place so that program avoids BaseExceptionError.\n",
    "\n",
    "You can use except Exception although normally you should be careful using such powerful exception statements."
   ]
  },
  {
   "cell_type": "code",
   "execution_count": 5,
   "id": "1ffffd3a-f7c1-489d-8729-3769168873d0",
   "metadata": {},
   "outputs": [
    {
     "name": "stdout",
     "output_type": "stream",
     "text": [
      "You can't add int to string\n"
     ]
    }
   ],
   "source": [
    "a = \"Hello World!\"\n",
    "try:\n",
    "    a + 10\n",
    "except Exception:\n",
    "    msg=\"You can't add int to string\"\n",
    "\n",
    "print(msg)"
   ]
  },
  {
   "cell_type": "markdown",
   "id": "bc2a0824-d2c2-49c9-9708-08bc7a8dab1d",
   "metadata": {},
   "source": [
    "TASK 4: Place msg=\"You're out of list range\" to avoid IndexError."
   ]
  },
  {
   "cell_type": "code",
   "execution_count": 7,
   "id": "20ba12e1-b55d-4892-a70f-0773a862b77b",
   "metadata": {},
   "outputs": [
    {
     "name": "stdout",
     "output_type": "stream",
     "text": [
      "You're out of list range\n"
     ]
    }
   ],
   "source": [
    "lst=[5, 10, 20]\n",
    "\n",
    "try:\n",
    "    print(lst[5])\n",
    "except Exception:\n",
    "    msg=\"You're out of list range\"\n",
    "    \n",
    "    \n",
    "print(msg)"
   ]
  },
  {
   "cell_type": "code",
   "execution_count": null,
   "id": "2fe5674b-7aea-4232-b7f8-63ef1fb718d8",
   "metadata": {},
   "outputs": [],
   "source": []
  }
 ],
 "metadata": {
  "kernelspec": {
   "display_name": "Python 3 (ipykernel)",
   "language": "python",
   "name": "python3"
  },
  "language_info": {
   "codemirror_mode": {
    "name": "ipython",
    "version": 3
   },
   "file_extension": ".py",
   "mimetype": "text/x-python",
   "name": "python",
   "nbconvert_exporter": "python",
   "pygments_lexer": "ipython3",
   "version": "3.9.12"
  }
 },
 "nbformat": 4,
 "nbformat_minor": 5
}

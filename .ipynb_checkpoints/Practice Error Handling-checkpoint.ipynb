{
 "cells": [
  {
   "cell_type": "markdown",
   "id": "c0ba183b-9394-4624-98c1-89876fec9a5a",
   "metadata": {},
   "source": [
    "# Practice Error Handling\n",
    "\n",
    "source: https://holypython.com/beginner-python-exercises/exercise-15-error-handling/"
   ]
  },
  {
   "cell_type": "markdown",
   "id": "58fa36d6-4c67-45b2-af2d-11295c35f00c",
   "metadata": {},
   "source": [
    "TASK 1: Type something so that Python gives a NameError."
   ]
  },
  {
   "cell_type": "code",
   "execution_count": 2,
   "id": "d38d294d-1e96-4c1d-9c5f-474e8d428a42",
   "metadata": {},
   "outputs": [
    {
     "ename": "NameError",
     "evalue": "name 'b' is not defined",
     "output_type": "error",
     "traceback": [
      "\u001b[0;31m---------------------------------------------------------------------------\u001b[0m",
      "\u001b[0;31mNameError\u001b[0m                                 Traceback (most recent call last)",
      "Input \u001b[0;32mIn [2]\u001b[0m, in \u001b[0;36m<cell line: 2>\u001b[0;34m()\u001b[0m\n\u001b[1;32m      1\u001b[0m a \u001b[38;5;241m=\u001b[39m \u001b[38;5;241m5\u001b[39m\n\u001b[0;32m----> 2\u001b[0m c \u001b[38;5;241m=\u001b[39m a\u001b[38;5;241m+\u001b[39m\u001b[43mb\u001b[49m\n",
      "\u001b[0;31mNameError\u001b[0m: name 'b' is not defined"
     ]
    }
   ],
   "source": [
    "a = 5\n",
    "c = a+b"
   ]
  },
  {
   "cell_type": "markdown",
   "id": "8d99c3b5-1505-45ab-8fec-87b64f1c2f18",
   "metadata": {},
   "source": [
    "TASK 2: Type something so that Python gives a SyntaxError."
   ]
  },
  {
   "cell_type": "code",
   "execution_count": 3,
   "id": "5ffaf0a7-3345-4ae2-8e59-b0850ea6ab25",
   "metadata": {},
   "outputs": [
    {
     "ename": "SyntaxError",
     "evalue": "EOL while scanning string literal (2771999186.py, line 1)",
     "output_type": "error",
     "traceback": [
      "\u001b[0;36m  Input \u001b[0;32mIn [3]\u001b[0;36m\u001b[0m\n\u001b[0;31m    print(\"hi)\u001b[0m\n\u001b[0m              ^\u001b[0m\n\u001b[0;31mSyntaxError\u001b[0m\u001b[0;31m:\u001b[0m EOL while scanning string literal\n"
     ]
    }
   ],
   "source": [
    "print(\"hi)"
   ]
  },
  {
   "cell_type": "markdown",
   "id": "27251318-c0fc-43e0-9518-930f00ef7d00",
   "metadata": {},
   "source": [
    "TASK 3: Type something so that Python gives a TypeError."
   ]
  },
  {
   "cell_type": "code",
   "execution_count": 4,
   "id": "a9c3ccf6-0cb4-448f-a140-190174201146",
   "metadata": {},
   "outputs": [
    {
     "ename": "TypeError",
     "evalue": "unsupported operand type(s) for +: 'int' and 'str'",
     "output_type": "error",
     "traceback": [
      "\u001b[0;31m---------------------------------------------------------------------------\u001b[0m",
      "\u001b[0;31mTypeError\u001b[0m                                 Traceback (most recent call last)",
      "Input \u001b[0;32mIn [4]\u001b[0m, in \u001b[0;36m<cell line: 2>\u001b[0;34m()\u001b[0m\n\u001b[1;32m      1\u001b[0m a,b \u001b[38;5;241m=\u001b[39m \u001b[38;5;241m3\u001b[39m, \u001b[38;5;124m\"\u001b[39m\u001b[38;5;124mthree\u001b[39m\u001b[38;5;124m\"\u001b[39m\n\u001b[0;32m----> 2\u001b[0m \u001b[38;5;28mprint\u001b[39m(\u001b[43ma\u001b[49m\u001b[38;5;241;43m+\u001b[39;49m\u001b[43mb\u001b[49m)\n",
      "\u001b[0;31mTypeError\u001b[0m: unsupported operand type(s) for +: 'int' and 'str'"
     ]
    }
   ],
   "source": [
    "a,b = 3, \"three\"\n",
    "print(a+b)"
   ]
  },
  {
   "cell_type": "markdown",
   "id": "ab48165c-2363-420d-aeed-ec9ffc201593",
   "metadata": {},
   "source": [
    "TASK 4: Type something so that Python gives a IndexError."
   ]
  },
  {
   "cell_type": "code",
   "execution_count": 5,
   "id": "5e413aa0-73aa-4f63-afad-5c07019ea11c",
   "metadata": {},
   "outputs": [
    {
     "ename": "IndexError",
     "evalue": "list index out of range",
     "output_type": "error",
     "traceback": [
      "\u001b[0;31m---------------------------------------------------------------------------\u001b[0m",
      "\u001b[0;31mIndexError\u001b[0m                                Traceback (most recent call last)",
      "Input \u001b[0;32mIn [5]\u001b[0m, in \u001b[0;36m<cell line: 1>\u001b[0;34m()\u001b[0m\n\u001b[0;32m----> 1\u001b[0m \u001b[38;5;28mprint\u001b[39m(\u001b[43m[\u001b[49m\u001b[38;5;241;43m1\u001b[39;49m\u001b[43m,\u001b[49m\u001b[38;5;241;43m2\u001b[39;49m\u001b[43m,\u001b[49m\u001b[38;5;241;43m3\u001b[39;49m\u001b[43m]\u001b[49m\u001b[43m[\u001b[49m\u001b[38;5;241;43m3\u001b[39;49m\u001b[43m]\u001b[49m)\n",
      "\u001b[0;31mIndexError\u001b[0m: list index out of range"
     ]
    }
   ],
   "source": [
    "print([1,2,3][3])"
   ]
  },
  {
   "cell_type": "markdown",
   "id": "816596b5-3daa-4690-a0e9-eec8453a6a7d",
   "metadata": {},
   "source": [
    "TASK 5: Type something so that Python gives a KeyError."
   ]
  },
  {
   "cell_type": "code",
   "execution_count": 6,
   "id": "1cf0750b-610a-45bb-9367-236e74ea560e",
   "metadata": {},
   "outputs": [
    {
     "ename": "KeyError",
     "evalue": "3",
     "output_type": "error",
     "traceback": [
      "\u001b[0;31m---------------------------------------------------------------------------\u001b[0m",
      "\u001b[0;31mKeyError\u001b[0m                                  Traceback (most recent call last)",
      "Input \u001b[0;32mIn [6]\u001b[0m, in \u001b[0;36m<cell line: 1>\u001b[0;34m()\u001b[0m\n\u001b[0;32m----> 1\u001b[0m \u001b[38;5;28mprint\u001b[39m(\u001b[43m{\u001b[49m\u001b[38;5;124;43m\"\u001b[39;49m\u001b[38;5;124;43m3\u001b[39;49m\u001b[38;5;124;43m\"\u001b[39;49m\u001b[43m:\u001b[49m\u001b[43m \u001b[49m\u001b[38;5;241;43m3\u001b[39;49m\u001b[43m}\u001b[49m\u001b[43m[\u001b[49m\u001b[38;5;241;43m3\u001b[39;49m\u001b[43m]\u001b[49m)\n",
      "\u001b[0;31mKeyError\u001b[0m: 3"
     ]
    }
   ],
   "source": [
    "print({\"3\": 3}[3])"
   ]
  },
  {
   "cell_type": "markdown",
   "id": "d5abf102-1ce4-4eac-b6ec-219f5f8f53b0",
   "metadata": {},
   "source": [
    "TASK 6: Type something so that Python gives a AttributeError."
   ]
  },
  {
   "cell_type": "code",
   "execution_count": 7,
   "id": "4252b0f6-4523-4cf2-b25d-c71c6df2a593",
   "metadata": {},
   "outputs": [
    {
     "ename": "AttributeError",
     "evalue": "'list' object has no attribute 'shape'",
     "output_type": "error",
     "traceback": [
      "\u001b[0;31m---------------------------------------------------------------------------\u001b[0m",
      "\u001b[0;31mAttributeError\u001b[0m                            Traceback (most recent call last)",
      "Input \u001b[0;32mIn [7]\u001b[0m, in \u001b[0;36m<cell line: 2>\u001b[0;34m()\u001b[0m\n\u001b[1;32m      1\u001b[0m lst\u001b[38;5;241m=\u001b[39m [\u001b[38;5;241m1\u001b[39m,\u001b[38;5;241m2\u001b[39m,\u001b[38;5;241m3\u001b[39m]\n\u001b[0;32m----> 2\u001b[0m \u001b[43mlst\u001b[49m\u001b[38;5;241;43m.\u001b[39;49m\u001b[43mshape\u001b[49m\n",
      "\u001b[0;31mAttributeError\u001b[0m: 'list' object has no attribute 'shape'"
     ]
    }
   ],
   "source": [
    "lst= [1,2,3]\n",
    "lst.shape"
   ]
  },
  {
   "cell_type": "markdown",
   "id": "3dbcf9c6-a323-48f3-8c33-69a26c4cd1bc",
   "metadata": {},
   "source": [
    "TASK 7: Type something so that Python gives a ValueError."
   ]
  },
  {
   "cell_type": "code",
   "execution_count": 12,
   "id": "a65096e5-3e91-4c6b-9567-fc1ccc3034e6",
   "metadata": {},
   "outputs": [
    {
     "ename": "ValueError",
     "evalue": "invalid literal for int() with base 10: 'one'",
     "output_type": "error",
     "traceback": [
      "\u001b[0;31m---------------------------------------------------------------------------\u001b[0m",
      "\u001b[0;31mValueError\u001b[0m                                Traceback (most recent call last)",
      "Input \u001b[0;32mIn [12]\u001b[0m, in \u001b[0;36m<cell line: 1>\u001b[0;34m()\u001b[0m\n\u001b[0;32m----> 1\u001b[0m one \u001b[38;5;241m=\u001b[39m \u001b[38;5;28;43mint\u001b[39;49m\u001b[43m(\u001b[49m\u001b[38;5;124;43m\"\u001b[39;49m\u001b[38;5;124;43mone\u001b[39;49m\u001b[38;5;124;43m\"\u001b[39;49m\u001b[43m)\u001b[49m\n",
      "\u001b[0;31mValueError\u001b[0m: invalid literal for int() with base 10: 'one'"
     ]
    }
   ],
   "source": [
    "one = int(\"one\")"
   ]
  },
  {
   "cell_type": "markdown",
   "id": "bad074ae-f768-4bb0-a79a-b40fe0ec7023",
   "metadata": {},
   "source": [
    "Value error occurs when you apply a function to a data type correctly but the content is not suitable for that operation. For example, you can apply int() to a string of numbers such as: \n",
    "\n",
    "int(“111”)\n",
    "\n",
    "but you can’t convert letters to integers so following won’t work:\n",
    "\n",
    "int(“Hello”)"
   ]
  },
  {
   "cell_type": "code",
   "execution_count": null,
   "id": "95d73b43-a796-44b2-b21a-aac86c7ba06c",
   "metadata": {},
   "outputs": [],
   "source": []
  }
 ],
 "metadata": {
  "kernelspec": {
   "display_name": "Python 3 (ipykernel)",
   "language": "python",
   "name": "python3"
  },
  "language_info": {
   "codemirror_mode": {
    "name": "ipython",
    "version": 3
   },
   "file_extension": ".py",
   "mimetype": "text/x-python",
   "name": "python",
   "nbconvert_exporter": "python",
   "pygments_lexer": "ipython3",
   "version": "3.9.12"
  }
 },
 "nbformat": 4,
 "nbformat_minor": 5
}

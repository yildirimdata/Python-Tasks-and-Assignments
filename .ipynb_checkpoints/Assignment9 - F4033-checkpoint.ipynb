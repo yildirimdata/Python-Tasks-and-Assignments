{
 "cells": [
  {
   "cell_type": "markdown",
   "id": "d8634d46-a7b6-4ba8-a6de-4b4d3eb0cc1c",
   "metadata": {},
   "source": [
    "Task : Let's say; you left a message in the past that prints a password you need. To see the password you wrote, you need to enter your name and the program should recognize you.\n",
    "Write a program that \n",
    "\n",
    "Takes the first name from the user and compares it to yours,\n",
    "Then if the name the user entered is the same as yours, print out such as : \"Hello, Joseph! The password is : W@12\",\n",
    "If the name the user entered is not the same as yours, print out such as : \"Hello, Amina! See you later.\""
   ]
  },
  {
   "cell_type": "code",
   "execution_count": 1,
   "id": "006f3e56-63b3-4ec0-a54b-a9a227020f3f",
   "metadata": {},
   "outputs": [
    {
     "name": "stdin",
     "output_type": "stream",
     "text": [
      "Enter your name to see the password :  Abdulkadir\n"
     ]
    },
    {
     "name": "stdout",
     "output_type": "stream",
     "text": [
      "Hello, Abdulkadir! See you later.\n"
     ]
    }
   ],
   "source": [
    "myname = \"Kadir\"\n",
    "user_name = input(\"Enter your name to see the password : \").capitalize().strip()\n",
    "\n",
    "if user_name == myname:  # istersek user_name.title().strip() burada da yapılabilir\n",
    "    print(f\"Hello, {myname}! The password is : W@12\")\n",
    "else:\n",
    "    print(\"Hello, {}! See you later.\".format(user_name)) "
   ]
  },
  {
   "cell_type": "code",
   "execution_count": 4,
   "id": "4e0e0e9f-9fc7-4ab4-bd04-a866eb401562",
   "metadata": {},
   "outputs": [
    {
     "name": "stdin",
     "output_type": "stream",
     "text": [
      "Enter your name to see the password :  Kadır\n"
     ]
    },
    {
     "name": "stdout",
     "output_type": "stream",
     "text": [
      "Hello, Kadir! The password is : kfjfhdgdg648389\n"
     ]
    }
   ],
   "source": [
    "# diyelim ki user türkçe büyük i girdi. hata vermemesi icin:\n",
    "\n",
    "myname = \"Kadir\"\n",
    "password = \"kfjfhdgdg648389\"\n",
    "user_name = input(\"Enter your name to see the password : \").replace(\"I\", \"İ\").\\\n",
    "replace(\"ı\", \"i\").replace(\"ö\", \"o\"). replace(\"ğ\", \"g\").capitalize().strip()\n",
    "\n",
    "if user_name == myname:  # istersek user_name.title().strip() burada da yapılabilir\n",
    "    print(f\"Hello, {myname}! The password is : {password}\")\n",
    "else:\n",
    "    print(\"Hello, {}! See you later.\".format(user_name)) \n"
   ]
  },
  {
   "cell_type": "code",
   "execution_count": 6,
   "id": "afc9e008-f1d8-47dc-a3f1-0f231b9ffbeb",
   "metadata": {},
   "outputs": [
    {
     "name": "stdin",
     "output_type": "stream",
     "text": [
      "Enter your name to see the password :  Kadır\n"
     ]
    },
    {
     "name": "stdout",
     "output_type": "stream",
     "text": [
      "Use only English letters\n"
     ]
    },
    {
     "name": "stdin",
     "output_type": "stream",
     "text": [
      "Enter your name to see the password :  Kadir\n"
     ]
    },
    {
     "name": "stdout",
     "output_type": "stream",
     "text": [
      "Hello, Kadir! The password is : kfjfhdgdg648389\n"
     ]
    }
   ],
   "source": [
    "myname = \"Kadir\"\n",
    "password = \"kfjfhdgdg648389\"\n",
    "Tr_list = \"ü Ü ö Ö ı İ ğ Ğ\".split()\n",
    "i = 0\n",
    "while True:\n",
    "    user_name = input(\"Enter your name to see the password : \")\n",
    "    count = 0\n",
    "    \n",
    "    for i in range(len(user_name)) :  # range hem indexing icin ismin harfleri kadar kontrolü\n",
    "        # hem de for döngüsü için sayacı oluşturuyor\n",
    "        if user_name[i] in Tr_list :\n",
    "            count += 1  # countı verme sebebimiz bu iç for loop bitince yukarı dönsün diye\n",
    "    if count == 0:\n",
    "        if user_name == myname : \n",
    "            print(f\"Hello, {myname}! The password is : {password}\")\n",
    "            break\n",
    "        else:\n",
    "            print(\"Hello, {}! See you later.\".format(user_name)) \n",
    "            break\n",
    "            \n",
    "    elif count > 0 :  # yani tr karakter bulduysa\n",
    "        print(\"Use only English letters\")\n",
    "        continue  # yukarı çıkması için tekrar\n"
   ]
  },
  {
   "cell_type": "code",
   "execution_count": null,
   "id": "9672e2f0-9738-4fef-8402-99d0f836581d",
   "metadata": {},
   "outputs": [],
   "source": []
  }
 ],
 "metadata": {
  "kernelspec": {
   "display_name": "Python 3 (ipykernel)",
   "language": "python",
   "name": "python3"
  },
  "language_info": {
   "codemirror_mode": {
    "name": "ipython",
    "version": 3
   },
   "file_extension": ".py",
   "mimetype": "text/x-python",
   "name": "python",
   "nbconvert_exporter": "python",
   "pygments_lexer": "ipython3",
   "version": "3.9.12"
  }
 },
 "nbformat": 4,
 "nbformat_minor": 5
}

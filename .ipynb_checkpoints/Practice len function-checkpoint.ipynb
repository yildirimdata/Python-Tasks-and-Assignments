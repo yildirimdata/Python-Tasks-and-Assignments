{
 "cells": [
  {
   "cell_type": "markdown",
   "id": "49e33320-60d5-4890-9856-ba5b998cf3b9",
   "metadata": {},
   "source": [
    "# LEN FUNCTION - Practice\n",
    "\n",
    "Source: https://holypython.com/beginner-python-exercises/exercise-10-len-function/"
   ]
  },
  {
   "cell_type": "code",
   "execution_count": null,
   "id": "25b2c5a7-5406-4f7c-bf11-823c115421ce",
   "metadata": {},
   "outputs": [],
   "source": []
  },
  {
   "cell_type": "code",
   "execution_count": null,
   "id": "9d7661ed-014d-4363-b031-478f9682b10c",
   "metadata": {},
   "outputs": [],
   "source": []
  },
  {
   "cell_type": "code",
   "execution_count": null,
   "id": "93743e5e-1b5c-4829-810d-222b6d9fc503",
   "metadata": {},
   "outputs": [],
   "source": []
  },
  {
   "cell_type": "code",
   "execution_count": null,
   "id": "0069581b-8062-4a81-9b7f-30fb6650e57c",
   "metadata": {},
   "outputs": [],
   "source": []
  },
  {
   "cell_type": "code",
   "execution_count": null,
   "id": "a4c72d0b-c9d0-434a-b0cd-56e6e9f551ad",
   "metadata": {},
   "outputs": [],
   "source": []
  },
  {
   "cell_type": "code",
   "execution_count": null,
   "id": "0ad0c0c9-96cf-4629-b811-dc674344068d",
   "metadata": {},
   "outputs": [],
   "source": []
  }
 ],
 "metadata": {
  "kernelspec": {
   "display_name": "Python 3 (ipykernel)",
   "language": "python",
   "name": "python3"
  },
  "language_info": {
   "codemirror_mode": {
    "name": "ipython",
    "version": 3
   },
   "file_extension": ".py",
   "mimetype": "text/x-python",
   "name": "python",
   "nbconvert_exporter": "python",
   "pygments_lexer": "ipython3",
   "version": "3.9.12"
  }
 },
 "nbformat": 4,
 "nbformat_minor": 5
}

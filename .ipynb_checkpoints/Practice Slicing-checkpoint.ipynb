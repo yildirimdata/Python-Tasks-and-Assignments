{
 "cells": [
  {
   "cell_type": "markdown",
   "id": "31d9d840-7fce-491d-8b84-bcceb20aeedf",
   "metadata": {},
   "source": [
    "# Practice : Slicing \n",
    "\n",
    "source : https://holypython.com/beginner-python-exercises/exercise-17-python-slicing/"
   ]
  },
  {
   "cell_type": "code",
   "execution_count": null,
   "id": "e09357b3-8d7a-4717-9ad8-e70794904104",
   "metadata": {},
   "outputs": [],
   "source": []
  },
  {
   "cell_type": "code",
   "execution_count": null,
   "id": "a77f2bd2-603d-4e48-bc6a-495556313886",
   "metadata": {},
   "outputs": [],
   "source": []
  }
 ],
 "metadata": {
  "kernelspec": {
   "display_name": "Python 3 (ipykernel)",
   "language": "python",
   "name": "python3"
  },
  "language_info": {
   "codemirror_mode": {
    "name": "ipython",
    "version": 3
   },
   "file_extension": ".py",
   "mimetype": "text/x-python",
   "name": "python",
   "nbconvert_exporter": "python",
   "pygments_lexer": "ipython3",
   "version": "3.9.12"
  }
 },
 "nbformat": 4,
 "nbformat_minor": 5
}

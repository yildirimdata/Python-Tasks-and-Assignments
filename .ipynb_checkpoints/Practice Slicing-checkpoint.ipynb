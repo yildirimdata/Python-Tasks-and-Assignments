{
 "cells": [
  {
   "cell_type": "markdown",
   "id": "31d9d840-7fce-491d-8b84-bcceb20aeedf",
   "metadata": {},
   "source": [
    "# Practice : Slicing \n",
    "\n",
    "source : https://holypython.com/beginner-python-exercises/exercise-17-python-slicing/"
   ]
  },
  {
   "cell_type": "markdown",
   "id": "ebd070a6-488a-499c-b5f0-035a4f16351b",
   "metadata": {},
   "source": [
    "TASK 1: Slice the word until first \"a\". (Tosc)"
   ]
  },
  {
   "cell_type": "code",
   "execution_count": 3,
   "id": "b19ba796-a9e8-402c-b30d-b0fa6fa13750",
   "metadata": {},
   "outputs": [
    {
     "name": "stdout",
     "output_type": "stream",
     "text": [
      "Tosc\n"
     ]
    }
   ],
   "source": [
    "wrd=\"Toscana\"\n",
    "ans_1= wrd[:(wrd.index(\"a\"))]\n",
    "print(ans_1)"
   ]
  },
  {
   "cell_type": "markdown",
   "id": "a323bba9-3071-4aeb-9d26-4ad52f94b37c",
   "metadata": {},
   "source": [
    "TASK 2: Slice the word so that you get \"cana\"."
   ]
  },
  {
   "cell_type": "code",
   "execution_count": 5,
   "id": "f2d63336-6b52-40bc-9524-1eaa412271d8",
   "metadata": {},
   "outputs": [
    {
     "data": {
      "text/plain": [
       "'cana'"
      ]
     },
     "execution_count": 5,
     "metadata": {},
     "output_type": "execute_result"
    }
   ],
   "source": [
    "wrd=\"Toscana\"\n",
    "\n",
    "wrd[3:]"
   ]
  },
  {
   "cell_type": "markdown",
   "id": "3c705239-8153-4520-a497-a991f90fad3c",
   "metadata": {},
   "source": [
    "TASK 3: Now try to get \"can\" only."
   ]
  },
  {
   "cell_type": "code",
   "execution_count": 6,
   "id": "a9452b51-2795-4421-881a-0ea864b5c357",
   "metadata": {},
   "outputs": [
    {
     "data": {
      "text/plain": [
       "'can'"
      ]
     },
     "execution_count": 6,
     "metadata": {},
     "output_type": "execute_result"
    }
   ],
   "source": [
    "wrd=\"Toscana\"\n",
    "\n",
    "wrd[3:-1]"
   ]
  },
  {
   "cell_type": "markdown",
   "id": "e2fbf7e1-6063-43e9-9279-14c2d1ae0832",
   "metadata": {},
   "source": [
    "TASK 4: Can you slice the word from beginning to the end with steps of 2 (including the last character.)?"
   ]
  },
  {
   "cell_type": "code",
   "execution_count": 7,
   "id": "d76e1e1f-2c97-4dc7-b901-231e5e5cc32a",
   "metadata": {},
   "outputs": [
    {
     "data": {
      "text/plain": [
       "'Tsaa'"
      ]
     },
     "execution_count": 7,
     "metadata": {},
     "output_type": "execute_result"
    }
   ],
   "source": [
    "wrd=\"Toscana\"\n",
    "\n",
    "wrd[::2]"
   ]
  },
  {
   "cell_type": "markdown",
   "id": "79d31bb4-ad3a-476a-9888-fca985eeb5d3",
   "metadata": {},
   "source": [
    "TASK 5: Now slice the word with steps of 2, excluding first and last characters."
   ]
  },
  {
   "cell_type": "code",
   "execution_count": 8,
   "id": "45a30c7d-5368-4564-9b22-00d94aa6356d",
   "metadata": {},
   "outputs": [
    {
     "data": {
      "text/plain": [
       "'ocn'"
      ]
     },
     "execution_count": 8,
     "metadata": {},
     "output_type": "execute_result"
    }
   ],
   "source": [
    "wrd=\"Toscana\"\n",
    "\n",
    "wrd[1:-1:2]"
   ]
  },
  {
   "cell_type": "markdown",
   "id": "2499c042-8c13-4484-a9c7-480365b57d71",
   "metadata": {},
   "source": [
    "TASK 6: Can you slice the list so that it's reversed without using the .reverse() method?"
   ]
  },
  {
   "cell_type": "code",
   "execution_count": 9,
   "id": "09dc44b8-3008-44c4-86ab-9f56d43ea732",
   "metadata": {},
   "outputs": [
    {
     "data": {
      "text/plain": [
       "'anacsoT'"
      ]
     },
     "execution_count": 9,
     "metadata": {},
     "output_type": "execute_result"
    }
   ],
   "source": [
    "wrd=\"Toscana\"\n",
    "\n",
    "wrd[::-1]"
   ]
  },
  {
   "cell_type": "markdown",
   "id": "1fc0297c-ef76-4f8d-89d0-3bf841346c39",
   "metadata": {},
   "source": [
    "TASK 7: Slice the list so that only last 2 elements are included."
   ]
  },
  {
   "cell_type": "code",
   "execution_count": 10,
   "id": "e6683c62-a435-4ec9-b03f-808565721ad0",
   "metadata": {},
   "outputs": [
    {
     "data": {
      "text/plain": [
       "[3, 4]"
      ]
     },
     "execution_count": 10,
     "metadata": {},
     "output_type": "execute_result"
    }
   ],
   "source": [
    "lst=[0,1,2,3,4]\n",
    "\n",
    "lst[-2:]"
   ]
  },
  {
   "cell_type": "markdown",
   "id": "67e3905f-7d28-4fb0-ae93-f52d2152874a",
   "metadata": {},
   "source": [
    "TASK 8 : Slice the second and third elements (50 and 20) in the list."
   ]
  },
  {
   "cell_type": "code",
   "execution_count": 11,
   "id": "2a522513-6c23-4a55-a21b-3e1066e01022",
   "metadata": {},
   "outputs": [
    {
     "data": {
      "text/plain": [
       "[50, 20]"
      ]
     },
     "execution_count": 11,
     "metadata": {},
     "output_type": "execute_result"
    }
   ],
   "source": [
    "lst=[40,50,20,30,90]\n",
    "\n",
    "lst[1:3]"
   ]
  },
  {
   "cell_type": "code",
   "execution_count": null,
   "id": "69b8e595-e240-41b9-aca1-63e60024208d",
   "metadata": {},
   "outputs": [],
   "source": []
  }
 ],
 "metadata": {
  "kernelspec": {
   "display_name": "Python 3 (ipykernel)",
   "language": "python",
   "name": "python3"
  },
  "language_info": {
   "codemirror_mode": {
    "name": "ipython",
    "version": 3
   },
   "file_extension": ".py",
   "mimetype": "text/x-python",
   "name": "python",
   "nbconvert_exporter": "python",
   "pygments_lexer": "ipython3",
   "version": "3.9.12"
  }
 },
 "nbformat": 4,
 "nbformat_minor": 5
}

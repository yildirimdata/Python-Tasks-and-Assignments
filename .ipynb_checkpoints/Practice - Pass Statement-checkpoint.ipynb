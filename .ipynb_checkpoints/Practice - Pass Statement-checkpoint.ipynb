{
 "cells": [
  {
   "cell_type": "markdown",
   "id": "a18d4cf1-d035-4ebd-8cbb-89c5530c36ea",
   "metadata": {},
   "source": [
    "# PASS Statement\n",
    "\n",
    "Pass statement is a placeholder in Python so that certain structures can be left unfinished without throwing an error.\n",
    "\n",
    "Source: https://holypython.com/intermediate-python-exercises/exercise-20-pass-statement/"
   ]
  },
  {
   "cell_type": "markdown",
   "id": "63ea9bae-ae80-43e1-aad6-dda424a2d383",
   "metadata": {},
   "source": [
    "**TASK 1: Place a pass statement so that if block won't throw an error.**"
   ]
  },
  {
   "cell_type": "code",
   "execution_count": 4,
   "id": "934e30bd-0b16-4e0b-bcaf-f59e0f1e9ebb",
   "metadata": {},
   "outputs": [
    {
     "ename": "IndentationError",
     "evalue": "expected an indented block (158119304.py, line 5)",
     "output_type": "error",
     "traceback": [
      "\u001b[0;36m  Input \u001b[0;32mIn [4]\u001b[0;36m\u001b[0m\n\u001b[0;31m    else:\u001b[0m\n\u001b[0m         ^\u001b[0m\n\u001b[0;31mIndentationError\u001b[0m\u001b[0;31m:\u001b[0m expected an indented block\n"
     ]
    }
   ],
   "source": [
    "name=input(\"Please enter your name.\")\n",
    "\n",
    "if len(name) > 0:\n",
    "    print(name)\n",
    "else:"
   ]
  },
  {
   "cell_type": "code",
   "execution_count": null,
   "id": "33d5bb7c-1d3d-48a7-a839-04fac7d269ed",
   "metadata": {},
   "outputs": [],
   "source": [
    "# Answer is:"
   ]
  },
  {
   "cell_type": "code",
   "execution_count": 3,
   "id": "2c585cef-301f-4d93-8cf5-6cbe423a6829",
   "metadata": {},
   "outputs": [
    {
     "name": "stdin",
     "output_type": "stream",
     "text": [
      "Please enter your name. Practice\n"
     ]
    },
    {
     "name": "stdout",
     "output_type": "stream",
     "text": [
      "Practice\n"
     ]
    }
   ],
   "source": [
    "name=input(\"Please enter your name.\")\n",
    "\n",
    "if len(name) > 0:\n",
    "    print(name)\n",
    "else:\n",
    "    pass"
   ]
  },
  {
   "cell_type": "markdown",
   "id": "abd60497-50ed-48c7-a720-ea84891bd00f",
   "metadata": {},
   "source": [
    "**TASK 2: Place pass statement in your function so that you can leave it unfinished and it doesn't throw an error.**"
   ]
  },
  {
   "cell_type": "code",
   "execution_count": 5,
   "id": "bb0b69a4-ceab-416d-b9ea-6b8502b74549",
   "metadata": {},
   "outputs": [
    {
     "ename": "IndentationError",
     "evalue": "expected an indented block (4214480221.py, line 5)",
     "output_type": "error",
     "traceback": [
      "\u001b[0;36m  Input \u001b[0;32mIn [5]\u001b[0;36m\u001b[0m\n\u001b[0;31m    f_1(1)\u001b[0m\n\u001b[0m    ^\u001b[0m\n\u001b[0;31mIndentationError\u001b[0m\u001b[0;31m:\u001b[0m expected an indented block\n"
     ]
    }
   ],
   "source": [
    "#Type your code here.\n",
    "def f_1(x):\n",
    "    \n",
    "\n",
    "f_1(1)"
   ]
  },
  {
   "cell_type": "code",
   "execution_count": 6,
   "id": "f09adf1c-f1e7-4d96-a8e0-f7e4e68b8dfc",
   "metadata": {},
   "outputs": [],
   "source": [
    "# Answer:"
   ]
  },
  {
   "cell_type": "code",
   "execution_count": 8,
   "id": "fc653892-db0b-4516-8735-99ccff1e2ccf",
   "metadata": {},
   "outputs": [],
   "source": [
    "\n",
    "def f_1(x):\n",
    "    pass\n",
    "    \n",
    "f_1(1)"
   ]
  },
  {
   "cell_type": "markdown",
   "id": "a36b06d7-bfdf-4256-a3f6-8a96acb4b977",
   "metadata": {},
   "source": [
    "**TASK 3: Put a pass statement in your for loop to avoid an error.**"
   ]
  },
  {
   "cell_type": "code",
   "execution_count": 9,
   "id": "b1b8aee9-6361-4438-a9c5-ec0cd6a99af1",
   "metadata": {},
   "outputs": [
    {
     "ename": "IndentationError",
     "evalue": "expected an indented block (219053312.py, line 2)",
     "output_type": "error",
     "traceback": [
      "\u001b[0;36m  Input \u001b[0;32mIn [9]\u001b[0;36m\u001b[0m\n\u001b[0;31m    for i in lst:\u001b[0m\n\u001b[0m                 ^\u001b[0m\n\u001b[0;31mIndentationError\u001b[0m\u001b[0;31m:\u001b[0m expected an indented block\n"
     ]
    }
   ],
   "source": [
    "lst=[9, 10, 100, 999]\n",
    "for i in lst:"
   ]
  },
  {
   "cell_type": "code",
   "execution_count": 10,
   "id": "bbeec2c3-5c45-42f8-9bb1-a41751ff9ed7",
   "metadata": {},
   "outputs": [],
   "source": [
    "# Answer:"
   ]
  },
  {
   "cell_type": "code",
   "execution_count": 11,
   "id": "3b4f6434-79e0-4e0e-8af7-2067ca736672",
   "metadata": {},
   "outputs": [],
   "source": [
    "lst=[9, 10, 100, 999]\n",
    "for i in lst:\n",
    "    pass"
   ]
  },
  {
   "cell_type": "markdown",
   "id": "f3fb0a93-6766-4954-a3bf-90e7d39532bb",
   "metadata": {},
   "source": [
    "**TASK 4: Put a pass statement in the while loop so it doesn't throw an error.**"
   ]
  },
  {
   "cell_type": "code",
   "execution_count": 12,
   "id": "1dad5fff-555a-4708-80ab-e8b4a6fe32b1",
   "metadata": {},
   "outputs": [
    {
     "ename": "IndentationError",
     "evalue": "expected an indented block (1438183392.py, line 6)",
     "output_type": "error",
     "traceback": [
      "\u001b[0;36m  Input \u001b[0;32mIn [12]\u001b[0;36m\u001b[0m\n\u001b[0;31m    else:\u001b[0m\n\u001b[0m             ^\u001b[0m\n\u001b[0;31mIndentationError\u001b[0m\u001b[0;31m:\u001b[0m expected an indented block\n"
     ]
    }
   ],
   "source": [
    "i=0\n",
    "while i<20:\n",
    "    i=i+1\n",
    "    if i**2<49:\n",
    "        print(i*100)\n",
    "    else:    "
   ]
  },
  {
   "cell_type": "code",
   "execution_count": 13,
   "id": "109bd28d-09ed-48a8-9a2f-82242d237a21",
   "metadata": {},
   "outputs": [],
   "source": [
    "# Answer:"
   ]
  },
  {
   "cell_type": "code",
   "execution_count": 16,
   "id": "63661c84-2908-4726-88c3-7237ee00215d",
   "metadata": {},
   "outputs": [
    {
     "name": "stdout",
     "output_type": "stream",
     "text": [
      "100\n",
      "200\n",
      "300\n",
      "400\n",
      "500\n",
      "600\n"
     ]
    }
   ],
   "source": [
    "i=0\n",
    "while i<20:\n",
    "    i=i+1\n",
    "    if i**2<49:\n",
    "        print(i*100)\n",
    "    else:    \n",
    "        pass"
   ]
  },
  {
   "cell_type": "code",
   "execution_count": null,
   "id": "84e56071-b578-4bb6-900d-f7e264413ef2",
   "metadata": {},
   "outputs": [],
   "source": [
    "# Try to guess first before executing: what happens if we put \"break\" instead of \"pass\" in the above while loop"
   ]
  },
  {
   "cell_type": "code",
   "execution_count": 17,
   "id": "df951d9c-e8ef-4788-8dbb-4be25f13df86",
   "metadata": {},
   "outputs": [
    {
     "name": "stdout",
     "output_type": "stream",
     "text": [
      "0\n",
      "100\n",
      "200\n",
      "300\n",
      "400\n",
      "500\n",
      "600\n"
     ]
    }
   ],
   "source": [
    "# Check also this to see the effect of the place of i statement in the loop\n",
    "i=0\n",
    "while i<20:\n",
    "    \n",
    "    if i**2<49:\n",
    "        print(i*100)\n",
    "    else:    \n",
    "        pass\n",
    "    i=i+1"
   ]
  }
 ],
 "metadata": {
  "kernelspec": {
   "display_name": "Python 3 (ipykernel)",
   "language": "python",
   "name": "python3"
  },
  "language_info": {
   "codemirror_mode": {
    "name": "ipython",
    "version": 3
   },
   "file_extension": ".py",
   "mimetype": "text/x-python",
   "name": "python",
   "nbconvert_exporter": "python",
   "pygments_lexer": "ipython3",
   "version": "3.9.12"
  }
 },
 "nbformat": 4,
 "nbformat_minor": 5
}

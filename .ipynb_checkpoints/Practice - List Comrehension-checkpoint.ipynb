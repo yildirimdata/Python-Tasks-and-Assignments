{
 "cells": [
  {
   "cell_type": "code",
   "execution_count": null,
   "id": "83533b82-4d6e-4973-b392-8a8e4751f0e9",
   "metadata": {},
   "outputs": [],
   "source": []
  },
  {
   "cell_type": "code",
   "execution_count": 1,
   "id": "6f43ecac-958c-4d01-b1da-d273571a6952",
   "metadata": {},
   "outputs": [
    {
     "name": "stdout",
     "output_type": "stream",
     "text": [
      "[1, 2, 3, 4, 5]\n"
     ]
    }
   ],
   "source": [
    "# TASK 1: Create an identical list from the first list using list comprehension.\n",
    "\n",
    "lst1=[1,2,3,4,5]\n",
    "\n",
    "#Type your answer below.\n",
    "\n",
    "lst2= [i for i in lst1]\n",
    "\n",
    "print(lst2)"
   ]
  },
  {
   "cell_type": "code",
   "execution_count": 3,
   "id": "52c91008-4781-49cb-9608-eb728dfcfc10",
   "metadata": {},
   "outputs": [
    {
     "data": {
      "text/plain": [
       "[1200, 1330, 1460, 1590, 1720, 1850, 1980]"
      ]
     },
     "execution_count": 3,
     "metadata": {},
     "output_type": "execute_result"
    }
   ],
   "source": [
    "# TASK 2: Create a list from the elements of a range from 1200 to 2000 with steps of 130, using list comprehension.\n",
    "\n",
    "newlist = [i for i in range(1200, 2001, 130)]\n",
    "newlist\n",
    "\n",
    "# Tip: range can be constructed by using 3 parameters: range(start,stop,step)"
   ]
  },
  {
   "cell_type": "code",
   "execution_count": 4,
   "id": "a88adf43-0255-48c5-adf8-a6aa4e643c37",
   "metadata": {},
   "outputs": [
    {
     "data": {
      "text/plain": [
       "[50, 60, 70, 80, 110]"
      ]
     },
     "execution_count": 4,
     "metadata": {},
     "output_type": "execute_result"
    }
   ],
   "source": [
    "# TASK 3: Use list comprehension to construct a new list but add 6 to each item.\n",
    "\n",
    "lst1=[44,54,64,74,104]\n",
    "\n",
    "lst2=[i+6 for i in lst1]\n",
    "lst2"
   ]
  },
  {
   "cell_type": "code",
   "execution_count": 5,
   "id": "de95bc8d-8854-4f57-9828-3cbc983e59f1",
   "metadata": {},
   "outputs": [
    {
     "data": {
      "text/plain": [
       "[4, 16, 36, 64, 100, 144, 196]"
      ]
     },
     "execution_count": 5,
     "metadata": {},
     "output_type": "execute_result"
    }
   ],
   "source": [
    "# TASK 4: Using list comprehension, construct a list from the squares of each element in the list.\n",
    "\n",
    "lst1=[2, 4, 6, 8, 10, 12, 14]\n",
    "\n",
    "lst2 = [i**2 for i in lst1]\n",
    "lst2"
   ]
  },
  {
   "cell_type": "code",
   "execution_count": 7,
   "id": "27ff683a-c5cf-463c-a520-6a2d78d8bdfc",
   "metadata": {},
   "outputs": [
    {
     "data": {
      "text/plain": [
       "[64, 100, 144, 196]"
      ]
     },
     "execution_count": 7,
     "metadata": {},
     "output_type": "execute_result"
    }
   ],
   "source": [
    "# TASK 5: Using list comprehension, construct a list from the squares of each element in the \n",
    "# list, if the square is greater than 50.\n",
    "\n",
    "lst1=[2, 4, 6, 8, 10, 12, 14]\n",
    "\n",
    "lst2 = [i**2 for i in lst1 if i**2>50]\n",
    "\n",
    "lst2\n",
    "\n"
   ]
  },
  {
   "cell_type": "code",
   "execution_count": 8,
   "id": "15cf04d0-27eb-45f6-9dcd-de8ce4e4d07a",
   "metadata": {},
   "outputs": [
    {
     "data": {
      "text/plain": [
       "['SEDAN', 'SUV', 'PICKUP', 'MINIVAN', 'VAN', 'BICYCLE', 'MOTORCYCLE']"
      ]
     },
     "execution_count": 8,
     "metadata": {},
     "output_type": "execute_result"
    }
   ],
   "source": [
    "# TASK 6: Given dictionary is consisted of vehicles and their weights in kilograms. \n",
    "# Construct a list of the names of vehicles with weight below 5000 kilograms. \n",
    "# In the same list comprehension make the key names all upper case.\n",
    "\n",
    "dict={\"Sedan\": 1500, \"SUV\": 2000, \"Pickup\": 2500, \"Minivan\": 1600, \"Van\": 2400, \"Semi\": 13600, \"Bicycle\": 7, \"Motorcycle\": 110}\n",
    "\n",
    "list_autos = [i.upper() for i in dict if dict[i]<5000]\n",
    "list_autos"
   ]
  },
  {
   "cell_type": "code",
   "execution_count": null,
   "id": "45fda106-a2a6-4a9f-8860-932c628cdcbe",
   "metadata": {},
   "outputs": [],
   "source": []
  }
 ],
 "metadata": {
  "kernelspec": {
   "display_name": "Python 3 (ipykernel)",
   "language": "python",
   "name": "python3"
  },
  "language_info": {
   "codemirror_mode": {
    "name": "ipython",
    "version": 3
   },
   "file_extension": ".py",
   "mimetype": "text/x-python",
   "name": "python",
   "nbconvert_exporter": "python",
   "pygments_lexer": "ipython3",
   "version": "3.9.12"
  }
 },
 "nbformat": 4,
 "nbformat_minor": 5
}

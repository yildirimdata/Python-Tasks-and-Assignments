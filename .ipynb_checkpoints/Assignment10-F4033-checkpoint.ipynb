{
 "cells": [
  {
   "cell_type": "markdown",
   "id": "3b8f5cd2-8a59-4ca7-989c-a2f0d93cebbf",
   "metadata": {},
   "source": [
    "ASSIGNMENT 10\n",
    "\n",
    "Task : Estimating the risk of death from coronavirus. Write a program that;\n",
    "\n",
    "Takes \"Yes\" or \"No\" from the user as an answer to the following questions :\n",
    "\n",
    "Are you a cigarette addict older than 75 years old? Variable → age\n",
    "\n",
    "Do you have a severe chronic disease? Variable → chronic\n",
    "\n",
    "Is your immune system too weak? Variable → immune\n",
    "\n",
    "Set a logical algorithm using boolean logic operators (and/or) and use if-statements with the given variables in order to print out us a message : \"You are in risky group\"(if True ) or \"You are not in risky group\" (if False).\n",
    "\n",
    "age = # can be assigned only True/False\n",
    "\n",
    "chronic = # can be assigned only True/False\n",
    "\n",
    "immune = # can be assigned only True/False\n",
    "\n",
    "risk = ?"
   ]
  },
  {
   "cell_type": "code",
   "execution_count": 1,
   "id": "41cb896b-85c0-48c1-b9b1-781106f4e863",
   "metadata": {},
   "outputs": [
    {
     "name": "stdin",
     "output_type": "stream",
     "text": [
      "Are you a cigarette addict older than 75 years old? :  no\n",
      "Do you have a severe chronic disease? : no\n",
      "Is your immune system too weak? : no\n"
     ]
    },
    {
     "name": "stdout",
     "output_type": "stream",
     "text": [
      "You are not in risky group\n"
     ]
    }
   ],
   "source": [
    "age = input(\"Are you a cigarette addict older than 75 years old? : \").capitalize().strip() == \"Yes\"\n",
    "chronic = input(\"Do you have a severe chronic disease? :\").capitalize().strip() == \"Yes\"\n",
    "immune = input(\"Is your immune system too weak? :\").capitalize().strip() == \"Yes\"\n",
    "\n",
    "if age or chronic or immune :\n",
    "    print(\"You are in the risky group\")\n",
    "else :\n",
    "    print(\"You are not in risky group\")"
   ]
  },
  {
   "cell_type": "code",
   "execution_count": 4,
   "id": "a5ac62e0-4042-449a-a243-d60784005f8d",
   "metadata": {},
   "outputs": [
    {
     "data": {
      "text/plain": [
       "'küçük'"
      ]
     },
     "execution_count": 4,
     "metadata": {},
     "output_type": "execute_result"
    }
   ],
   "source": [
    "\"küçük\" if 2<3 else \"büyük\"  # if 2<3 T ise solundakini çalıştır, F ise devam et sonrayı çalıştır\n",
    "# burada val çalıştırırsak küçük verir."
   ]
  },
  {
   "cell_type": "code",
   "execution_count": 6,
   "id": "f510525a-39eb-4a38-b951-8c8e3515709e",
   "metadata": {},
   "outputs": [
    {
     "name": "stdin",
     "output_type": "stream",
     "text": [
      "Are you a cigarette addict older than 75 years old? :  no\n",
      "Do you have a severe chronic disease? : no\n",
      "Is your immune system too weak? : no\n"
     ]
    },
    {
     "data": {
      "text/plain": [
       "'You are not in risky group'"
      ]
     },
     "execution_count": 6,
     "metadata": {},
     "output_type": "execute_result"
    }
   ],
   "source": [
    "age = input(\"Are you a cigarette addict older than 75 years old? : \").capitalize().strip() == \"Yes\"\n",
    "chronic = input(\"Do you have a severe chronic disease? :\").capitalize().strip() == \"Yes\"\n",
    "immune = input(\"Is your immune system too weak? :\").capitalize().strip() == \"Yes\"\n",
    "\n",
    "\"You are in the risky group\" if age or chronic or immune else \"You are not in risky group\""
   ]
  },
  {
   "cell_type": "code",
   "execution_count": null,
   "id": "1da8eebb-f6d7-4e72-9857-a444c6a972b5",
   "metadata": {},
   "outputs": [],
   "source": []
  }
 ],
 "metadata": {
  "kernelspec": {
   "display_name": "Python 3 (ipykernel)",
   "language": "python",
   "name": "python3"
  },
  "language_info": {
   "codemirror_mode": {
    "name": "ipython",
    "version": 3
   },
   "file_extension": ".py",
   "mimetype": "text/x-python",
   "name": "python",
   "nbconvert_exporter": "python",
   "pygments_lexer": "ipython3",
   "version": "3.9.12"
  }
 },
 "nbformat": 4,
 "nbformat_minor": 5
}

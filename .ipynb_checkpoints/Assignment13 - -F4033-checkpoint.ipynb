{
 "cells": [
  {
   "cell_type": "code",
   "execution_count": 4,
   "id": "5e6756b0-f445-48f7-8371-beb09aa060ff",
   "metadata": {},
   "outputs": [
    {
     "name": "stdin",
     "output_type": "stream",
     "text": [
      "Enter a number to see if it's a prime number:  137\n"
     ]
    },
    {
     "name": "stdout",
     "output_type": "stream",
     "text": [
      "137 is a prime number\n"
     ]
    }
   ],
   "source": [
    "# In order to check whether the number given by the user is a prime number or not\n",
    "# I use and nested for-else loop. if the number is divisible by any number from 2 to the number,\n",
    "# then it's not a prime number. If this is true, I put a break at this point\n",
    "# for avoiding the code from redundant executions. Otherwise, ,if the number\n",
    "# is not divisible except 1 and itself, the code prints a positive response.\n",
    "\n",
    "num = int(input(\"Enter a number to see if it's a prime number: \"))\n",
    "\n",
    "for i in range(2, num) :\n",
    "    if num % i == 0:\n",
    "        print(num, \"is not a prime number\")\n",
    "        break\n",
    "else:\n",
    "    print(num, \"is a prime number\")\n",
    "\n",
    "# output: \n",
    "# Enter a number to see if it's a prime number: 137 \n",
    "# 137 is a prime number"
   ]
  },
  {
   "cell_type": "code",
   "execution_count": 6,
   "id": "ed148149-2bf1-4834-b4b8-a3d0b742fe9b",
   "metadata": {},
   "outputs": [
    {
     "name": "stdin",
     "output_type": "stream",
     "text": [
      "Enter a number to see if it's a prime number:  137\n"
     ]
    },
    {
     "name": "stdout",
     "output_type": "stream",
     "text": [
      "137 is a prime number\n"
     ]
    }
   ],
   "source": [
    "n = int(input(\"Enter a number to see if it's a prime number: \"))\n",
    "\n",
    "counter = 0\n",
    "\n",
    "for i in range(1, n+1):\n",
    "    if n%i == 0:\n",
    "        counter += 1\n",
    "        \n",
    "if (n==0) or (n==1) or counter >= 3:\n",
    "    print(n, \"is not a prime number\")\n",
    "    \n",
    "else:\n",
    "    print(n, \"is a prime number\")\n",
    "    "
   ]
  },
  {
   "cell_type": "code",
   "execution_count": null,
   "id": "6bd32fa1-97a2-460a-ac86-487b1b161135",
   "metadata": {},
   "outputs": [],
   "source": []
  }
 ],
 "metadata": {
  "kernelspec": {
   "display_name": "Python 3 (ipykernel)",
   "language": "python",
   "name": "python3"
  },
  "language_info": {
   "codemirror_mode": {
    "name": "ipython",
    "version": 3
   },
   "file_extension": ".py",
   "mimetype": "text/x-python",
   "name": "python",
   "nbconvert_exporter": "python",
   "pygments_lexer": "ipython3",
   "version": "3.9.12"
  }
 },
 "nbformat": 4,
 "nbformat_minor": 5
}

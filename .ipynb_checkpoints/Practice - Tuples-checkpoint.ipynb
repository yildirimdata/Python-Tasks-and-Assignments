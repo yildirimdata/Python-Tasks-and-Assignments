{
 "cells": [
  {
   "cell_type": "markdown",
   "id": "2d73cd53-9027-427b-b8b4-04cb99e9e72d",
   "metadata": {},
   "source": [
    "# Practice - Tuple\n",
    "\n",
    "Source: https://holypython.com/beginner-python-exercises/exercise-7-python-tuples/"
   ]
  },
  {
   "cell_type": "markdown",
   "id": "ffcae49e-c0f8-490d-b3ea-057b5621f94f",
   "metadata": {},
   "source": [
    "TASK 1: Assign the first element of the tuple to answer_1\n"
   ]
  },
  {
   "cell_type": "code",
   "execution_count": 2,
   "id": "ee1821bf-715d-4ff0-8ac9-6ffe1bb272a5",
   "metadata": {},
   "outputs": [
    {
     "data": {
      "text/plain": [
       "11"
      ]
     },
     "execution_count": 2,
     "metadata": {},
     "output_type": "execute_result"
    }
   ],
   "source": [
    "tt=(11, 100, 99, 1000, 999)\n",
    "\n",
    "answer_1 = tt[0]\n",
    "answer_1"
   ]
  },
  {
   "cell_type": "markdown",
   "id": "6392fa5c-c239-4532-8ea4-108058afd960",
   "metadata": {},
   "source": [
    "TASK 2: print the third element of the tuple\n",
    "\n"
   ]
  },
  {
   "cell_type": "code",
   "execution_count": 3,
   "id": "9ccc629c-dcf4-4608-a8ca-f285a692a1ad",
   "metadata": {},
   "outputs": [
    {
     "name": "stdout",
     "output_type": "stream",
     "text": [
      "99\n"
     ]
    }
   ],
   "source": [
    "print(tt[2])"
   ]
  },
  {
   "cell_type": "markdown",
   "id": "ffb24a4a-f706-402b-90be-a041a0cbed45",
   "metadata": {},
   "source": [
    "TASK 3: Print the second from the last element of the tuple."
   ]
  },
  {
   "cell_type": "code",
   "execution_count": 6,
   "id": "0eec31e1-5112-4d09-a07d-b53ae4158676",
   "metadata": {},
   "outputs": [
    {
     "name": "stdout",
     "output_type": "stream",
     "text": [
      "1000\n",
      "1000\n"
     ]
    }
   ],
   "source": [
    "print(tt[-2])\n",
    "\n",
    "# or we can assignt it to a variable and then print\n",
    "\n",
    "ele_tt = tt[-2]\n",
    "print(ele_tt)"
   ]
  },
  {
   "cell_type": "markdown",
   "id": "11b42924-feef-4b5b-800f-f7e981b74cc2",
   "metadata": {},
   "source": [
    "TASK 4: What's the index of 2?"
   ]
  },
  {
   "cell_type": "code",
   "execution_count": 7,
   "id": "1df9f0e2-288c-4f91-bfa3-d67ba9e97806",
   "metadata": {},
   "outputs": [
    {
     "data": {
      "text/plain": [
       "7"
      ]
     },
     "execution_count": 7,
     "metadata": {},
     "output_type": "execute_result"
    }
   ],
   "source": [
    "tt=(55, 777, 54, 6, 76, 101, 1, 2, 8679, 123, 99)\n",
    "\n",
    "print(tt.index(2))"
   ]
  },
  {
   "cell_type": "markdown",
   "id": "8c7d6f94-0a4e-4f91-9f79-163d9e32d8f5",
   "metadata": {},
   "source": [
    "TASK 5: How many times does 777 occur?"
   ]
  },
  {
   "cell_type": "code",
   "execution_count": 9,
   "id": "d7e9230f-c7a0-405c-8f35-8b04d34e1b19",
   "metadata": {},
   "outputs": [
    {
     "data": {
      "text/plain": [
       "2"
      ]
     },
     "execution_count": 9,
     "metadata": {},
     "output_type": "execute_result"
    }
   ],
   "source": [
    "tt=(55, 6, 777, 54, 6, 76, 7777, 1, 777, 2, 6)\n",
    "\n",
    "tt.count(777)"
   ]
  },
  {
   "cell_type": "markdown",
   "id": "e7f61790-919c-4524-af8e-77a10b5f42a8",
   "metadata": {},
   "source": [
    "TASK 6: What is the sum of all the numbers in the tuple?"
   ]
  },
  {
   "cell_type": "code",
   "execution_count": 10,
   "id": "79752d07-e8c3-4219-abfc-3269f42676e9",
   "metadata": {},
   "outputs": [
    {
     "data": {
      "text/plain": [
       "1306"
      ]
     },
     "execution_count": 10,
     "metadata": {},
     "output_type": "execute_result"
    }
   ],
   "source": [
    "tt=(42, 1092, 11, 88, 65, 2, 6)\n",
    "\n",
    "sum(tt)"
   ]
  },
  {
   "cell_type": "markdown",
   "id": "097b9b9c-e742-4ea2-8860-7571c79dbf6f",
   "metadata": {},
   "source": [
    "TASK 7: What is the minimum value in the tuple?"
   ]
  },
  {
   "cell_type": "code",
   "execution_count": 11,
   "id": "aaf11103-c55b-4f8d-bb35-2d5fe7e86b08",
   "metadata": {},
   "outputs": [
    {
     "data": {
      "text/plain": [
       "9"
      ]
     },
     "execution_count": 11,
     "metadata": {},
     "output_type": "execute_result"
    }
   ],
   "source": [
    "tt=(66, 555, 11, 101, 9, 1001)\n",
    "\n",
    "min(tt)"
   ]
  },
  {
   "cell_type": "markdown",
   "id": "fecf39c4-77be-4e9f-8162-c2512a74e6c8",
   "metadata": {},
   "source": [
    "TASK 8: What is the maximum value in the tuple?"
   ]
  },
  {
   "cell_type": "code",
   "execution_count": 12,
   "id": "f6f5a546-1e18-4771-bf6e-7ce9c2a57f2f",
   "metadata": {},
   "outputs": [
    {
     "data": {
      "text/plain": [
       "1001"
      ]
     },
     "execution_count": 12,
     "metadata": {},
     "output_type": "execute_result"
    }
   ],
   "source": [
    "tt=(66, 555, 11, 101, 9, 1001)\n",
    "\n",
    "max(tt)"
   ]
  },
  {
   "cell_type": "markdown",
   "id": "233c0f0b-e70d-4920-bdcd-0137da23ce40",
   "metadata": {},
   "source": [
    "TASK 9: what is the result of difference of maximum and minimum values in tt?"
   ]
  },
  {
   "cell_type": "code",
   "execution_count": 13,
   "id": "6001055b-4b82-41ba-8391-6c6295ba384c",
   "metadata": {},
   "outputs": [
    {
     "data": {
      "text/plain": [
       "992"
      ]
     },
     "execution_count": 13,
     "metadata": {},
     "output_type": "execute_result"
    }
   ],
   "source": [
    "max(tt)-min(tt)"
   ]
  },
  {
   "cell_type": "code",
   "execution_count": 14,
   "id": "063c0769-1eff-4021-bb4f-ecc741e41626",
   "metadata": {},
   "outputs": [
    {
     "data": {
      "text/plain": [
       "505.0"
      ]
     },
     "execution_count": 14,
     "metadata": {},
     "output_type": "execute_result"
    }
   ],
   "source": [
    "# what is the mean of sum of max and min in tt\n",
    "\n",
    "(max(tt)+min(tt))/2"
   ]
  },
  {
   "cell_type": "code",
   "execution_count": null,
   "id": "5b563bea-2ad8-4312-90ab-3b21efa68aa4",
   "metadata": {},
   "outputs": [],
   "source": []
  }
 ],
 "metadata": {
  "kernelspec": {
   "display_name": "Python 3 (ipykernel)",
   "language": "python",
   "name": "python3"
  },
  "language_info": {
   "codemirror_mode": {
    "name": "ipython",
    "version": 3
   },
   "file_extension": ".py",
   "mimetype": "text/x-python",
   "name": "python",
   "nbconvert_exporter": "python",
   "pygments_lexer": "ipython3",
   "version": "3.9.12"
  }
 },
 "nbformat": 4,
 "nbformat_minor": 5
}

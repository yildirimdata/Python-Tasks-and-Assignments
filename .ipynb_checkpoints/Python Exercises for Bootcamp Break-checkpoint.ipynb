{
 "cells": [
  {
   "cell_type": "markdown",
   "id": "97d2a08c",
   "metadata": {},
   "source": [
    "<a id=\"toc\"></a>\n",
    "\n",
    "## <p style=\"background-color:#0D8D99; font-family:newtimeroman; color:#FFF9ED; font-size:175%; text-align:center; border-radius:10px 10px;\">11 Python Exercises for Bootcamp Break</p>"
   ]
  },
  {
   "cell_type": "markdown",
   "id": "ce458967",
   "metadata": {},
   "source": [
    "**Task 1: Girilen 3 harfli bir kelimenin harflerinin içinde ünlü harf olup olmadığını ve eğer ünlü harf var ise bunun kaçıncı harf olduğunu yazdırınız.**"
   ]
  },
  {
   "cell_type": "code",
   "execution_count": 31,
   "id": "cf0e6ba5",
   "metadata": {},
   "outputs": [
    {
     "name": "stdin",
     "output_type": "stream",
     "text": [
      "Enter a word consisting of 3 letters :  car\n"
     ]
    },
    {
     "name": "stdout",
     "output_type": "stream",
     "text": [
      "There is vowel in car and the index of this vowel is 1\n"
     ]
    }
   ],
   "source": [
    "user_word = input(\"Enter a word consisting of 3 letters : \")\n",
    "vowels = [\"a\",\"e\",\"i\",\"o\", \"u\"]\n",
    "if len(user_word) == 3:\n",
    "    \n",
    "    for i in user_word:\n",
    "        if i in vowels:\n",
    "            print(f\"There is vowel in {user_word} and the index of this vowel is {user_word.index(i)}\")\n",
    "            break  \n",
    "        \n",
    "else:\n",
    "    input(\"Please enter a word consisting of 3 letters : \")\n",
    "    "
   ]
  },
  {
   "cell_type": "markdown",
   "id": "6be36aa0",
   "metadata": {},
   "source": [
    "**Task 2 :Kullanıcıdan binary bir numara girmesini isteyelim ve onu decimal sayıya \n",
    "convert edelim**\n",
    "\n",
    "**Örnek: Input= 1011001 Output = 89 olmalı**"
   ]
  },
  {
   "cell_type": "code",
   "execution_count": 26,
   "id": "686d330a",
   "metadata": {},
   "outputs": [
    {
     "name": "stdin",
     "output_type": "stream",
     "text": [
      "Enter a binary number to see its decimal equal :  1011001\n"
     ]
    },
    {
     "data": {
      "text/plain": [
       "89"
      ]
     },
     "execution_count": 26,
     "metadata": {},
     "output_type": "execute_result"
    }
   ],
   "source": [
    "# my own solution:\n",
    "user_number = input(\"Enter a binary number to see its decimal equal : \")[::-1]\n",
    "def converter(n):\n",
    "    index = 0\n",
    "    total = 0\n",
    "    for i in user_number:\n",
    "        total += int(i)*(2**index)\n",
    "        index += 1\n",
    "    return total\n",
    "converter(user_number)"
   ]
  },
  {
   "cell_type": "code",
   "execution_count": 24,
   "id": "92af9a34-81bb-409b-9baf-e0b101d18081",
   "metadata": {},
   "outputs": [
    {
     "data": {
      "text/plain": [
       "89"
      ]
     },
     "execution_count": 24,
     "metadata": {},
     "output_type": "execute_result"
    }
   ],
   "source": [
    "# a better way from stackoverflow:\n",
    "# decimal to int: (int(BinaryString, 2))\n",
    "# int to decimal : (format(decimal ,\"b\"))\n",
    "int(\"1011001\", 2)"
   ]
  },
  {
   "cell_type": "markdown",
   "id": "67d01305",
   "metadata": {},
   "source": [
    "**Task 3 : 1000 den küçük olan 3 ve 5 e bölünen tüm sayıların toplamını bulan program yazınız?**"
   ]
  },
  {
   "cell_type": "code",
   "execution_count": 7,
   "id": "85f3b5a2",
   "metadata": {},
   "outputs": [
    {
     "name": "stdout",
     "output_type": "stream",
     "text": [
      "33165\n"
     ]
    }
   ],
   "source": [
    "total = 0\n",
    "for i in range(1000):\n",
    "    if not i%3 and not i%5:\n",
    "        total += i\n",
    "print(total)"
   ]
  },
  {
   "cell_type": "markdown",
   "id": "614f833e",
   "metadata": {},
   "source": [
    "**Task 4 : Sort() metodunu kullanmadan; karışık sayıların olduğu bir listedeki elemanları, yine aynı liste içerisinde büyükten küçüğe sıralayan bir kod yazalım.**"
   ]
  },
  {
   "cell_type": "code",
   "execution_count": 1,
   "id": "1a2af040",
   "metadata": {},
   "outputs": [
    {
     "name": "stdout",
     "output_type": "stream",
     "text": [
      "[1005, 876, 456, 56, 47, 45, 9, 3]\n"
     ]
    }
   ],
   "source": [
    "lst = [45, 56,47, 3,9,1005, 456, 876]\n",
    "\n",
    "lst = sorted(lst, key = lambda x: 1/x)\n",
    "print(lst)"
   ]
  },
  {
   "cell_type": "code",
   "execution_count": 2,
   "id": "a51bf7c5-041d-4e3c-b5bf-cdd6110622d7",
   "metadata": {},
   "outputs": [
    {
     "name": "stdout",
     "output_type": "stream",
     "text": [
      "[1005, 876, 456, 56, 47, 45, 9, 3]\n"
     ]
    }
   ],
   "source": [
    "# an alternative solution without sort and lambda:\n",
    "lst = [45, 56,47, 3,9,1005, 456, 876]\n",
    "newlist = []\n",
    "\n",
    "for i in range(len(lst)):\n",
    "    x = max(lst)\n",
    "    newlist.append(x)\n",
    "    lst.remove(x)\n",
    "\n",
    "print(newlist)"
   ]
  },
  {
   "cell_type": "markdown",
   "id": "df60dfe8",
   "metadata": {},
   "source": [
    "**Task 5 : Girilen sayıya kadar olan Fibonacci sayılarını bulan bir kod yazınız**"
   ]
  },
  {
   "cell_type": "code",
   "execution_count": 13,
   "id": "eed4c937",
   "metadata": {},
   "outputs": [
    {
     "name": "stdin",
     "output_type": "stream",
     "text": [
      "Enter a number to see fibonacci numbers up to it :  15\n"
     ]
    },
    {
     "data": {
      "text/plain": [
       "[0, 1, 1, 2, 3, 5, 8, 13, 21, 34, 55, 89]"
      ]
     },
     "execution_count": 13,
     "metadata": {},
     "output_type": "execute_result"
    }
   ],
   "source": [
    "n = int(input(\"Enter a number to see fibonacci numbers up to it : \"))\n",
    "\n",
    "\n",
    "def fib(n):\n",
    "    a = 0\n",
    "    b = 1\n",
    "    fib_list = []\n",
    "    for i in range(n):\n",
    "        fib_list.append(a)\n",
    "        a,b = b, a+b\n",
    "        if a > 100:\n",
    "            break\n",
    "    return fib_list\n",
    "fib(n)\n",
    "\n",
    "        "
   ]
  },
  {
   "cell_type": "markdown",
   "id": "7ace470c",
   "metadata": {},
   "source": [
    "**Task 6 : Kullanıcı tarafından girilen bir sayının basamaklarının sayı adlarını görüntüleyen bir program yazın**\n",
    "\n",
    "**Örneğin sayı 231 ise çıktısı İki Üç Bir olmalıdır.**"
   ]
  },
  {
   "cell_type": "code",
   "execution_count": 29,
   "id": "b369dda3",
   "metadata": {},
   "outputs": [
    {
     "name": "stdin",
     "output_type": "stream",
     "text": [
      "Enter a number to print its digits in letters :  231\n"
     ]
    },
    {
     "name": "stdout",
     "output_type": "stream",
     "text": [
      "two three one "
     ]
    }
   ],
   "source": [
    "numbers_text = [\"zero\", \"one\", \"two\", \"three\", \"four\", \"five\", \"six\", \"seven\", \"eight\", \"nine\"]\n",
    "dict_numbers = dict(enumerate(numbers_text))\n",
    "\n",
    "user_number = input(\"Enter a number to print its digits in letters : \") \n",
    "\n",
    "for i in user_number:\n",
    "    print(dict_numbers[int(i)], end = \" \")"
   ]
  },
  {
   "cell_type": "markdown",
   "id": "93b802aa",
   "metadata": {},
   "source": [
    "**Task 7 :  İşverenimiz bizden, kullanıcı tarafından girilen bir metni şifreleyen bir program istedi. İstenen şartlar şunlar:**\n",
    "\n",
    "**Girilen Türkçe metinlerde her harf alfabetik sıraya göre kendisinden iki sonraki harfe dönüştürülecek. (Örneğin 'a' harfi 'c', 'z' harfi 'b' olacak)**\n",
    "\n",
    "**Girilen metinde harf dışında bir karakter varsa 'Lütfen Sadece Harflerden Oluşan Bir Metin Giriniz!' uyarısından sonra tekrar input istenecek.**\n",
    "\n",
    "**Büyük harfler büyük, küçük harfler küçük harf olarak dönüştürülecek.**\n",
    "\n",
    "**Boşluklar boşluk olarak korunacak.**"
   ]
  },
  {
   "cell_type": "code",
   "execution_count": 6,
   "id": "4a992c4f",
   "metadata": {},
   "outputs": [
    {
     "name": "stdin",
     "output_type": "stream",
     "text": [
      "Enter a text using only letters : Encrypt Zz Text\n"
     ]
    },
    {
     "name": "stdout",
     "output_type": "stream",
     "text": [
      "Gpetarv Bb Vgzv"
     ]
    }
   ],
   "source": [
    "import string  # to call the alphabet in lower cases we can use string module and string.ascii_lowercase\n",
    "alphabet = list(string.ascii_letters)\n",
    "alphabet.insert(26, 'a')\n",
    "alphabet.insert(27, 'b')\n",
    "alphabet.append('A')\n",
    "alphabet.append('B')\n",
    "\n",
    "while True:\n",
    "    user_text = input(\"Enter a text using only letters :\")\n",
    "    \n",
    "    for i in user_text:\n",
    "        if i not in alphabet and i!= \" \":\n",
    "            print(\"You entered a wrong text. Try again using only letters!\")\n",
    "            break\n",
    "            \n",
    "    else:\n",
    "        for i in user_text:\n",
    "            if i in alphabet:\n",
    "                i= alphabet[alphabet.index(i) + 2]\n",
    "                \n",
    "            else:\n",
    "                i = i\n",
    "            print(i, end= \"\")\n",
    "        break"
   ]
  },
  {
   "cell_type": "markdown",
   "id": "5c43bfb6",
   "metadata": {},
   "source": [
    "**Task 8: Bir palindromik sayı sağdan ve soldan her iki şekilde de aynı okunur.** \n",
    "\n",
    "**İki basamaklı iki sayının çarpımından yapılan en büyük palindrom 9009 = 91 × 99'dur.** \n",
    "\n",
    "**İki 3 basamaklı sayının çarpımından yapılmış en büyük palindromu bulun. (edited)** "
   ]
  },
  {
   "cell_type": "code",
   "execution_count": 37,
   "id": "c37681df",
   "metadata": {},
   "outputs": [
    {
     "name": "stdout",
     "output_type": "stream",
     "text": [
      "913 993 906609 993 913 906609 "
     ]
    }
   ],
   "source": [
    "nlist = []\n",
    "for n in range(900000,1000000):\n",
    "        if str(n) == str(n)[::-1]:\n",
    "            nlist.append(n)\n",
    "            \n",
    "for k in range(100,1000):\n",
    "    for m in range(100,1000):\n",
    "        if k*m in nlist:\n",
    "            print(k,m,k*m, end= \" \")  "
   ]
  },
  {
   "cell_type": "markdown",
   "id": "f9544cdd",
   "metadata": {},
   "source": [
    "**Task 9 : Sayılar teorisinde, aritmetik sayı, pozitif bölenlerinin ortalaması da bir tam sayı olan bir tam sayıdır.**\n",
    "\n",
    "**Başka bir deyişle, bölenlerin sayısı bölenlerin toplamını bölüyorsa, n sayısı aritmetiktir.**\n",
    "\n",
    "**Pozitif bir n tamsayısı verildiğinde; n'nin Aritmetik sayı olup olmadığını kontrol eden bir program yazınız.**\n",
    "\n",
    "**Input : n = 6**\n",
    "**Output : Yes 6 is an arithmetic number.**\n",
    "\n",
    "**(Sum of divisor of 6 --> 1 + 2 + 3 + 6 = 12. Number of divisor of 6 is 4. 12/4 = 3. 3 is an integer, so 6 is an arithmetic number**\n"
   ]
  },
  {
   "cell_type": "code",
   "execution_count": 33,
   "id": "5297ab8b",
   "metadata": {},
   "outputs": [
    {
     "name": "stdin",
     "output_type": "stream",
     "text": [
      "Enter a number to see if it's an arithmetic number :  45\n"
     ]
    },
    {
     "name": "stdout",
     "output_type": "stream",
     "text": [
      "45 is an arithmetic number\n"
     ]
    }
   ],
   "source": [
    "n = int(input(\"Enter a number to see if it's an arithmetic number : \"))\n",
    "i = 1\n",
    "total = 0\n",
    "counter = 0\n",
    "while i <= n:\n",
    "    \n",
    "    if n%i==0:\n",
    "        counter+=1\n",
    "        total += i\n",
    "    i += 1\n",
    "    \n",
    "if total%counter == 0:\n",
    "    print(f\"{n} is an arithmetic number\")\n",
    "    \n",
    "else:\n",
    "    print(f\"{n} is not an arithmetic number\")"
   ]
  },
  {
   "cell_type": "markdown",
   "id": "68063356",
   "metadata": {},
   "source": [
    "**Task 10: Write a function for Sum of squares of first n natural numbers.**\n",
    "\n",
    "**Kullanıcıdan n sayısını alın ve n dahil n'e kadar olan tüm doğal sayıların karelerinin\n",
    "toplamını veren bir fonksiyon yazın**"
   ]
  },
  {
   "cell_type": "code",
   "execution_count": 1,
   "id": "0c45e7cc-7ead-4fbb-96fd-d0634720e5de",
   "metadata": {},
   "outputs": [
    {
     "name": "stdin",
     "output_type": "stream",
     "text": [
      "Enter a natural number to see the total of the squares of to natural numbers up to your number :  5\n"
     ]
    },
    {
     "name": "stdout",
     "output_type": "stream",
     "text": [
      "55\n"
     ]
    }
   ],
   "source": [
    "user_number = int(input(\"Enter a natural number to see the total of the squares of to natural numbers up to your number : \"))\n",
    "def sum_of_squares(n):\n",
    "    total = 0\n",
    "    for i in range(n+1):\n",
    "        if n >= 0:\n",
    "            total += i**2\n",
    "    return total\n",
    "print(sum_of_squares(user_number))"
   ]
  },
  {
   "cell_type": "code",
   "execution_count": 30,
   "id": "181a7aaa",
   "metadata": {},
   "outputs": [
    {
     "name": "stdin",
     "output_type": "stream",
     "text": [
      "Enter a natural number to see the total of the squares of to natural numbers up to your number :  -4\n"
     ]
    },
    {
     "name": "stdout",
     "output_type": "stream",
     "text": [
      "You entered a wrong number. Try again!\n"
     ]
    },
    {
     "name": "stdin",
     "output_type": "stream",
     "text": [
      "Enter a natural number to see the total of the squares of to natural numbers up to your number :  5\n"
     ]
    },
    {
     "name": "stdout",
     "output_type": "stream",
     "text": [
      "55\n"
     ]
    }
   ],
   "source": [
    "# Bu soru soyle olsaydi: Kullanıcıdan bir sayı alıp o sayıya kadar olan dogal sayıların karelerinin\n",
    "# toplamını bulun. Eger kullanıcı yanlıs sayi girdiyse uyarip tekrar input alın.\n",
    "\n",
    "while True:\n",
    "    total = 0\n",
    "    n = int(input(\"Enter a natural number to see the total of the squares of to natural numbers up to your number : \"))\n",
    "    if n<0:\n",
    "        print(\"You entered a wrong number. Try again!\")\n",
    "        \n",
    "    else:\n",
    "        for i in range(n+1):\n",
    "            if n >= 0:\n",
    "                total += i**2\n",
    "        print(total)\n",
    "        break"
   ]
  },
  {
   "cell_type": "markdown",
   "id": "6f5e4655",
   "metadata": {},
   "source": [
    "**Task 11 : 100 tane kapı var. Bu kapılar 1'den 100'e kadar numaralandırılmış ve kapıların hepsi kilitli.**\n",
    "\n",
    "**Elimizde 1'den 20'ye kadar numaralandırılmış 20 tane anahtar var. Bir kapının numarası bir \n",
    "anahtarın numarasına tam bölünüyorsa o anahtar o kapıyı açabiliyor (ya da kilitleyebiliyor!)** \n",
    "\n",
    "**1 numaralı anahtardan başlayarak her anahtar için kapıları dolaşılıyor. Anahtar ile kapı açılıyor\n",
    "ya da kilitleniyor. Yani kapı açıksa kilitleniyor kapı kilitli ise kapı açılıyor.**\n",
    "\n",
    "**1 : 20. turdan sonra, yani son anahtarın kullanılmasından sonra açık olan kapıların numaralarını ekrana yazdırın**\n",
    "\n",
    "**2 : Hangi kapılar açık hangi kapılar kilitlidir?**"
   ]
  },
  {
   "cell_type": "code",
   "execution_count": 1,
   "id": "6ec8d5d3",
   "metadata": {},
   "outputs": [
    {
     "name": "stdout",
     "output_type": "stream",
     "text": [
      "\n",
      "The locked doors are:  {2, 3, 5, 6, 7, 8, 10, 11, 12, 13, 14, 15, 17, 18, 19, 20, 25, 36, 42, 44, 46, 48, 49, 50, 52, 54, 56, 58, 60, 62, 63, 68, 69, 70, 74, 75, 76, 80, 82, 84, 86, 87, 93, 94, 96, 98, 99, 100}\n",
      "\n",
      "The open doors are:  {1, 4, 9, 16, 21, 22, 23, 24, 26, 27, 28, 29, 30, 31, 32, 33, 34, 35, 37, 38, 39, 40, 41, 43, 45, 47, 51, 53, 55, 57, 59, 61, 64, 65, 66, 67, 71, 72, 73, 77, 78, 79, 81, 83, 85, 88, 89, 90, 91, 92, 95, 97}\n"
     ]
    }
   ],
   "source": [
    "doors = list(range(1,101))\n",
    "keys = list(range(1, 21))\n",
    "\n",
    "newlist = []\n",
    "for i in doors:  #1den 100e kadar olan kapıları\n",
    "    for k in keys:  #1den 20ye kadar olan anahtarlardan\n",
    "        if i%k == 0:  # i/k'yı tam bölenler, yani modulus 0'lar açar.\n",
    "            newlist.append((i))  # burayı (i,k) yapsaydık kapı anahtar ikililerini yanyana görürdük.\n",
    "            # ama bize kapılara kaç anahtar uygulanadığı lazım. yani bir kapının adı kaç defa listede varsa, o kadar\n",
    "            # açılıp kapanmış demektir. örneğin 4 nolu kapı 1,2 ve 4 nolu anahtarlarla açılıp/kiletleneceği için\n",
    "            # listede 3 kere yer alır. Listeyi gormek icin yazıralım.\n",
    "\n",
    "# şimdi de 20 anahtar sonrası hangi kapıların açık hangilerinin kapalı kalacağını bulalım.\n",
    "# kapılar ilk başta kilitli. ilk anahtar acar 2. kilitler, 3. acar, 4. kilitler ve böyle gider.\n",
    "# yani bir kapı çift sayıda anahtara maruz kaldıysa tekrar kapanmıştır. (%2== 0 ise).\n",
    "# örneğin 3 nolu kapı 1le açılır 3le yine kapanır. 4 ise 1le açılıp, 2ile kaanır ve 4 ile yine açılır.\n",
    "# yani %2 == 1 ise kapı açık. count methodu ile bir kapının listede kaç defa olduğunu bulup onu modulus 2 alrız.\n",
    "# listedeki tekrar eden kapı sayılarını teke indirmek icin en son set'e convert ederek yazdırırız\n",
    "locked_doors = []\n",
    "open_doors = []\n",
    "for i in newlist:\n",
    "    if newlist.count(i)%2 == 0:\n",
    "        locked_doors.append(i)\n",
    "        \n",
    "    else:\n",
    "        open_doors.append(i)\n",
    "print()\n",
    "print(\"The locked doors are: \", set(locked_doors))\n",
    "print()\n",
    "print(\"The open doors are: \", set(open_doors))"
   ]
  },
  {
   "cell_type": "code",
   "execution_count": 2,
   "id": "301316ae-4c9a-4ce7-8fd8-bff239cce950",
   "metadata": {},
   "outputs": [
    {
     "name": "stdout",
     "output_type": "stream",
     "text": [
      "[1, 4, 9, 16, 21, 22, 23, 24, 26, 27, 28, 29, 30, 31, 32, 33, 34, 35, 37, 38, 39, 40, 41, 43, 45, 47, 51, 53, 55, 57, 59, 61, 64, 65, 66, 67, 71, 72, 73, 77, 78, 79, 81, 83, 85, 88, 89, 90, 91, 92, 95, 97]\n",
      "\n",
      "[2, 3, 5, 6, 7, 8, 10, 11, 12, 13, 14, 15, 17, 18, 19, 20, 25, 36, 42, 44, 46, 48, 49, 50, 52, 54, 56, 58, 60, 62, 63, 68, 69, 70, 74, 75, 76, 80, 82, 84, 86, 87, 93, 94, 96, 98, 99, 100]\n"
     ]
    }
   ],
   "source": [
    "# numpy ile alternatif bir cözüm\n",
    "\n",
    "import numpy as np\n",
    "\n",
    "kapı = list(range(1,101))\n",
    "anahtar = list(range(1,21))\n",
    "işlem_kapı = []\n",
    "for i in kapı:\n",
    "    for j in anahtar:\n",
    "        if i % j == 0:\n",
    "            işlem_kapı.append(i)\n",
    "\n",
    "values, counts = np.unique(işlem_kapı, return_counts=True) \n",
    "açık_kapı = []\n",
    "kapalı_kapı = []\n",
    "res = dict(zip(values, counts))\n",
    "for i,j in res.items():\n",
    "    if j%2 == 0:\n",
    "        kapalı_kapı.append(i)\n",
    "    else: \n",
    "        açık_kapı.append(i)\n",
    "print(açık_kapı)\n",
    "print()\n",
    "print(kapalı_kapı)"
   ]
  },
  {
   "cell_type": "code",
   "execution_count": null,
   "id": "542e53cc-dbb6-4f5c-9694-f0f7cc3095a8",
   "metadata": {},
   "outputs": [],
   "source": []
  }
 ],
 "metadata": {
  "kernelspec": {
   "display_name": "Python 3 (ipykernel)",
   "language": "python",
   "name": "python3"
  },
  "language_info": {
   "codemirror_mode": {
    "name": "ipython",
    "version": 3
   },
   "file_extension": ".py",
   "mimetype": "text/x-python",
   "name": "python",
   "nbconvert_exporter": "python",
   "pygments_lexer": "ipython3",
   "version": "3.9.12"
  }
 },
 "nbformat": 4,
 "nbformat_minor": 5
}

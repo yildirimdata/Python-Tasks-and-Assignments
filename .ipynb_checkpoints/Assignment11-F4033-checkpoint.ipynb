{
 "cells": [
  {
   "cell_type": "markdown",
   "id": "b19d474f-1181-4a9d-8344-4fd7aa73c826",
   "metadata": {},
   "source": [
    "In the Gregorian calendar, three criteria must be taken into account to identify leap years:\n",
    "\n",
    "The year must be evenly divisible by 4;\n",
    "If the year can also be evenly divided by 100, it is not a leap year; unless...\n",
    "The year is also evenly divisible by 400. Then it is a leap year.\n",
    "\n",
    "According to these rules, the years 2000 and 2400 are leap years, while 1800, 1900, 2100, 2200, 2300, and 2500 are not the leap years.\n",
    "\n",
    "Write a Python program that prints such as \"2020 is a leap year\" if the given year by the user is a leap year, prints such as \"2019 is not a leap year\" otherwise."
   ]
  },
  {
   "cell_type": "code",
   "execution_count": 68,
   "id": "c6616e3a-9eb8-480e-8c57-d5aeb0460961",
   "metadata": {},
   "outputs": [
    {
     "name": "stdin",
     "output_type": "stream",
     "text": [
      "Enter a year to see if it is a leap year or not:  2200\n"
     ]
    },
    {
     "name": "stdout",
     "output_type": "stream",
     "text": [
      "2200 is not a leap year\n"
     ]
    }
   ],
   "source": [
    "year = int(input(\"Enter a year to see if it is a leap year or not: \"))\n",
    "\n",
    "if (year % 4 == 0) and (year % 100 != 0):\n",
    "    print(f\"{year} is a leap year\")\n",
    "elif (year % 4 == 0) and (year % 400 == 0):\n",
    "    print(f\"{year} is a leap year\")\n",
    "else: \n",
    "    print(f\"{year} is not a leap year\")"
   ]
  },
  {
   "cell_type": "code",
   "execution_count": 3,
   "id": "f0ffae95-a417-44f9-a6f4-b95368c04961",
   "metadata": {},
   "outputs": [
    {
     "name": "stdin",
     "output_type": "stream",
     "text": [
      "Enter a year to see if it is a leap year or not:  2020\n"
     ]
    },
    {
     "name": "stdout",
     "output_type": "stream",
     "text": [
      "2020 is a leap year\n"
     ]
    }
   ],
   "source": [
    "year = int(input(\"Enter a year to see if it is a leap year or not: \"))\n",
    "\n",
    "if (year % 4 == 0) and ((year % 100 != 0) or  (year % 400 == 0)):\n",
    "    print(f\"{year} is a leap year\")\n",
    "else :\n",
    "    print(f\"{year} is not a leap year\") \n",
    "    "
   ]
  },
  {
   "cell_type": "code",
   "execution_count": 2,
   "id": "6b04c5f5-c708-4fe2-b230-4f55790f33db",
   "metadata": {},
   "outputs": [
    {
     "name": "stdin",
     "output_type": "stream",
     "text": [
      "Enter a year to see if it is a leap year or not:  2200\n"
     ]
    },
    {
     "name": "stdout",
     "output_type": "stream",
     "text": [
      "2200 is not a leap year\n"
     ]
    }
   ],
   "source": [
    "year = input(\"Enter a year to see if it is a leap year or not: \")\n",
    "\n",
    "if int(year) % 400 == 0:\n",
    "    print(f\"{year} is a leap year\")\n",
    "elif int(year) % 100 == 0:\n",
    "    print(f\"{year} is not a leap year\") \n",
    "elif int(year) % 4 == 0:\n",
    "    print(f\"{year} is a leap year\")\n",
    "else :\n",
    "    print(f\"{year} is not a leap year\")"
   ]
  }
 ],
 "metadata": {
  "kernelspec": {
   "display_name": "Python 3 (ipykernel)",
   "language": "python",
   "name": "python3"
  },
  "language_info": {
   "codemirror_mode": {
    "name": "ipython",
    "version": 3
   },
   "file_extension": ".py",
   "mimetype": "text/x-python",
   "name": "python",
   "nbconvert_exporter": "python",
   "pygments_lexer": "ipython3",
   "version": "3.9.12"
  }
 },
 "nbformat": 4,
 "nbformat_minor": 5
}

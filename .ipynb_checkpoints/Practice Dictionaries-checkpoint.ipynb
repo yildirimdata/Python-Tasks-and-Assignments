{
 "cells": [
  {
   "cell_type": "markdown",
   "id": "eda01d7f-2ab6-4b67-af04-0d3e732a06c8",
   "metadata": {},
   "source": [
    "# Practice: Dictionaries\n",
    "\n",
    "Source: https://holypython.com/beginner-python-exercises/exercise-8-python-dictionaries/"
   ]
  },
  {
   "cell_type": "markdown",
   "id": "591bbaf5-9903-44dc-a0b0-4cbf25c5b808",
   "metadata": {},
   "source": [
    "TASK 1: When was Plato born?"
   ]
  },
  {
   "cell_type": "code",
   "execution_count": null,
   "id": "8321c98d-8a3e-4eab-8443-34d9f6787333",
   "metadata": {},
   "outputs": [
    {
     "name": "stdout",
     "output_type": "stream",
     "text": [
      "-427\n",
      "-427\n"
     ]
    }
   ],
   "source": [
    "dict={\"name\": \"Plato\", \"country\": \"Ancient Greece\", \"born\": -427, \"teacher\": \"Socrates\", \"student\": \"Aristotle\"}\n",
    "\n",
    "print(dict[\"born\"])\n",
    "\n",
    "# or we can assign it to a variable:\n",
    "\n",
    "born_year = dict[\"born\"]\n",
    "print(born_year)"
   ]
  },
  {
   "cell_type": "markdown",
   "id": "49f3912f-b84d-4eb5-a8ce-ea7df1012ff3",
   "metadata": {},
   "source": [
    "TASK 2: Change Plato's birth year from B.C. 427 to B.C. 428."
   ]
  },
  {
   "cell_type": "code",
   "execution_count": 5,
   "id": "2fc1d39b-dc2b-4a2a-b022-93c87052cf30",
   "metadata": {},
   "outputs": [
    {
     "name": "stdout",
     "output_type": "stream",
     "text": [
      "-428\n"
     ]
    }
   ],
   "source": [
    "dict={\"name\": \"Plato\", \"country\": \"Ancient Greece\", \"born\": -427, \"teacher\": \"Socrates\", \"student\": \"Aristotle\"}\n",
    "\n",
    "dict[\"born\"] = -428\n",
    "\n",
    "print(dict[\"born\"])"
   ]
  },
  {
   "cell_type": "markdown",
   "id": "62db0517-503b-4ddd-bd78-e32e47cfbe66",
   "metadata": {},
   "source": [
    "Adding a List to Python Dictionary (Nested Data)\n",
    "\n",
    "TASK 3: Dictionaries can have nested data too. Also, you can add a new key to a dictionary as they are mutable (changeable). Try to add the key \"work\" to dict with values shown below.\n",
    "\n",
    "\"work\": [\"Apology\", \"Phaedo\", \"Republic\", \"Symposium\"]"
   ]
  },
  {
   "cell_type": "code",
   "execution_count": 7,
   "id": "a635aff3-2d20-4bfd-b41f-505750a947b9",
   "metadata": {},
   "outputs": [
    {
     "name": "stdout",
     "output_type": "stream",
     "text": [
      "{'name': 'Plato', 'country': 'Ancient Greece', 'born': -427, 'teacher': 'Socrates', 'student': 'Aristotle', 'work': ['Apology', 'Phaedo', 'Republic', 'Symposium']}\n",
      "\n",
      "['Apology', 'Phaedo', 'Republic', 'Symposium']\n"
     ]
    }
   ],
   "source": [
    "dict={\"name\": \"Plato\", \"country\": \"Ancient Greece\", \"born\": -427, \"teacher\": \"Socrates\", \"student\": \"Aristotle\"}\n",
    "\n",
    "dict[\"work\"] = [\"Apology\", \"Phaedo\", \"Republic\", \"Symposium\"]\n",
    "\n",
    "print(dict)\n",
    "print()\n",
    "print(dict[\"work\"])"
   ]
  },
  {
   "cell_type": "markdown",
   "id": "98d12097-8243-4a68-a1f3-a995a692cdf2",
   "metadata": {},
   "source": [
    "Adding Up to the Value of a Key's Value (integer)\n",
    "\n",
    "TASK 4: Add 2 inches to the son's height."
   ]
  },
  {
   "cell_type": "code",
   "execution_count": 8,
   "id": "bc0e9f1b-e90e-46fa-b5e5-d88059bddc71",
   "metadata": {},
   "outputs": [
    {
     "name": "stdout",
     "output_type": "stream",
     "text": [
      "34\n"
     ]
    }
   ],
   "source": [
    "dict={\"son's name\": \"Lucas\", \"son's eyes\": \"green\", \"son's height\": 32, \"son's weight\": 25}\n",
    "\n",
    "dict[\"son's height\"] = dict[\"son's height\"] + 2\n",
    "print(dict[\"son's height\"])"
   ]
  },
  {
   "cell_type": "markdown",
   "id": "455844cd-a6ea-4185-92fa-7f81f864c3aa",
   "metadata": {},
   "source": [
    "Items method of dictionaries to get a list of tuples w/ key-value pairs\n",
    "\n",
    "TASK 5: Using .items() method generate a list of tuples consisted of each key value pair."
   ]
  },
  {
   "cell_type": "code",
   "execution_count": 9,
   "id": "5c67afaa-7754-429f-be05-71fb699f81ca",
   "metadata": {},
   "outputs": [
    {
     "data": {
      "text/plain": [
       "dict_items([(\"son's name\", 'Lucas'), (\"son's eyes\", 'green'), (\"son's height\", 32), (\"son's weight\", 25)])"
      ]
     },
     "execution_count": 9,
     "metadata": {},
     "output_type": "execute_result"
    }
   ],
   "source": [
    "dict={\"son's name\": \"Lucas\", \"son's eyes\": \"green\", \"son's height\": 32, \"son's weight\": 25}\n",
    "\n",
    "items = dict.items()\n",
    "items"
   ]
  },
  {
   "cell_type": "code",
   "execution_count": null,
   "id": "4fd0d5f8-e6f1-47e4-9ee6-8c2d2e247c1f",
   "metadata": {},
   "outputs": [],
   "source": []
  }
 ],
 "metadata": {
  "kernelspec": {
   "display_name": "Python 3 (ipykernel)",
   "language": "python",
   "name": "python3"
  },
  "language_info": {
   "codemirror_mode": {
    "name": "ipython",
    "version": 3
   },
   "file_extension": ".py",
   "mimetype": "text/x-python",
   "name": "python",
   "nbconvert_exporter": "python",
   "pygments_lexer": "ipython3",
   "version": "3.9.12"
  }
 },
 "nbformat": 4,
 "nbformat_minor": 5
}

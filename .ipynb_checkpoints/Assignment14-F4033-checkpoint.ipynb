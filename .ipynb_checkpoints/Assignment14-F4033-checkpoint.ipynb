{
 "cells": [
  {
   "cell_type": "markdown",
   "id": "70dc0111-2cee-4b37-9ad7-56e880779410",
   "metadata": {},
   "source": [
    "Task : Create a list consisting of Fibonacci numbers from 1 to 55 using control flow statements and range() function.\n",
    "\n",
    "The desired output is like this:\n",
    "\n",
    "fibonacci →  [1, 1, 2, 3, 5, 8, 13, 21, 34, 55]"
   ]
  },
  {
   "cell_type": "code",
   "execution_count": 46,
   "id": "2954d9fa-bedb-4a94-9405-e8c7d054d401",
   "metadata": {},
   "outputs": [
    {
     "name": "stdout",
     "output_type": "stream",
     "text": [
      "[1, 1, 2, 3, 5, 8, 13, 21, 34, 55]\n"
     ]
    }
   ],
   "source": [
    "# Domain knowledge: \"a series of numbers in which each number ( Fibonacci number ) \n",
    "# is the sum of the two preceding numbers.\" First fibonacci numbers are 0 and 1. However,\n",
    "# since the task asks to start from 1, I define the first two fib numbers as 1 and 1 and assign them two variables\n",
    "# named a and b. The I set a while loop. While a <= 55, I ask to add all a values to my list, and then\n",
    "# define the variables a and b as (a = b, b = a+b). If a is 1 and b is 2, a will get the value of b which is already \n",
    "# a+b. This will continue until a gets the values of 55 and then loops stop at this point.\n",
    "fib_num = []\n",
    "a, b = 1, 1\n",
    "while a <= 55:\n",
    "    fib_num.append(a)\n",
    "    a, b = b, a+b\n",
    "print(fib_num)  "
   ]
  },
  {
   "cell_type": "code",
   "execution_count": null,
   "id": "d7b9c2b0-b302-49c4-a070-11380463c1c4",
   "metadata": {},
   "outputs": [],
   "source": [
    "# After defining a function called fib(n), I create a list titled result to add the numbers into it.\n",
    "# Afterthat, in order to get the fib numbers I create two variables (a,b) and assign them the values 1 and 2 respectively.\n",
    "# Then I write a while loop which add the sum of a and b into the result list and returns the result. fib(56) gives us\n",
    "# the fibonacci numbers from 1 to 55."
   ]
  },
  {
   "cell_type": "code",
   "execution_count": 47,
   "id": "2b37c9db-b42f-4870-9bbf-208e53ec2843",
   "metadata": {},
   "outputs": [
    {
     "data": {
      "text/plain": [
       "[1, 1, 2, 3, 5, 8, 13, 21, 34, 55]"
      ]
     },
     "execution_count": 47,
     "metadata": {},
     "output_type": "execute_result"
    }
   ],
   "source": [
    "def fib(n):  \n",
    "     result = []\n",
    "     a, b = 1, 1\n",
    "     while a < n:\n",
    "         result.append(a)  \n",
    "         a, b = b, a+b\n",
    "     return result \n",
    "\n",
    "fib(56)"
   ]
  },
  {
   "cell_type": "code",
   "execution_count": null,
   "id": "3aa28a21-bb5c-4619-8ecb-9172b09adf21",
   "metadata": {},
   "outputs": [],
   "source": []
  },
  {
   "cell_type": "code",
   "execution_count": null,
   "id": "0b3942cb-4f16-49d1-932d-0ea655148f53",
   "metadata": {},
   "outputs": [],
   "source": []
  }
 ],
 "metadata": {
  "kernelspec": {
   "display_name": "Python 3 (ipykernel)",
   "language": "python",
   "name": "python3"
  },
  "language_info": {
   "codemirror_mode": {
    "name": "ipython",
    "version": 3
   },
   "file_extension": ".py",
   "mimetype": "text/x-python",
   "name": "python",
   "nbconvert_exporter": "python",
   "pygments_lexer": "ipython3",
   "version": "3.9.12"
  }
 },
 "nbformat": 4,
 "nbformat_minor": 5
}

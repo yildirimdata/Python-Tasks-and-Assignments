{
 "cells": [
  {
   "cell_type": "code",
   "execution_count": null,
   "id": "d7b9c2b0-b302-49c4-a070-11380463c1c4",
   "metadata": {},
   "outputs": [],
   "source": [
    "# After defining a function called fib(n), I create a list titled result to add the numbers into it.\n",
    "# Afterthat, in order to get the fib numbers I create two variables (a,b) and assign them the values 1 and 2 respectively.\n",
    "# Then I write a while loop which add the sum of a and b into the result list and returns the result. fib(56) gives us\n",
    "# the fibonacci numbers from 1 to 55."
   ]
  },
  {
   "cell_type": "code",
   "execution_count": 3,
   "id": "2b37c9db-b42f-4870-9bbf-208e53ec2843",
   "metadata": {},
   "outputs": [
    {
     "data": {
      "text/plain": [
       "[0, 1, 1, 2, 3, 5, 8, 13, 21, 34, 55]"
      ]
     },
     "execution_count": 3,
     "metadata": {},
     "output_type": "execute_result"
    }
   ],
   "source": [
    "def fib(n):  \n",
    "     result = []\n",
    "     a, b = 0, 1\n",
    "     while a < n:\n",
    "         result.append(a)  \n",
    "         a, b = b, a+b\n",
    "     return result \n",
    "\n",
    "fib(56)"
   ]
  },
  {
   "cell_type": "code",
   "execution_count": null,
   "id": "1f77dbbe-08b9-4d1e-88a7-12595439685f",
   "metadata": {},
   "outputs": [],
   "source": []
  }
 ],
 "metadata": {
  "kernelspec": {
   "display_name": "Python 3 (ipykernel)",
   "language": "python",
   "name": "python3"
  },
  "language_info": {
   "codemirror_mode": {
    "name": "ipython",
    "version": 3
   },
   "file_extension": ".py",
   "mimetype": "text/x-python",
   "name": "python",
   "nbconvert_exporter": "python",
   "pygments_lexer": "ipython3",
   "version": "3.9.12"
  }
 },
 "nbformat": 4,
 "nbformat_minor": 5
}

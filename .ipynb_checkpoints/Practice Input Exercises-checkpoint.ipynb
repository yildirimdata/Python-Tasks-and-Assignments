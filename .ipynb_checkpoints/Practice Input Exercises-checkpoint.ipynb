{
 "cells": [
  {
   "cell_type": "markdown",
   "id": "e3caedc5-c774-4426-9b2e-83a046c53ea3",
   "metadata": {},
   "source": [
    "# Input Function Practices\n",
    "\n",
    "source: https://holypython.com/beginner-python-exercises/exercise-13-input-function/"
   ]
  },
  {
   "cell_type": "markdown",
   "id": "33f59344-8a0c-4b2a-a5fc-939ec7fb3ae1",
   "metadata": {},
   "source": [
    "TASK 1: Using input() function ask for user's name."
   ]
  },
  {
   "cell_type": "code",
   "execution_count": 1,
   "id": "dbb630d0-9883-4513-ae05-2a9049037b11",
   "metadata": {},
   "outputs": [
    {
     "name": "stdin",
     "output_type": "stream",
     "text": [
      "Enter your name please :  Kermit\n"
     ]
    },
    {
     "name": "stdout",
     "output_type": "stream",
     "text": [
      "Hello Kermit\n"
     ]
    }
   ],
   "source": [
    "Name = input(\"Enter your name please : \")\n",
    "\n",
    "print(f\"Hello {Name}\")"
   ]
  },
  {
   "cell_type": "markdown",
   "id": "0e9bf1e0-5f38-4438-9316-2310162ca213",
   "metadata": {},
   "source": [
    "TASK 2: This time ask the user a numerical question, such as, \"Please enter your age.\" See what type of data input() returns."
   ]
  },
  {
   "cell_type": "code",
   "execution_count": 2,
   "id": "00afb870-f896-445a-83a5-d103637c1d95",
   "metadata": {},
   "outputs": [
    {
     "name": "stdin",
     "output_type": "stream",
     "text": [
      "Enter your age please :  41\n"
     ]
    },
    {
     "name": "stdout",
     "output_type": "stream",
     "text": [
      "<class 'str'>\n"
     ]
    }
   ],
   "source": [
    "user_input = input(\"Enter your age please : \")\n",
    "\n",
    "print(type(user_input))"
   ]
  },
  {
   "cell_type": "markdown",
   "id": "9fcde87a-afdc-42e0-9719-0f561c830d14",
   "metadata": {},
   "source": [
    "TASK 3: Using input() function, print() function and another function you may need; ask for the current year, then print the answer +50."
   ]
  },
  {
   "cell_type": "code",
   "execution_count": 4,
   "id": "f8b08e8e-c64d-44e5-98c0-d46f7d56aa85",
   "metadata": {},
   "outputs": [
    {
     "name": "stdin",
     "output_type": "stream",
     "text": [
      "what year is it now= 2020a\n"
     ]
    },
    {
     "name": "stdout",
     "output_type": "stream",
     "text": [
      "This is not a valid year. Please try again!\n"
     ]
    },
    {
     "name": "stdin",
     "output_type": "stream",
     "text": [
      "what year is it now= 2022\n"
     ]
    },
    {
     "name": "stdout",
     "output_type": "stream",
     "text": [
      "2072\n"
     ]
    }
   ],
   "source": [
    "\n",
    "while True:\n",
    "    \n",
    "    user_entry = input(\"what year is it now=\").strip()\n",
    "    if user_entry.isdigit() == True:\n",
    "        print(int(user_entry)+50)\n",
    "        break\n",
    "    else:\n",
    "        print(\"This is not a valid year. Please try again!\")\n",
    "\n"
   ]
  },
  {
   "cell_type": "markdown",
   "id": "be9360c7-ce4f-4a77-ba51-d240a1884928",
   "metadata": {},
   "source": [
    "TASK 4: Create a converter that will ask for amount of days and convert it to years, then print it.\n",
    "\n",
    "You can ask something like: \"How many days would you like to convert to a year?\""
   ]
  },
  {
   "cell_type": "code",
   "execution_count": 8,
   "id": "c0856b97-843d-449e-b0ca-dd5c798d6220",
   "metadata": {},
   "outputs": [
    {
     "name": "stdin",
     "output_type": "stream",
     "text": [
      "How many days would you like to convert to a year?  5000\n"
     ]
    },
    {
     "name": "stdout",
     "output_type": "stream",
     "text": [
      "13.7\n"
     ]
    }
   ],
   "source": [
    "converter = round((int(input(\"How many days would you like to convert to a year? \").strip())) / 365, 1)\n",
    "print(converter)"
   ]
  },
  {
   "cell_type": "markdown",
   "id": "ca9856fc-8f11-47b6-9695-6403091e9e9c",
   "metadata": {},
   "source": [
    "TASK 5: Let's create the same converter this time with int function instead of float."
   ]
  },
  {
   "cell_type": "code",
   "execution_count": 9,
   "id": "c86e5961-3840-4b83-88ab-2dfcd0e2d9f2",
   "metadata": {},
   "outputs": [
    {
     "name": "stdin",
     "output_type": "stream",
     "text": [
      "How many days would you like to convert to a year?  5000\n"
     ]
    },
    {
     "name": "stdout",
     "output_type": "stream",
     "text": [
      "13\n"
     ]
    }
   ],
   "source": [
    "converter = int((int(input(\"How many days would you like to convert to a year? \").strip())) / 365)\n",
    "print(converter)"
   ]
  },
  {
   "cell_type": "markdown",
   "id": "6a89da0e-cfca-4cad-974f-2dac741f3652",
   "metadata": {},
   "source": [
    "TASK 6: Can you create a converter that converts miles to kms?"
   ]
  },
  {
   "cell_type": "code",
   "execution_count": 11,
   "id": "07b7b78a-8128-40b2-b6c7-b995e81314af",
   "metadata": {},
   "outputs": [
    {
     "name": "stdin",
     "output_type": "stream",
     "text": [
      "Enter miles 85\n"
     ]
    },
    {
     "data": {
      "text/plain": [
       "136.79"
      ]
     },
     "execution_count": 11,
     "metadata": {},
     "output_type": "execute_result"
    }
   ],
   "source": [
    "miles_to_km = round(1.609344 * int(input(\"Enter miles\").strip()),2)\n",
    "miles_to_km"
   ]
  },
  {
   "cell_type": "code",
   "execution_count": null,
   "id": "f846e0f6-9b04-4c04-84e2-3f6e23c797c6",
   "metadata": {},
   "outputs": [],
   "source": []
  }
 ],
 "metadata": {
  "kernelspec": {
   "display_name": "Python 3 (ipykernel)",
   "language": "python",
   "name": "python3"
  },
  "language_info": {
   "codemirror_mode": {
    "name": "ipython",
    "version": 3
   },
   "file_extension": ".py",
   "mimetype": "text/x-python",
   "name": "python",
   "nbconvert_exporter": "python",
   "pygments_lexer": "ipython3",
   "version": "3.9.12"
  }
 },
 "nbformat": 4,
 "nbformat_minor": 5
}

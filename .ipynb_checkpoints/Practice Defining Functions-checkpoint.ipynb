{
 "cells": [
  {
   "cell_type": "markdown",
   "id": "0d2cbc41-5e80-4ad0-a333-d259232cd066",
   "metadata": {},
   "source": [
    "# Practice Defining Functions\n",
    "\n",
    "Source: https://holypython.com/beginner-python-exercises/exercise-16-defining-functions/"
   ]
  },
  {
   "cell_type": "markdown",
   "id": "a2273967-8d89-4ab9-abab-c642a527c97b",
   "metadata": {},
   "source": [
    "TASK 1: Define a function named f_1 which will print \"Hello World!\""
   ]
  },
  {
   "cell_type": "code",
   "execution_count": 2,
   "id": "3115ad6a-3439-455c-883b-7a7a87fa722c",
   "metadata": {},
   "outputs": [
    {
     "name": "stdout",
     "output_type": "stream",
     "text": [
      "Hello World!\n"
     ]
    }
   ],
   "source": [
    "def f_1():\n",
    "    print(\"Hello World!\")\n",
    "          \n",
    "f_1()"
   ]
  },
  {
   "cell_type": "markdown",
   "id": "b344ef73-d9c3-4eb0-bc75-45ffa59d6659",
   "metadata": {},
   "source": [
    "TASK 2: Now define the same function f_1 and assign it to variable ans_1. See what happens."
   ]
  },
  {
   "cell_type": "code",
   "execution_count": 3,
   "id": "5a3066bf-bd4d-4576-88cb-ab63dfc8809e",
   "metadata": {},
   "outputs": [
    {
     "name": "stdout",
     "output_type": "stream",
     "text": [
      "Hello World!\n"
     ]
    }
   ],
   "source": [
    "def f_1():\n",
    "    print(\"Hello World!\")\n",
    "    \n",
    "ans_1 = f_1()\n",
    "ans_1"
   ]
  },
  {
   "cell_type": "markdown",
   "id": "a8897c65-a744-4632-8d3f-de226244a9ec",
   "metadata": {},
   "source": [
    "TASK 3: Now define the same f_1 function this time so that it returns a value instead of just printing it.."
   ]
  },
  {
   "cell_type": "code",
   "execution_count": 4,
   "id": "82aadedb-91e2-4271-bcd6-2e51c98d4e70",
   "metadata": {},
   "outputs": [
    {
     "data": {
      "text/plain": [
       "'Hello World!'"
      ]
     },
     "execution_count": 4,
     "metadata": {},
     "output_type": "execute_result"
    }
   ],
   "source": [
    "def f_1():\n",
    "    return \"Hello World!\" \n",
    "\n",
    "f_1()"
   ]
  },
  {
   "cell_type": "markdown",
   "id": "080ed107-80e0-4843-b157-e1c24ffe364c",
   "metadata": {},
   "source": [
    "TASK 4: Now create a function named f_1 which both prints and returns \"Hello World!\""
   ]
  },
  {
   "cell_type": "code",
   "execution_count": 5,
   "id": "be94302a-0093-40c9-aab4-804d88f547f8",
   "metadata": {},
   "outputs": [
    {
     "name": "stdout",
     "output_type": "stream",
     "text": [
      "Hello World!\n"
     ]
    },
    {
     "data": {
      "text/plain": [
       "'Hello World!'"
      ]
     },
     "execution_count": 5,
     "metadata": {},
     "output_type": "execute_result"
    }
   ],
   "source": [
    "def f_1():\n",
    "    print(\"Hello World!\")\n",
    "    return \"Hello World!\" \n",
    "\n",
    "f_1()"
   ]
  },
  {
   "cell_type": "markdown",
   "id": "14b40684-00eb-4938-8317-383ee77c2581",
   "metadata": {},
   "source": [
    "It’s important to note that after return statement you can not have any line in your function.\n",
    "\n",
    "Return ends your function. So make sure any other statement you’d like to make comes before return."
   ]
  },
  {
   "cell_type": "markdown",
   "id": "a725f3db-22bd-4414-b5ca-1b0825ade9e4",
   "metadata": {},
   "source": [
    "TASK 5: Create a function named f_1 which always returns the number: 100 ."
   ]
  },
  {
   "cell_type": "code",
   "execution_count": 9,
   "id": "94a7468c-3870-44ba-a336-df3959008114",
   "metadata": {},
   "outputs": [
    {
     "data": {
      "text/plain": [
       "100"
      ]
     },
     "execution_count": 9,
     "metadata": {},
     "output_type": "execute_result"
    }
   ],
   "source": [
    "def f_1(n):\n",
    "    return 100\n",
    "\n",
    "f_1(999)"
   ]
  },
  {
   "cell_type": "markdown",
   "id": "eafccb8b-b478-414f-9f47-77fe89f10a0f",
   "metadata": {},
   "source": [
    "TASK 6: Create a function named f_1 which takes an integer as input and then returns it."
   ]
  },
  {
   "cell_type": "code",
   "execution_count": 11,
   "id": "eeed8ad5-d78d-4baf-8663-d3d7a16eb7f3",
   "metadata": {},
   "outputs": [
    {
     "data": {
      "text/plain": [
       "44"
      ]
     },
     "execution_count": 11,
     "metadata": {},
     "output_type": "execute_result"
    }
   ],
   "source": [
    "def f_1(n):\n",
    "    return n\n",
    "\n",
    "f_1(44)"
   ]
  },
  {
   "cell_type": "markdown",
   "id": "f3295edd-bb53-4d9d-8495-ff2ff2e758fe",
   "metadata": {},
   "source": [
    "TASK 7: Can you define a function that takes a list as input and returns the reverse of that list?"
   ]
  },
  {
   "cell_type": "code",
   "execution_count": 20,
   "id": "36d9838c-1362-4c69-9c14-81348c910c14",
   "metadata": {},
   "outputs": [
    {
     "name": "stdout",
     "output_type": "stream",
     "text": [
      "[500, 400, 300, 200, 100]\n"
     ]
    }
   ],
   "source": [
    "\n",
    "lst=[100,200,300,400,500]\n",
    "\n",
    "def f_1(lst):\n",
    "    return lst.reverse()\n",
    "\n",
    "\n",
    "\n",
    "f_1(lst)\n",
    "print(lst)"
   ]
  },
  {
   "cell_type": "markdown",
   "id": "8a73ef58-0c90-4c11-aae0-f3b861a3544c",
   "metadata": {},
   "source": [
    "TASK 8: Write a function named f_1 which will ask user for their name and print Hello!, Name"
   ]
  },
  {
   "cell_type": "code",
   "execution_count": 21,
   "id": "baa1a8d3-da51-4317-bc19-d779c7fb3176",
   "metadata": {},
   "outputs": [
    {
     "name": "stdin",
     "output_type": "stream",
     "text": [
      "your name David\n"
     ]
    },
    {
     "name": "stdout",
     "output_type": "stream",
     "text": [
      "Hello David\n"
     ]
    }
   ],
   "source": [
    "def f_1():\n",
    "    print(\"Hello\", input(\"your name\"))\n",
    "    \n",
    "f_1()"
   ]
  },
  {
   "cell_type": "markdown",
   "id": "e879e97b-704e-4c9f-b1a5-a7c89268364b",
   "metadata": {},
   "source": [
    "TASK 9: Write 2 functions named f_1 and f_2. First one takes a number as input and returns that number +5, second function takes a number as input and returns first function's result multiplied by 2."
   ]
  },
  {
   "cell_type": "code",
   "execution_count": 24,
   "id": "449521b4-3f85-441c-8f55-5dbb7b9157da",
   "metadata": {},
   "outputs": [
    {
     "name": "stdout",
     "output_type": "stream",
     "text": [
      "18\n"
     ]
    }
   ],
   "source": [
    "def f_1(n):\n",
    "    return n+5\n",
    "\n",
    "def f_2(i):\n",
    "    return f_1(i)*2\n",
    "\n",
    "\n",
    "\n",
    "print(f_2(4))"
   ]
  },
  {
   "cell_type": "code",
   "execution_count": null,
   "id": "051929ea-efd6-41c1-ac7a-fe4fe92e482b",
   "metadata": {},
   "outputs": [],
   "source": []
  }
 ],
 "metadata": {
  "kernelspec": {
   "display_name": "Python 3 (ipykernel)",
   "language": "python",
   "name": "python3"
  },
  "language_info": {
   "codemirror_mode": {
    "name": "ipython",
    "version": 3
   },
   "file_extension": ".py",
   "mimetype": "text/x-python",
   "name": "python",
   "nbconvert_exporter": "python",
   "pygments_lexer": "ipython3",
   "version": "3.9.12"
  }
 },
 "nbformat": 4,
 "nbformat_minor": 5
}

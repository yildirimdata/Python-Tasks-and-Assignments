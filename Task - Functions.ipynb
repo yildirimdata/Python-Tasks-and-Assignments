{
 "cells": [
  {
   "cell_type": "markdown",
   "id": "a80cf702-928d-440c-8bb0-cf8ce7c51010",
   "metadata": {},
   "source": [
    "Task: Define and call a function which has two parameters (first one is integer and second one is string) and \n",
    "\n",
    "- counts the number down until 1 by adding * between the digits \n",
    "\n",
    "- capitalizes the letters of String and ends the body with \"!\".\n",
    "\n",
    "Sample output:\n",
    "\n",
    "count_down(3,\"go\")--> 3*2*1*GO!"
   ]
  },
  {
   "cell_type": "code",
   "execution_count": 1,
   "id": "b3e954a6-6776-49af-aa3b-98beb8758761",
   "metadata": {},
   "outputs": [
    {
     "name": "stdout",
     "output_type": "stream",
     "text": [
      "3*2*1*GO!\n"
     ]
    }
   ],
   "source": [
    "def count_down(a,b):\n",
    "    print(*range(1, a+1)[::-1], sep = \"*\", end= \"\")\n",
    "    print(\"*\", b.upper(), \"!\", sep = \"\")\n",
    "\n",
    "count_down(3, \"go\")"
   ]
  },
  {
   "cell_type": "code",
   "execution_count": null,
   "id": "38c8b012-ee8d-4579-a84c-9b1361e80345",
   "metadata": {},
   "outputs": [],
   "source": []
  }
 ],
 "metadata": {
  "kernelspec": {
   "display_name": "Python 3 (ipykernel)",
   "language": "python",
   "name": "python3"
  },
  "language_info": {
   "codemirror_mode": {
    "name": "ipython",
    "version": 3
   },
   "file_extension": ".py",
   "mimetype": "text/x-python",
   "name": "python",
   "nbconvert_exporter": "python",
   "pygments_lexer": "ipython3",
   "version": "3.9.12"
  }
 },
 "nbformat": 4,
 "nbformat_minor": 5
}

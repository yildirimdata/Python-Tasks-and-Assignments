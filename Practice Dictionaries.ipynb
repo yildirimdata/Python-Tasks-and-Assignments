{
 "cells": [
  {
   "cell_type": "markdown",
   "id": "eda01d7f-2ab6-4b67-af04-0d3e732a06c8",
   "metadata": {},
   "source": [
    "# Practice: Dictionaries\n",
    "\n",
    "Source: https://holypython.com/beginner-python-exercises/exercise-8-python-dictionaries/"
   ]
  },
  {
   "cell_type": "markdown",
   "id": "591bbaf5-9903-44dc-a0b0-4cbf25c5b808",
   "metadata": {},
   "source": [
    "TASK 1: "
   ]
  },
  {
   "cell_type": "code",
   "execution_count": null,
   "id": "8321c98d-8a3e-4eab-8443-34d9f6787333",
   "metadata": {},
   "outputs": [],
   "source": []
  }
 ],
 "metadata": {
  "kernelspec": {
   "display_name": "Python 3 (ipykernel)",
   "language": "python",
   "name": "python3"
  },
  "language_info": {
   "codemirror_mode": {
    "name": "ipython",
    "version": 3
   },
   "file_extension": ".py",
   "mimetype": "text/x-python",
   "name": "python",
   "nbconvert_exporter": "python",
   "pygments_lexer": "ipython3",
   "version": "3.9.12"
  }
 },
 "nbformat": 4,
 "nbformat_minor": 5
}

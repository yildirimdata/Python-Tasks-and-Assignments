{
 "cells": [
  {
   "cell_type": "markdown",
   "id": "eda01d7f-2ab6-4b67-af04-0d3e732a06c8",
   "metadata": {},
   "source": [
    "# Practice: Dictionaries\n",
    "\n",
    "Source: https://holypython.com/beginner-python-exercises/exercise-8-python-dictionaries/"
   ]
  },
  {
   "cell_type": "markdown",
   "id": "591bbaf5-9903-44dc-a0b0-4cbf25c5b808",
   "metadata": {},
   "source": [
    "TASK 1: When was Plato born?"
   ]
  },
  {
   "cell_type": "code",
   "execution_count": null,
   "id": "8321c98d-8a3e-4eab-8443-34d9f6787333",
   "metadata": {},
   "outputs": [
    {
     "name": "stdout",
     "output_type": "stream",
     "text": [
      "-427\n",
      "-427\n"
     ]
    }
   ],
   "source": [
    "dict={\"name\": \"Plato\", \"country\": \"Ancient Greece\", \"born\": -427, \"teacher\": \"Socrates\", \"student\": \"Aristotle\"}\n",
    "\n",
    "print(dict[\"born\"])\n",
    "\n",
    "# or we can assign it to a variable:\n",
    "\n",
    "born_year = dict[\"born\"]\n",
    "print(born_year)"
   ]
  },
  {
   "cell_type": "markdown",
   "id": "49f3912f-b84d-4eb5-a8ce-ea7df1012ff3",
   "metadata": {},
   "source": [
    "TASK 2: Change Plato's birth year from B.C. 427 to B.C. 428."
   ]
  },
  {
   "cell_type": "code",
   "execution_count": 5,
   "id": "2fc1d39b-dc2b-4a2a-b022-93c87052cf30",
   "metadata": {},
   "outputs": [
    {
     "name": "stdout",
     "output_type": "stream",
     "text": [
      "-428\n"
     ]
    }
   ],
   "source": [
    "dict={\"name\": \"Plato\", \"country\": \"Ancient Greece\", \"born\": -427, \"teacher\": \"Socrates\", \"student\": \"Aristotle\"}\n",
    "\n",
    "dict[\"born\"] = -428\n",
    "\n",
    "print(dict[\"born\"])"
   ]
  },
  {
   "cell_type": "markdown",
   "id": "62db0517-503b-4ddd-bd78-e32e47cfbe66",
   "metadata": {},
   "source": [
    "Adding a List to Python Dictionary (Nested Data)\n",
    "\n",
    "TASK 3: Dictionaries can have nested data too. Also, you can add a new key to a dictionary as they are mutable (changeable). Try to add the key \"work\" to dict with values shown below.\n",
    "\n",
    "\"work\": [\"Apology\", \"Phaedo\", \"Republic\", \"Symposium\"]"
   ]
  },
  {
   "cell_type": "code",
   "execution_count": 7,
   "id": "a635aff3-2d20-4bfd-b41f-505750a947b9",
   "metadata": {},
   "outputs": [
    {
     "name": "stdout",
     "output_type": "stream",
     "text": [
      "{'name': 'Plato', 'country': 'Ancient Greece', 'born': -427, 'teacher': 'Socrates', 'student': 'Aristotle', 'work': ['Apology', 'Phaedo', 'Republic', 'Symposium']}\n",
      "\n",
      "['Apology', 'Phaedo', 'Republic', 'Symposium']\n"
     ]
    }
   ],
   "source": [
    "dict={\"name\": \"Plato\", \"country\": \"Ancient Greece\", \"born\": -427, \"teacher\": \"Socrates\", \"student\": \"Aristotle\"}\n",
    "\n",
    "dict[\"work\"] = [\"Apology\", \"Phaedo\", \"Republic\", \"Symposium\"]\n",
    "\n",
    "print(dict)\n",
    "print()\n",
    "print(dict[\"work\"])"
   ]
  },
  {
   "cell_type": "markdown",
   "id": "98d12097-8243-4a68-a1f3-a995a692cdf2",
   "metadata": {},
   "source": [
    "Adding Up to the Value of a Key's Value (integer)\n",
    "\n",
    "TASK 4: Add 2 inches to the son's height."
   ]
  },
  {
   "cell_type": "code",
   "execution_count": 8,
   "id": "bc0e9f1b-e90e-46fa-b5e5-d88059bddc71",
   "metadata": {},
   "outputs": [
    {
     "name": "stdout",
     "output_type": "stream",
     "text": [
      "34\n"
     ]
    }
   ],
   "source": [
    "dict={\"son's name\": \"Lucas\", \"son's eyes\": \"green\", \"son's height\": 32, \"son's weight\": 25}\n",
    "\n",
    "dict[\"son's height\"] = dict[\"son's height\"] + 2\n",
    "print(dict[\"son's height\"])"
   ]
  },
  {
   "cell_type": "markdown",
   "id": "455844cd-a6ea-4185-92fa-7f81f864c3aa",
   "metadata": {},
   "source": [
    "Items method of dictionaries to get a list of tuples w/ key-value pairs\n",
    "\n",
    "TASK 5: Using .items() method generate a list of tuples consisted of each key value pair."
   ]
  },
  {
   "cell_type": "code",
   "execution_count": 9,
   "id": "5c67afaa-7754-429f-be05-71fb699f81ca",
   "metadata": {},
   "outputs": [
    {
     "data": {
      "text/plain": [
       "dict_items([(\"son's name\", 'Lucas'), (\"son's eyes\", 'green'), (\"son's height\", 32), (\"son's weight\", 25)])"
      ]
     },
     "execution_count": 9,
     "metadata": {},
     "output_type": "execute_result"
    }
   ],
   "source": [
    "dict={\"son's name\": \"Lucas\", \"son's eyes\": \"green\", \"son's height\": 32, \"son's weight\": 25}\n",
    "\n",
    "items = dict.items()\n",
    "items"
   ]
  },
  {
   "cell_type": "markdown",
   "id": "02a70694-9dc9-4b07-93a1-42e859269f66",
   "metadata": {},
   "source": [
    "Get Method to call a dictionary key's value\n",
    "\n",
    "TASK 6: Using .get() method print the value of \"son's eyes\"."
   ]
  },
  {
   "cell_type": "code",
   "execution_count": 11,
   "id": "df73fb66-2c25-43cf-ad2b-626e71dff1f1",
   "metadata": {},
   "outputs": [
    {
     "data": {
      "text/plain": [
       "'green'"
      ]
     },
     "execution_count": 11,
     "metadata": {},
     "output_type": "execute_result"
    }
   ],
   "source": [
    "dict={\"son's name\": \"Lucas\", \"son's eyes\": \"green\", \"son's height\": 32, \"son's weight\": 25}\n",
    "\n",
    "dict.get(\"son's eyes\")"
   ]
  },
  {
   "cell_type": "markdown",
   "id": "76dc2713-c0ec-40e1-98f4-b6fc435a2510",
   "metadata": {},
   "source": [
    "Get Method of Dictionaries for Sophisticated Value Calling\n",
    "    \n",
    ".get() method can be used just to get the value of a key. But it has more tricks up its sleeve.\n",
    "\n",
    "TASK 7 : Try to look for key: \"son's age\" and if nothing comes up make the .get() return \"2\"."
   ]
  },
  {
   "cell_type": "code",
   "execution_count": 13,
   "id": "f80e5fc0-34cf-4526-b4e1-74404163da3e",
   "metadata": {},
   "outputs": [
    {
     "name": "stdout",
     "output_type": "stream",
     "text": [
      "2\n"
     ]
    }
   ],
   "source": [
    "dict={\"son's name\": \"Lucas\", \"son's eye color\": \"green\", \"son's height\": 32, \"son's weight\": 25}\n",
    "\n",
    "# traditional way with if-else statement\n",
    "if \"son's age\" in dict:\n",
    "    print(dict[\"son's age\"])\n",
    "else:\n",
    "    print(2)"
   ]
  },
  {
   "cell_type": "code",
   "execution_count": 14,
   "id": "7c98bfe0-8588-4a07-9247-9f8e9c752e4c",
   "metadata": {},
   "outputs": [
    {
     "data": {
      "text/plain": [
       "2"
      ]
     },
     "execution_count": 14,
     "metadata": {},
     "output_type": "execute_result"
    }
   ],
   "source": [
    "# 2. way: we can change the parameters of get function\n",
    "\n",
    "dict.get(\"son's age\", 2)  # that means, call son's age, if it doesn't in list, then return 2\n",
    "\n",
    "# .get() method takes two parameters, 1) value being looked up, 2) value to return if nothing comes up."
   ]
  },
  {
   "cell_type": "markdown",
   "id": "9aede698-2c5f-44ed-96a7-1999e1ae75c1",
   "metadata": {},
   "source": [
    "Clear method to remove everything from a dictionary\n",
    "\n",
    "Since dictionaries are mutable, they have some methods that tuples don't have.\n",
    "\n",
    ".clear() is one of them and it clears the whole dictionary.\n",
    "\n",
    "TASK 8: clear the dictionary and then print it\n"
   ]
  },
  {
   "cell_type": "code",
   "execution_count": 15,
   "id": "2fefc18d-c287-495d-a516-b436e28602c1",
   "metadata": {},
   "outputs": [
    {
     "name": "stdout",
     "output_type": "stream",
     "text": [
      "{}\n"
     ]
    }
   ],
   "source": [
    "dict={\"son's name\": \"Lucas\", \"son's eye color\": \"green\", \"son's height\": 32, \"son's weight\": 25}\n",
    "\n",
    "dict.clear()\n",
    "\n",
    "print(dict)"
   ]
  },
  {
   "cell_type": "markdown",
   "id": "b907cf25-ed46-4ee3-8bed-3e9efe7f666b",
   "metadata": {},
   "source": [
    "Len function to get the amount of keys in a dictionary\n",
    "\n",
    "TASK 9: Using len function, find how many keys there are in the dictionary."
   ]
  },
  {
   "cell_type": "code",
   "execution_count": 16,
   "id": "fa6e91f9-b778-4692-8a6a-7b778249f820",
   "metadata": {},
   "outputs": [
    {
     "data": {
      "text/plain": [
       "4"
      ]
     },
     "execution_count": 16,
     "metadata": {},
     "output_type": "execute_result"
    }
   ],
   "source": [
    "dict={\"son's name\": \"Lucas\", \"son's eye color\": \"green\", \"son's height\": 32, \"son's weight\": 25}\n",
    "\n",
    "len(dict)"
   ]
  },
  {
   "cell_type": "code",
   "execution_count": 18,
   "id": "902d0309-8838-4421-9a2e-19100ec5bfcf",
   "metadata": {},
   "outputs": [
    {
     "data": {
      "text/plain": [
       "4"
      ]
     },
     "execution_count": 18,
     "metadata": {},
     "output_type": "execute_result"
    }
   ],
   "source": [
    "# another way is\n",
    "len(dict.keys())"
   ]
  },
  {
   "cell_type": "markdown",
   "id": "ae2de930-46a2-4ec7-a803-f5c8d3581082",
   "metadata": {},
   "source": [
    "Max function to get the key with the highest value\n",
    "\n",
    "TASK 10: What's the key with the highest value in the dictionary?"
   ]
  },
  {
   "cell_type": "code",
   "execution_count": 19,
   "id": "ed4dc962-ce19-41d0-b392-42643796b03b",
   "metadata": {},
   "outputs": [
    {
     "data": {
      "text/plain": [
       "\"son's weight\""
      ]
     },
     "execution_count": 19,
     "metadata": {},
     "output_type": "execute_result"
    }
   ],
   "source": [
    "dict={\"son's name\": \"Lucas\", \"son's eye color\": \"green\", \"son's height\": 32, \"son's weight\": 25}\n",
    "\n",
    "max(dict)"
   ]
  },
  {
   "cell_type": "code",
   "execution_count": 20,
   "id": "df9509ea-5b65-4ba5-99b0-58939a2cae0a",
   "metadata": {},
   "outputs": [
    {
     "data": {
      "text/plain": [
       "25"
      ]
     },
     "execution_count": 20,
     "metadata": {},
     "output_type": "execute_result"
    }
   ],
   "source": [
    "# to return the value of the key with the highest value:\n",
    "dict[max(dict)]"
   ]
  },
  {
   "cell_type": "markdown",
   "id": "d84f8d5c-1296-492e-883b-e6743317811a",
   "metadata": {},
   "source": [
    "Min function to get the key with the lowest value\n",
    "\n",
    "TASK 11: What's the key with the lowest value in the dictionary?"
   ]
  },
  {
   "cell_type": "code",
   "execution_count": 21,
   "id": "13684b07-fbe3-4f39-83d7-883069ca397b",
   "metadata": {},
   "outputs": [
    {
     "data": {
      "text/plain": [
       "\"son's eye color\""
      ]
     },
     "execution_count": 21,
     "metadata": {},
     "output_type": "execute_result"
    }
   ],
   "source": [
    "dict={\"son's name\": \"Lucas\", \"son's eye color\": \"green\", \"son's height\": 32, \"son's weight\": 25}\n",
    "\n",
    "min(dict)"
   ]
  },
  {
   "cell_type": "code",
   "execution_count": 23,
   "id": "edb7857c-f93f-4915-ae35-bf8fc68361d1",
   "metadata": {},
   "outputs": [
    {
     "data": {
      "text/plain": [
       "'green'"
      ]
     },
     "execution_count": 23,
     "metadata": {},
     "output_type": "execute_result"
    }
   ],
   "source": [
    "# to return the value of the key with the lowest value:\n",
    "dict[min(dict)]"
   ]
  },
  {
   "cell_type": "code",
   "execution_count": null,
   "id": "9c5df913-353b-4c83-b3a7-7ce339c5e80d",
   "metadata": {},
   "outputs": [],
   "source": []
  }
 ],
 "metadata": {
  "kernelspec": {
   "display_name": "Python 3 (ipykernel)",
   "language": "python",
   "name": "python3"
  },
  "language_info": {
   "codemirror_mode": {
    "name": "ipython",
    "version": 3
   },
   "file_extension": ".py",
   "mimetype": "text/x-python",
   "name": "python",
   "nbconvert_exporter": "python",
   "pygments_lexer": "ipython3",
   "version": "3.9.12"
  }
 },
 "nbformat": 4,
 "nbformat_minor": 5
}

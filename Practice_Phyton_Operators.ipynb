{
 "cells": [
  {
   "cell_type": "markdown",
   "id": "6ac74db6-3e0a-40ed-ac70-8dfde8d2976f",
   "metadata": {},
   "source": [
    "# Practice Phyton operators\n",
    "\n",
    "Source : https://holypython.com/beginner-python-exercises/exercise-18-python-operators/"
   ]
  },
  {
   "cell_type": "markdown",
   "id": "d2e018da-9519-4732-856b-0f9bf71370a5",
   "metadata": {},
   "source": [
    "TASK 1: Let's start with the most basic . Assign a list of colors to the variable: [\"yellow\", \"white\", \"blue\"]"
   ]
  },
  {
   "cell_type": "code",
   "execution_count": 1,
   "id": "46ce0cb4-8f6e-44b6-b01f-8530234127ad",
   "metadata": {},
   "outputs": [
    {
     "data": {
      "text/plain": [
       "['yellow', 'white', 'blue']"
      ]
     },
     "execution_count": 1,
     "metadata": {},
     "output_type": "execute_result"
    }
   ],
   "source": [
    "lst =  [\"yellow\", \"white\", \"blue\"]\n",
    "lst"
   ]
  },
  {
   "cell_type": "markdown",
   "id": "cf20f07b-24fc-4f03-aa2d-fcdfcf3c3070",
   "metadata": {},
   "source": [
    "TASK 2: Assign division a of b to the variable"
   ]
  },
  {
   "cell_type": "code",
   "execution_count": 2,
   "id": "e7befcc7-e656-4878-a46e-7bdc21d7a4ea",
   "metadata": {},
   "outputs": [
    {
     "data": {
      "text/plain": [
       "3.3333333333333335"
      ]
     },
     "execution_count": 2,
     "metadata": {},
     "output_type": "execute_result"
    }
   ],
   "source": [
    "a=10\n",
    "b=3\n",
    "\n",
    "\n",
    "result= a/b\n",
    "result\n"
   ]
  },
  {
   "cell_type": "markdown",
   "id": "19430b71-12e0-4fc4-86bb-78613cfe698c",
   "metadata": {},
   "source": [
    "TASK 3: Add 100 to the variable using +=."
   ]
  },
  {
   "cell_type": "code",
   "execution_count": 3,
   "id": "2e15cedd-8035-40b3-aa90-dc91271db170",
   "metadata": {},
   "outputs": [
    {
     "name": "stdout",
     "output_type": "stream",
     "text": [
      "850\n"
     ]
    }
   ],
   "source": [
    "vertical_speed=750\n",
    "\n",
    "vertical_speed += 100\n",
    "print(vertical_speed)"
   ]
  },
  {
   "cell_type": "markdown",
   "id": "a71233b2-1d4c-4e00-b64e-ee7d21840547",
   "metadata": {},
   "source": [
    "TASK 4: Using modulus operator assign the remainder of 1000/400 to the variable."
   ]
  },
  {
   "cell_type": "code",
   "execution_count": 4,
   "id": "f1cce448-c440-40e9-a66d-fdad8359f367",
   "metadata": {},
   "outputs": [
    {
     "data": {
      "text/plain": [
       "200"
      ]
     },
     "execution_count": 4,
     "metadata": {},
     "output_type": "execute_result"
    }
   ],
   "source": [
    "remainder = 1000%400\n",
    "remainder"
   ]
  },
  {
   "cell_type": "markdown",
   "id": "99995e2a-4d47-43be-adf5-30c72e8e5d8d",
   "metadata": {},
   "source": [
    "TASK 5: Using power operator **, assign the square of 11111 to the variable."
   ]
  },
  {
   "cell_type": "code",
   "execution_count": 5,
   "id": "94ecbacc-f848-4dd7-8f77-104e2c4b9cad",
   "metadata": {},
   "outputs": [
    {
     "data": {
      "text/plain": [
       "123454321"
      ]
     },
     "execution_count": 5,
     "metadata": {},
     "output_type": "execute_result"
    }
   ],
   "source": [
    "power = 11111**2\n",
    "power\n"
   ]
  },
  {
   "cell_type": "markdown",
   "id": "eda4f774-05ea-47b3-b5a6-6773b1bd8147",
   "metadata": {},
   "source": [
    "TASK 6: Write a conditional statement (if else) which checks the first element in a list (index zero) and assign answer_1 to \"Yes\" if the first element is equal to \"strawberry\" else it should assign answer_1 to \"No\"."
   ]
  },
  {
   "cell_type": "code",
   "execution_count": 6,
   "id": "a603b590-7c99-464a-8259-2203a841555c",
   "metadata": {},
   "outputs": [
    {
     "data": {
      "text/plain": [
       "'No'"
      ]
     },
     "execution_count": 6,
     "metadata": {},
     "output_type": "execute_result"
    }
   ],
   "source": [
    "lst=[\"Mango\", \"Kiwi\", \"Melon\", \"Cherry\"]\n",
    "answer_1= \"\"\n",
    "\n",
    "if lst[0] == \"strawberry\":\n",
    "    answer_1 = \"Yes\"\n",
    "else:\n",
    "    answer_1 = \"No\"\n",
    "\n",
    "answer_1"
   ]
  },
  {
   "cell_type": "code",
   "execution_count": null,
   "id": "c08981ca-8175-4f9c-bc6f-f3efbbc909df",
   "metadata": {},
   "outputs": [],
   "source": []
  }
 ],
 "metadata": {
  "kernelspec": {
   "display_name": "Python 3 (ipykernel)",
   "language": "python",
   "name": "python3"
  },
  "language_info": {
   "codemirror_mode": {
    "name": "ipython",
    "version": 3
   },
   "file_extension": ".py",
   "mimetype": "text/x-python",
   "name": "python",
   "nbconvert_exporter": "python",
   "pygments_lexer": "ipython3",
   "version": "3.9.12"
  }
 },
 "nbformat": 4,
 "nbformat_minor": 5
}

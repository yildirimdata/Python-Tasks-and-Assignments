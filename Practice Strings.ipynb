{
 "cells": [
  {
   "cell_type": "markdown",
   "id": "e37a18b7-7ce3-4334-9f18-fc8408c09130",
   "metadata": {},
   "source": [
    "# STRING EXERCISES\n",
    "\n",
    "Source: https://holypython.com/beginner-python-exercises/exercise-9-python-strings/"
   ]
  },
  {
   "cell_type": "markdown",
   "id": "415b0aad-8960-4321-96ca-32b29676e51f",
   "metadata": {},
   "source": [
    "TASK 1: By using first, second and last characters of the string, create a new string."
   ]
  },
  {
   "cell_type": "code",
   "execution_count": 1,
   "id": "be7dd941-2786-4e33-b3d4-518a4a478a41",
   "metadata": {},
   "outputs": [
    {
     "data": {
      "text/plain": [
       "'It.'"
      ]
     },
     "execution_count": 1,
     "metadata": {},
     "output_type": "execute_result"
    }
   ],
   "source": [
    "str=\"It's always darkest before dawn.\"\n",
    "\n",
    "new_str = str[0]+str[1]+str[-1]\n",
    "new_str"
   ]
  },
  {
   "cell_type": "markdown",
   "id": "ed36ae12-93e3-4c1d-84af-3e472fad9f8f",
   "metadata": {},
   "source": [
    "TASK 2: Replace the (.) with (!)"
   ]
  },
  {
   "cell_type": "code",
   "execution_count": 5,
   "id": "35f4f798-6b2b-469d-8161-7c1b098debe0",
   "metadata": {},
   "outputs": [
    {
     "name": "stdout",
     "output_type": "stream",
     "text": [
      "It's always darkest before dawn!\n",
      "It's always darkest before dawn.\n"
     ]
    }
   ],
   "source": [
    "str=\"It's always darkest before dawn.\"\n",
    "\n",
    "new_str = str.replace(\".\", \"!\")\n",
    "print(new_str)\n",
    "\n",
    "# Attention: replace doesn't change str directly. if we print str again, it will return the original str.\n",
    "\n",
    "print(str)"
   ]
  },
  {
   "cell_type": "markdown",
   "id": "73f50eca-8cfc-4c1f-ae72-bb3a5f08c78c",
   "metadata": {},
   "source": [
    "TASK 3: Reassign str so that, all its characters are lowercase."
   ]
  },
  {
   "cell_type": "code",
   "execution_count": 7,
   "id": "46836005-ad38-4328-b29a-a55b7e460f7f",
   "metadata": {},
   "outputs": [
    {
     "name": "stdout",
     "output_type": "stream",
     "text": [
      "every strike brings me closer to the next home run.\n",
      "EVERY Strike Brings Me Closer to the Next Home run.\n"
     ]
    }
   ],
   "source": [
    "str=\"EVERY Strike Brings Me Closer to the Next Home run.\"\n",
    "\n",
    "print(str.lower())\n",
    "# Unless we assignt it to a new variable (or we update the str), lower() also doesn't change original str. See below\n",
    "print(str)"
   ]
  },
  {
   "cell_type": "markdown",
   "id": "4cae51be-1bec-4e9f-8ffa-53a80e511390",
   "metadata": {},
   "source": [
    "TASK 4: Now make everything uppercase."
   ]
  },
  {
   "cell_type": "code",
   "execution_count": 8,
   "id": "cb3ef803-0ca1-45b7-a48c-660430c4efe1",
   "metadata": {},
   "outputs": [
    {
     "name": "stdout",
     "output_type": "stream",
     "text": [
      "DON'T STOP ME NOW.\n"
     ]
    }
   ],
   "source": [
    "str=\"don't stop me now.\"\n",
    "\n",
    "str = str.upper()\n",
    "print(str)"
   ]
  },
  {
   "cell_type": "markdown",
   "id": "15e878ab-bb86-45ba-89b2-49fa27be7481",
   "metadata": {},
   "source": [
    "TASK 5: Make the string so that everything is properly and first letter is capital with one function."
   ]
  },
  {
   "cell_type": "code",
   "execution_count": 11,
   "id": "1c5a0c5e-89f0-47be-b5a8-7ece37045a15",
   "metadata": {},
   "outputs": [
    {
     "name": "stdout",
     "output_type": "stream",
     "text": [
      "There are no traffic jams along the extra mile.\n"
     ]
    }
   ],
   "source": [
    "str=\"there are no traffic JamS Along The extra mile.\"\n",
    "\n",
    "str = str.capitalize()\n",
    "print(str)"
   ]
  },
  {
   "cell_type": "markdown",
   "id": "951393f9-a2b4-4582-90ab-f018ecd1d32a",
   "metadata": {},
   "source": [
    "TASK 6: Does the string start with an A? Assign a boolean answer to the start variable.\n"
   ]
  },
  {
   "cell_type": "code",
   "execution_count": 12,
   "id": "54e097f6-9992-4efd-b60b-8febc9a4572b",
   "metadata": {},
   "outputs": [
    {
     "name": "stdout",
     "output_type": "stream",
     "text": [
      "False\n"
     ]
    }
   ],
   "source": [
    "str=\"There are no traffic jams along the extra mile.\"\n",
    "#  Type your code here.\n",
    "\n",
    "start = str.startswith(\"A\")\n",
    "print(start)"
   ]
  },
  {
   "cell_type": "markdown",
   "id": "558d40cb-ad2e-4166-a10c-ff7e6117babf",
   "metadata": {},
   "source": [
    "TASK 7: Does it end with a fullstop (.) ?"
   ]
  },
  {
   "cell_type": "code",
   "execution_count": 13,
   "id": "0d1465b7-5e66-4f2b-a4e0-d4eae708fdff",
   "metadata": {},
   "outputs": [
    {
     "name": "stdout",
     "output_type": "stream",
     "text": [
      "True\n"
     ]
    }
   ],
   "source": [
    "str=\"There are no traffic jams along the extra mile.\"\n",
    "\n",
    "print(str.endswith(\".\"))"
   ]
  },
  {
   "cell_type": "markdown",
   "id": "369c9d54-6162-4725-a45d-eef70f30306e",
   "metadata": {},
   "source": [
    "TASK 8: Using .index() method, identify the index of character: (v)."
   ]
  },
  {
   "cell_type": "code",
   "execution_count": 14,
   "id": "c6c2b9d6-2de7-4f7c-954a-ef5286feab8e",
   "metadata": {},
   "outputs": [
    {
     "name": "stdout",
     "output_type": "stream",
     "text": [
      "11\n"
     ]
    }
   ],
   "source": [
    "str=\"The best revenge is massive success.\"\n",
    "\n",
    "print(str.index(\"v\"))"
   ]
  },
  {
   "cell_type": "markdown",
   "id": "7e6f2f18-1b86-4a67-8527-c94e021175fb",
   "metadata": {},
   "source": [
    "TASK 9: Using .find() method, identify the index of character: (m)."
   ]
  },
  {
   "cell_type": "code",
   "execution_count": 15,
   "id": "2353cf79-e2bf-4615-838e-5dc3dc52852e",
   "metadata": {},
   "outputs": [
    {
     "name": "stdout",
     "output_type": "stream",
     "text": [
      "20\n"
     ]
    }
   ],
   "source": [
    "str=\"The best revenge is massive success.\"\n",
    "\n",
    "print(str.find(\"m\"))"
   ]
  },
  {
   "cell_type": "markdown",
   "id": "2fdc358b-4b5b-445c-b331-3d222ae6f8c7",
   "metadata": {},
   "source": [
    "TASK 10: Try to see what results you get looking for character: (X). First with .find() method and then with .index() method."
   ]
  },
  {
   "cell_type": "code",
   "execution_count": 16,
   "id": "b7420e70-9c4b-4acc-a67f-258d5fe19fb0",
   "metadata": {},
   "outputs": [
    {
     "name": "stdout",
     "output_type": "stream",
     "text": [
      "-1\n"
     ]
    },
    {
     "ename": "ValueError",
     "evalue": "substring not found",
     "output_type": "error",
     "traceback": [
      "\u001b[0;31m---------------------------------------------------------------------------\u001b[0m",
      "\u001b[0;31mValueError\u001b[0m                                Traceback (most recent call last)",
      "Input \u001b[0;32mIn [16]\u001b[0m, in \u001b[0;36m<cell line: 4>\u001b[0;34m()\u001b[0m\n\u001b[1;32m      1\u001b[0m \u001b[38;5;28mstr\u001b[39m\u001b[38;5;241m=\u001b[39m\u001b[38;5;124m\"\u001b[39m\u001b[38;5;124mThe best revenge is massive success.\u001b[39m\u001b[38;5;124m\"\u001b[39m\n\u001b[1;32m      3\u001b[0m \u001b[38;5;28mprint\u001b[39m(\u001b[38;5;28mstr\u001b[39m\u001b[38;5;241m.\u001b[39mfind(\u001b[38;5;124m\"\u001b[39m\u001b[38;5;124mX\u001b[39m\u001b[38;5;124m\"\u001b[39m))\n\u001b[0;32m----> 4\u001b[0m \u001b[38;5;28mprint\u001b[39m(\u001b[38;5;28;43mstr\u001b[39;49m\u001b[38;5;241;43m.\u001b[39;49m\u001b[43mindex\u001b[49m\u001b[43m(\u001b[49m\u001b[38;5;124;43m\"\u001b[39;49m\u001b[38;5;124;43mX\u001b[39;49m\u001b[38;5;124;43m\"\u001b[39;49m\u001b[43m)\u001b[49m)\n",
      "\u001b[0;31mValueError\u001b[0m: substring not found"
     ]
    }
   ],
   "source": [
    "str=\"The best revenge is massive success.\"\n",
    "\n",
    "print(str.find(\"X\"))\n",
    "print(str.index(\"X\"))\n",
    "\n",
    "# If the character is not included in the str, then find method returns -1, however, index method gives a value error.\n",
    "    "
   ]
  },
  {
   "cell_type": "markdown",
   "id": "202b01bf-2a9f-400a-b613-716ff30bbaf0",
   "metadata": {},
   "source": [
    "TASK 11: Which character occur more often in the string? \"a\" or \"o\" ? Print both counts inside the print function."
   ]
  },
  {
   "cell_type": "code",
   "execution_count": 19,
   "id": "2e3c2653-a8c4-465b-8f2e-665c0a968886",
   "metadata": {},
   "outputs": [
    {
     "name": "stdout",
     "output_type": "stream",
     "text": [
      "count of a is:  7  count of o is:  7\n"
     ]
    }
   ],
   "source": [
    "str=\"People often say that motivation doesn't last. Well, neither does bathing.  That's why we recommend it daily.\"\n",
    "#  Type your code here.\n",
    "\n",
    "occurrence_a= str.count(\"a\")\n",
    "\n",
    "occurrence_o= str.count(\"o\")\n",
    "\n",
    "\n",
    "print(\"count of a is: \", occurrence_a, \" count of o is: \", occurrence_o)"
   ]
  },
  {
   "cell_type": "markdown",
   "id": "887e4fc6-adfc-4a3e-854f-24215b64b301",
   "metadata": {},
   "source": [
    "TASK 12: Print the types of two given variables with the print function."
   ]
  },
  {
   "cell_type": "code",
   "execution_count": 21,
   "id": "fd421d14-7e85-4b6e-94cc-f7b50764ed4f",
   "metadata": {},
   "outputs": [
    {
     "name": "stdout",
     "output_type": "stream",
     "text": [
      "<class 'str'>\n",
      "<class 'int'>\n"
     ]
    }
   ],
   "source": [
    "v_1=\"1\"\n",
    "v_2=1\n",
    "\n",
    "print(type(v_1), type(v_2), sep = \"\\n\")  # we changed the separator from space to new line\n"
   ]
  },
  {
   "cell_type": "markdown",
   "id": "31d4038f-1e35-4afd-9ea7-44db0aa07049",
   "metadata": {},
   "source": [
    "TASK 13: What is the length of the given string?"
   ]
  },
  {
   "cell_type": "code",
   "execution_count": 22,
   "id": "5aec15b4-8597-4462-925d-84c9175352f2",
   "metadata": {},
   "outputs": [
    {
     "name": "stdout",
     "output_type": "stream",
     "text": [
      "9\n"
     ]
    }
   ],
   "source": [
    "str=\"1.975.000\"\n",
    "\n",
    "print(len(str))"
   ]
  },
  {
   "cell_type": "code",
   "execution_count": null,
   "id": "8f483ada-4cc3-4729-81f4-09328bfd774c",
   "metadata": {},
   "outputs": [],
   "source": []
  }
 ],
 "metadata": {
  "kernelspec": {
   "display_name": "Python 3 (ipykernel)",
   "language": "python",
   "name": "python3"
  },
  "language_info": {
   "codemirror_mode": {
    "name": "ipython",
    "version": 3
   },
   "file_extension": ".py",
   "mimetype": "text/x-python",
   "name": "python",
   "nbconvert_exporter": "python",
   "pygments_lexer": "ipython3",
   "version": "3.9.12"
  }
 },
 "nbformat": 4,
 "nbformat_minor": 5
}

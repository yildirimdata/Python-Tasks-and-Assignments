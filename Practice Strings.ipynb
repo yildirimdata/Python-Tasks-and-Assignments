{
 "cells": [
  {
   "cell_type": "markdown",
   "id": "e37a18b7-7ce3-4334-9f18-fc8408c09130",
   "metadata": {},
   "source": [
    "# STRING EXERCISES\n",
    "\n",
    "Source: https://holypython.com/beginner-python-exercises/exercise-9-python-strings/"
   ]
  },
  {
   "cell_type": "code",
   "execution_count": null,
   "id": "8bca48e1-fd63-410f-9706-65f457d9347d",
   "metadata": {},
   "outputs": [],
   "source": []
  }
 ],
 "metadata": {
  "kernelspec": {
   "display_name": "Python 3 (ipykernel)",
   "language": "python",
   "name": "python3"
  },
  "language_info": {
   "codemirror_mode": {
    "name": "ipython",
    "version": 3
   },
   "file_extension": ".py",
   "mimetype": "text/x-python",
   "name": "python",
   "nbconvert_exporter": "python",
   "pygments_lexer": "ipython3",
   "version": "3.9.12"
  }
 },
 "nbformat": 4,
 "nbformat_minor": 5
}

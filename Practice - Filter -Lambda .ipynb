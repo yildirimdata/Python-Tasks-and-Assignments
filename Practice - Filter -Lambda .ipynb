{
 "cells": [
  {
   "cell_type": "markdown",
   "id": "864d3ceb-2c90-422a-9403-e800f3f93f9f",
   "metadata": {},
   "source": [
    "Note: This tasks are taken from holypython website: https://holypython.com/intermediate-python-exercises/exercise-14-python-filter-function/"
   ]
  },
  {
   "cell_type": "code",
   "execution_count": null,
   "id": "0b87f0af-853f-4326-8918-a591308d751c",
   "metadata": {},
   "outputs": [],
   "source": []
  },
  {
   "cell_type": "code",
   "execution_count": 1,
   "id": "d4a0f9aa-dd99-4507-9fbe-15457e08c564",
   "metadata": {},
   "outputs": [
    {
     "name": "stdout",
     "output_type": "stream",
     "text": [
      "[-1, -0.5, -0.2, -100]\n"
     ]
    }
   ],
   "source": [
    "# TASK 1: Using filter() function filter the list so that only negative numbers are left.\n",
    "\n",
    "lst1=[12, -1, 9, 8, -0.5, -0.2, -100]\n",
    "#Type your answer below.\n",
    "\n",
    "\n",
    "lst2 = list(filter(lambda x: x<0, lst1))\n",
    "\n",
    "print(lst2)"
   ]
  },
  {
   "cell_type": "code",
   "execution_count": 2,
   "id": "85bd7448-94e2-43dd-b05a-0409f0701253",
   "metadata": {},
   "outputs": [
    {
     "name": "stdout",
     "output_type": "stream",
     "text": [
      "[19, 13, 11, 1]\n"
     ]
    }
   ],
   "source": [
    "# TASK 2: Using filter function, filter the even numbers so that only odd numbers are passed to the new list.\n",
    "\n",
    "lst1=[22, 100, 19, 13, 11, 1, 4, 66]\n",
    "#Type your answer below.\n",
    "\n",
    "lst2= list(filter(lambda x: x if x%2 else False, lst1)) \n",
    "\n",
    "print(lst2)"
   ]
  },
  {
   "cell_type": "code",
   "execution_count": 3,
   "id": "2a0fa584-768a-4ef9-b238-2127305d229c",
   "metadata": {},
   "outputs": [
    {
     "name": "stdout",
     "output_type": "stream",
     "text": [
      "['i', 'e', 'O', 'i', 'i', 'i', 'a', 'e', 'a', 'e', 'i', 'e', 'i', 'i', 'i', 'a']\n"
     ]
    }
   ],
   "source": [
    "# TASK 3: Using filter() and list() functions and .lower() method filter all the vowels in a given string.\n",
    "\n",
    "str1=\"Winter Olympics in 2022 will take place in Beijing China\"\n",
    "#Type your answer below.\n",
    "\n",
    "vowels = [\"a\",\"e\",\"i\",\"o\",\"u\"]\n",
    "\n",
    "lst= list(filter(lambda x: x if x.lower() in vowels else False, str1))\n",
    "\n",
    "print(lst)"
   ]
  },
  {
   "cell_type": "code",
   "execution_count": 4,
   "id": "c649008c-8d71-4351-8583-efa62aba64ac",
   "metadata": {},
   "outputs": [
    {
     "name": "stdout",
     "output_type": "stream",
     "text": [
      "['2', '0', '2', '2']\n"
     ]
    }
   ],
   "source": [
    "# This time using filter() and list() functions filter all the positive integers in the string.\n",
    "str1=\"Winter Olympics in 2022 will take place in Beijing China\"\n",
    "\n",
    "\n",
    "lst = list(filter(lambda x: x if x.isdigit() else False, str1))\n",
    "\n",
    "print(lst)"
   ]
  },
  {
   "cell_type": "code",
   "execution_count": 14,
   "id": "2d4c38d8-23a6-4784-b678-5d8b6e59f244",
   "metadata": {},
   "outputs": [
    {
     "data": {
      "text/plain": [
       "[3000, 2500, 2600, 2700, 7000]"
      ]
     },
     "execution_count": 14,
     "metadata": {},
     "output_type": "execute_result"
    }
   ],
   "source": [
    "# TASK 5: Using map() and filter() functions add 2000 to the values below 8000.\n",
    "\n",
    "lst1=[1000, 500, 600, 700, 5000, 90000, 17500]\n",
    "#Type your answer below.\n",
    "\n",
    "lst2= list(map(lambda x: x+2000, filter(lambda x: x<8000, lst1)))\n",
    "\n",
    "lst2"
   ]
  },
  {
   "cell_type": "code",
   "execution_count": 17,
   "id": "f008b47a-027f-4f4d-a623-2a795815bc0b",
   "metadata": {},
   "outputs": [
    {
     "data": {
      "text/plain": [
       "[1000, 600, 90000, 17500]"
      ]
     },
     "execution_count": 17,
     "metadata": {},
     "output_type": "execute_result"
    }
   ],
   "source": [
    "# TASK 6: This time swap the map() and filter() functions so that map() function is inside filter() function. \n",
    "# Convert a number to positive if it's negative in the list. \n",
    "# Only pass those that are converted from negative to positive to the new list.\n",
    "\n",
    "lst1=[-1000, 500, -600, 700, 5000, -90000, -17500]\n",
    "#Type your answer below.\n",
    "\n",
    "lst2 = list(filter(lambda x: True if x>0 else False, map(lambda x: x*-1, lst1)))\n",
    "\n",
    "lst2"
   ]
  },
  {
   "cell_type": "code",
   "execution_count": 18,
   "id": "cc2e5e69-bd8e-469d-b46d-811f57736917",
   "metadata": {},
   "outputs": [
    {
     "name": "stdout",
     "output_type": "stream",
     "text": [
      "[1000, 600, 90000, 17500]\n"
     ]
    }
   ],
   "source": [
    "# We can also solve this task by using filter function in map function. \n",
    "lst1=[-1000, 500, -600, 700, 5000, -90000, -17500]\n",
    "lst2 = list(map(lambda x: -x, filter(lambda x: x<0, lst1)))\n",
    "print(lst2)"
   ]
  },
  {
   "cell_type": "code",
   "execution_count": null,
   "id": "698858e1-27eb-493a-bd74-0f2b0d8f316e",
   "metadata": {},
   "outputs": [],
   "source": []
  }
 ],
 "metadata": {
  "kernelspec": {
   "display_name": "Python 3 (ipykernel)",
   "language": "python",
   "name": "python3"
  },
  "language_info": {
   "codemirror_mode": {
    "name": "ipython",
    "version": 3
   },
   "file_extension": ".py",
   "mimetype": "text/x-python",
   "name": "python",
   "nbconvert_exporter": "python",
   "pygments_lexer": "ipython3",
   "version": "3.9.12"
  }
 },
 "nbformat": 4,
 "nbformat_minor": 5
}

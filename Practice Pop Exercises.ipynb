{
 "cells": [
  {
   "cell_type": "markdown",
   "id": "b0c7d478-49cb-47df-8d52-1db80bd6b8f0",
   "metadata": {},
   "source": [
    "# Practice - POP Exercises\n",
    "\n",
    "Source : https://holypython.com/beginner-python-exercises/exercise-12-pop-method/"
   ]
  },
  {
   "cell_type": "markdown",
   "id": "24f76af4-41d9-4b40-ad8b-6a74193b308f",
   "metadata": {},
   "source": [
    "TASK 1: Pop the last item of the list below."
   ]
  },
  {
   "cell_type": "code",
   "execution_count": 3,
   "id": "74410d9f-8952-438d-9d48-92a571b315e1",
   "metadata": {},
   "outputs": [
    {
     "name": "stdout",
     "output_type": "stream",
     "text": [
      "999\n",
      "[11, 100, 99, 1000]\n"
     ]
    }
   ],
   "source": [
    "lst=[11, 100, 99, 1000, 999]\n",
    "popped_item = lst.pop()\n",
    "\n",
    "print(popped_item)\n",
    "print(lst)"
   ]
  },
  {
   "cell_type": "markdown",
   "id": "a210472b-c168-4310-b258-272d4ef61f6b",
   "metadata": {},
   "source": [
    "TASK 2: Remove \"broccoli\" from the list using .pop and .index methods."
   ]
  },
  {
   "cell_type": "code",
   "execution_count": 6,
   "id": "3678c313-8217-442c-97c5-ced2ba2c95b9",
   "metadata": {},
   "outputs": [
    {
     "data": {
      "text/plain": [
       "'broccoli'"
      ]
     },
     "execution_count": 6,
     "metadata": {},
     "output_type": "execute_result"
    }
   ],
   "source": [
    "lst=[\"milk\", \"banana\", \"eggs\", \"bread\", \"broccoli\", \"lemons\"]\n",
    "\n",
    "lst.index(\"broccoli\")\n",
    "item = lst.pop(lst.index(\"broccoli\"))\n",
    "item"
   ]
  },
  {
   "cell_type": "markdown",
   "id": "d9531cb8-68d9-48e3-9c0f-cd5086a28775",
   "metadata": {},
   "source": [
    "TASK 3: Save Italy's GDP in a separate variable and remove it from the dictionary."
   ]
  },
  {
   "cell_type": "code",
   "execution_count": 8,
   "id": "fc1333ad-284a-4d50-b69d-19dfd52c2e73",
   "metadata": {},
   "outputs": [
    {
     "name": "stdout",
     "output_type": "stream",
     "text": [
      "{'US': 21, 'China': 16, 'Japan': 5, 'Germany': 4, 'India': 3, 'France': 3, 'UK': 3}\n"
     ]
    }
   ],
   "source": [
    "GDP_2018={\"US\": 21, \"China\": 16, \"Japan\": 5, \"Germany\": 4, \"India\": 3, \"France\": 3, \"UK\": 3, \"Italy\": 2}\n",
    "\n",
    "\n",
    "italy_gdp= GDP_2018.pop(\"Italy\")\n",
    "\n",
    "\n",
    "print(GDP_2018)"
   ]
  },
  {
   "cell_type": "code",
   "execution_count": null,
   "id": "1799988b-328b-444f-bab2-ee2f1fb9c5a8",
   "metadata": {},
   "outputs": [],
   "source": []
  }
 ],
 "metadata": {
  "kernelspec": {
   "display_name": "Python 3 (ipykernel)",
   "language": "python",
   "name": "python3"
  },
  "language_info": {
   "codemirror_mode": {
    "name": "ipython",
    "version": 3
   },
   "file_extension": ".py",
   "mimetype": "text/x-python",
   "name": "python",
   "nbconvert_exporter": "python",
   "pygments_lexer": "ipython3",
   "version": "3.9.12"
  }
 },
 "nbformat": 4,
 "nbformat_minor": 5
}

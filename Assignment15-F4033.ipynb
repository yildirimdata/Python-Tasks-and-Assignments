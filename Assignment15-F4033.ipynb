{
 "cells": [
  {
   "cell_type": "markdown",
   "id": "164ce893-f5d8-4f95-9264-d2c492154740",
   "metadata": {},
   "source": [
    "Task : Print the prime numbers which are between 1 to entered limit number (n).\n",
    "\n",
    "You can use a nested for loop.\n",
    "Collect all these numbers into a list\n",
    "The desired output for n=100 :\n",
    "\n",
    "[2, 3, 5, 7, 11, 13, 17, 19, 23, 29, 31, 37, 41, 43, 47, 53, 59,\n",
    "61, 67, 71, 73, 79, 83, 89, 97]"
   ]
  },
  {
   "cell_type": "code",
   "execution_count": 37,
   "id": "168c5ac6-65e0-40ba-9a00-1f03b156ea78",
   "metadata": {},
   "outputs": [
    {
     "name": "stdin",
     "output_type": "stream",
     "text": [
      "Enter a number to create a list of prime numbers from 1 to that number:  100\n"
     ]
    },
    {
     "name": "stdout",
     "output_type": "stream",
     "text": [
      "[2, 3, 5, 7, 11, 13, 17, 19, 23, 29, 31, 37, 41, 43, 47, 53, 59, 61, 67, 71, 73, 79, 83, 89, 97]\n"
     ]
    }
   ],
   "source": [
    "# I first get a number from the user and convert it to the int.\n",
    "n = int(input(\"Enter a number to create a list of prime numbers from 1 to that number: \"))\n",
    "\n",
    "prime=[]  # I created an empty list to collect prime numbers in it\n",
    "\n",
    "# then I set a nested for loop. Since the first prime number is 2, I start the numbers\n",
    "# from 2 to n+1. \n",
    "for num in range(2, n):\n",
    "    status = True  # to continue the loop I set a variable called status (T or F)\n",
    "    for i in range(2, num):  # this is the number that I'll use to check with modulus\n",
    "        if num % i == 0: # This condition checks whether the only numbers that divide our numbers 1 and itself or not\n",
    "            status = False  # if status is False, it's not a prime number.\n",
    "    if status:  # But if it's true (status) this means it's a prime number\n",
    "        prime.append(num)  # This line adds prime numbers in the list\n",
    "\n",
    "print(prime)"
   ]
  },
  {
   "cell_type": "markdown",
   "id": "a2daf8c6-0f78-4817-ac69-3fb07a82c3d2",
   "metadata": {},
   "source": [
    "Domain knowledge sonucu başka bir yönteme daha rastladım: Aciklamasi:\n",
    "**Eratosthenes Kalburu** iki sayı arasındaki asal sayıları bulmak için kullanışlı ve basit bir yöntem:\n",
    "\n",
    "1’e asal sayı olmadığı için çarpı işareti koyun.\n",
    "2’yi bir asal sayı olduğu için daire içine alın, daha sonra 2’nin tüm katlarına çarpı işareti koyun.\n",
    "3’ü de daire içine alın ve katlarına da çarpı işareti koyun.\n",
    "5’i daire içinde alın ve katlarına da çarpı işareti koyun.\n",
    "100’e kadar olan tüm sayılara bu işlemi uygularsanız, 100’e kadar olan asal sayıları bulursunuz. Bulduğunuz asallarla 1000’e kadar olanları, onlarla 1.000.000’a kadar olanları da bulursunuz ve bu sonsuza kadar gider. Bu yönteme Eratosthenes’in Kalburu denir.\n",
    "\n",
    "if conditionlarla bu yöntemi kolaylıkla uygulayabiliriz:"
   ]
  },
  {
   "cell_type": "code",
   "execution_count": 45,
   "id": "a45c7f18-b640-4f65-9b98-28763644f7e5",
   "metadata": {},
   "outputs": [
    {
     "name": "stdout",
     "output_type": "stream",
     "text": [
      "[2, 3, 5, 7, 11, 13, 17, 19, 23, 29, 31, 37, 41, 43, 47, 49, 53, 59, 61, 67, 71, 73, 77, 79, 83, 89, 91, 97]\n"
     ]
    }
   ],
   "source": [
    "# 2,3,5i direkt içine alacagim ve onların katları dışındakileri formulle elde edecegim.\n",
    "# biraz kullanissiz bir yontem ama emek ve vakit bosa gitmemis olsun :)\n",
    "n = 100\n",
    "prime_list = [2,3,5]\n",
    "for i in range(6,n+1):\n",
    "    if i%2 and i%3 and i%5:\n",
    "        prime_list.append(i)\n",
    "print(prime_list)"
   ]
  },
  {
   "cell_type": "code",
   "execution_count": 51,
   "id": "0a5187e7-2315-49a2-a5e1-c1628f3f771a",
   "metadata": {},
   "outputs": [
    {
     "name": "stdout",
     "output_type": "stream",
     "text": [
      "[2, 3, 5, 7, 11, 13, 17, 19, 23, 29, 31, 37, 41, 43, 47, 49, 53, 59, 61, 67, 71, 73, 77, 79, 83, 89, 91, 97] "
     ]
    }
   ],
   "source": [
    "# bu da Eratosthenes Kalburu yonteminin tek satir ifade edilmis hali\n",
    "aaa = [i for i in range(6, 101) if i%2!=0 and i%3!=0 and i%5!=0]\n",
    "prime_list = [2,3,5] + aaa \n",
    "print(prime_list, end= \" \")"
   ]
  },
  {
   "cell_type": "code",
   "execution_count": null,
   "id": "6c0e3866-dfbb-4f07-9f53-48f46cc8dcc3",
   "metadata": {},
   "outputs": [],
   "source": []
  }
 ],
 "metadata": {
  "kernelspec": {
   "display_name": "Python 3 (ipykernel)",
   "language": "python",
   "name": "python3"
  },
  "language_info": {
   "codemirror_mode": {
    "name": "ipython",
    "version": 3
   },
   "file_extension": ".py",
   "mimetype": "text/x-python",
   "name": "python",
   "nbconvert_exporter": "python",
   "pygments_lexer": "ipython3",
   "version": "3.9.12"
  }
 },
 "nbformat": 4,
 "nbformat_minor": 5
}
